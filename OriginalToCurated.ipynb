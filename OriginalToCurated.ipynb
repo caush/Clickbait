{
 "cells": [
  {
   "cell_type": "markdown",
   "metadata": {},
   "source": [
    "# Mise en forme des données"
   ]
  },
  {
   "cell_type": "markdown",
   "metadata": {},
   "source": [
    "Ici on prend les données original et on les mets dans currated"
   ]
  },
  {
   "cell_type": "code",
   "execution_count": 1,
   "metadata": {},
   "outputs": [],
   "source": [
    "import pandas as pd\n",
    "import numpy as np"
   ]
  },
  {
   "cell_type": "markdown",
   "metadata": {},
   "source": []
  },
  {
   "cell_type": "code",
   "execution_count": 28,
   "metadata": {},
   "outputs": [],
   "source": [
    "# Répertoire des données d'origine.\n",
    "\n",
    "dataOriginalPath = 'Data/Original/'\n",
    "dataTrainX = dataOriginalPath +'clickbait17-train-170630/instances.jsonl'\n",
    "dataTrainY = dataOriginalPath +'clickbait17-train-170630/truth.jsonl'\n",
    "dataTestX = dataOriginalPath +'clickbait17-test-170720/instances.jsonl'\n",
    "dataTestY = dataOriginalPath +'clickbait17-test-170720/truth.jsonl'\n",
    "\n",
    "# Le dataset va être sauvegardé là (on conserve tous les sites à cette étape du calcul) :\n",
    "dataCuratedPath = 'Data/Curated/'\n",
    "LCfraction = 'Fraction'"
   ]
  },
  {
   "cell_type": "code",
   "execution_count": 24,
   "metadata": {},
   "outputs": [
    {
     "data": {
      "text/plain": [
       "'Data/Original/clickbait17-train-170630/instances.jsonl'"
      ]
     },
     "execution_count": 24,
     "metadata": {},
     "output_type": "execute_result"
    }
   ],
   "source": [
    "dataTrainX"
   ]
  },
  {
   "cell_type": "code",
   "execution_count": 30,
   "metadata": {},
   "outputs": [],
   "source": [
    "pdoTrainX=pd.read_json(dataTrainX, lines = True)"
   ]
  },
  {
   "cell_type": "code",
   "execution_count": 31,
   "metadata": {},
   "outputs": [],
   "source": [
    "pdoTrainY=pd.read_json(dataTrainY, lines = True)"
   ]
  },
  {
   "cell_type": "code",
   "execution_count": 32,
   "metadata": {},
   "outputs": [
    {
     "data": {
      "text/html": [
       "<div>\n",
       "<style scoped>\n",
       "    .dataframe tbody tr th:only-of-type {\n",
       "        vertical-align: middle;\n",
       "    }\n",
       "\n",
       "    .dataframe tbody tr th {\n",
       "        vertical-align: top;\n",
       "    }\n",
       "\n",
       "    .dataframe thead th {\n",
       "        text-align: right;\n",
       "    }\n",
       "</style>\n",
       "<table border=\"1\" class=\"dataframe\">\n",
       "  <thead>\n",
       "    <tr style=\"text-align: right;\">\n",
       "      <th></th>\n",
       "      <th>truthJudgments</th>\n",
       "      <th>truthMean</th>\n",
       "      <th>id</th>\n",
       "      <th>truthClass</th>\n",
       "      <th>truthMedian</th>\n",
       "      <th>truthMode</th>\n",
       "    </tr>\n",
       "  </thead>\n",
       "  <tbody>\n",
       "    <tr>\n",
       "      <th>0</th>\n",
       "      <td>[1.0, 1.0, 1.0, 1.0, 1.0]</td>\n",
       "      <td>1.000000</td>\n",
       "      <td>858464162594172928</td>\n",
       "      <td>clickbait</td>\n",
       "      <td>1.000000</td>\n",
       "      <td>1.000000</td>\n",
       "    </tr>\n",
       "    <tr>\n",
       "      <th>1</th>\n",
       "      <td>[0.33333333330000003, 0.0, 0.33333333330000003...</td>\n",
       "      <td>0.133333</td>\n",
       "      <td>858462320779026432</td>\n",
       "      <td>no-clickbait</td>\n",
       "      <td>0.000000</td>\n",
       "      <td>0.000000</td>\n",
       "    </tr>\n",
       "    <tr>\n",
       "      <th>2</th>\n",
       "      <td>[0.33333333330000003, 0.6666666666000001, 1.0,...</td>\n",
       "      <td>0.400000</td>\n",
       "      <td>858460992073863168</td>\n",
       "      <td>no-clickbait</td>\n",
       "      <td>0.333333</td>\n",
       "      <td>0.000000</td>\n",
       "    </tr>\n",
       "    <tr>\n",
       "      <th>3</th>\n",
       "      <td>[0.0, 0.6666666666000001, 0.0, 0.3333333333000...</td>\n",
       "      <td>0.266667</td>\n",
       "      <td>858459539296980992</td>\n",
       "      <td>no-clickbait</td>\n",
       "      <td>0.333333</td>\n",
       "      <td>0.333333</td>\n",
       "    </tr>\n",
       "    <tr>\n",
       "      <th>4</th>\n",
       "      <td>[0.0, 0.0, 0.0, 0.0, 0.0]</td>\n",
       "      <td>0.000000</td>\n",
       "      <td>858455355948384256</td>\n",
       "      <td>no-clickbait</td>\n",
       "      <td>0.000000</td>\n",
       "      <td>0.000000</td>\n",
       "    </tr>\n",
       "    <tr>\n",
       "      <th>...</th>\n",
       "      <td>...</td>\n",
       "      <td>...</td>\n",
       "      <td>...</td>\n",
       "      <td>...</td>\n",
       "      <td>...</td>\n",
       "      <td>...</td>\n",
       "    </tr>\n",
       "    <tr>\n",
       "      <th>19533</th>\n",
       "      <td>[0.0, 0.6666666666000001, 0.0, 0.0, 0.0]</td>\n",
       "      <td>0.133333</td>\n",
       "      <td>804126501117435904</td>\n",
       "      <td>no-clickbait</td>\n",
       "      <td>0.000000</td>\n",
       "      <td>0.000000</td>\n",
       "    </tr>\n",
       "    <tr>\n",
       "      <th>19534</th>\n",
       "      <td>[0.0, 0.0, 0.0, 0.33333333330000003, 0.0]</td>\n",
       "      <td>0.066667</td>\n",
       "      <td>804123103995580416</td>\n",
       "      <td>no-clickbait</td>\n",
       "      <td>0.000000</td>\n",
       "      <td>0.000000</td>\n",
       "    </tr>\n",
       "    <tr>\n",
       "      <th>19535</th>\n",
       "      <td>[0.6666666666000001, 0.6666666666000001, 0.0, ...</td>\n",
       "      <td>0.333333</td>\n",
       "      <td>804121272967983104</td>\n",
       "      <td>no-clickbait</td>\n",
       "      <td>0.333333</td>\n",
       "      <td>0.000000</td>\n",
       "    </tr>\n",
       "    <tr>\n",
       "      <th>19536</th>\n",
       "      <td>[1.0, 0.0, 0.6666666666000001, 1.0, 1.0]</td>\n",
       "      <td>0.733333</td>\n",
       "      <td>804119512010424320</td>\n",
       "      <td>clickbait</td>\n",
       "      <td>1.000000</td>\n",
       "      <td>1.000000</td>\n",
       "    </tr>\n",
       "    <tr>\n",
       "      <th>19537</th>\n",
       "      <td>[0.0, 0.0, 0.0, 0.33333333330000003, 0.0]</td>\n",
       "      <td>0.066667</td>\n",
       "      <td>804113781580328960</td>\n",
       "      <td>no-clickbait</td>\n",
       "      <td>0.000000</td>\n",
       "      <td>0.000000</td>\n",
       "    </tr>\n",
       "  </tbody>\n",
       "</table>\n",
       "<p>19538 rows × 6 columns</p>\n",
       "</div>"
      ],
      "text/plain": [
       "                                          truthJudgments  truthMean  \\\n",
       "0                              [1.0, 1.0, 1.0, 1.0, 1.0]   1.000000   \n",
       "1      [0.33333333330000003, 0.0, 0.33333333330000003...   0.133333   \n",
       "2      [0.33333333330000003, 0.6666666666000001, 1.0,...   0.400000   \n",
       "3      [0.0, 0.6666666666000001, 0.0, 0.3333333333000...   0.266667   \n",
       "4                              [0.0, 0.0, 0.0, 0.0, 0.0]   0.000000   \n",
       "...                                                  ...        ...   \n",
       "19533           [0.0, 0.6666666666000001, 0.0, 0.0, 0.0]   0.133333   \n",
       "19534          [0.0, 0.0, 0.0, 0.33333333330000003, 0.0]   0.066667   \n",
       "19535  [0.6666666666000001, 0.6666666666000001, 0.0, ...   0.333333   \n",
       "19536           [1.0, 0.0, 0.6666666666000001, 1.0, 1.0]   0.733333   \n",
       "19537          [0.0, 0.0, 0.0, 0.33333333330000003, 0.0]   0.066667   \n",
       "\n",
       "                       id    truthClass  truthMedian  truthMode  \n",
       "0      858464162594172928     clickbait     1.000000   1.000000  \n",
       "1      858462320779026432  no-clickbait     0.000000   0.000000  \n",
       "2      858460992073863168  no-clickbait     0.333333   0.000000  \n",
       "3      858459539296980992  no-clickbait     0.333333   0.333333  \n",
       "4      858455355948384256  no-clickbait     0.000000   0.000000  \n",
       "...                   ...           ...          ...        ...  \n",
       "19533  804126501117435904  no-clickbait     0.000000   0.000000  \n",
       "19534  804123103995580416  no-clickbait     0.000000   0.000000  \n",
       "19535  804121272967983104  no-clickbait     0.333333   0.000000  \n",
       "19536  804119512010424320     clickbait     1.000000   1.000000  \n",
       "19537  804113781580328960  no-clickbait     0.000000   0.000000  \n",
       "\n",
       "[19538 rows x 6 columns]"
      ]
     },
     "execution_count": 32,
     "metadata": {},
     "output_type": "execute_result"
    }
   ],
   "source": [
    "pdoTrainY"
   ]
  },
  {
   "cell_type": "code",
   "execution_count": 33,
   "metadata": {},
   "outputs": [
    {
     "ename": "NameError",
     "evalue": "name 'ds' is not defined",
     "output_type": "error",
     "traceback": [
      "\u001b[1;31m---------------------------------------------------------------------------\u001b[0m",
      "\u001b[1;31mNameError\u001b[0m                                 Traceback (most recent call last)",
      "\u001b[1;32mc:\\Users\\herve\\Documents\\Clickbait\\OriginalToCurated.ipynb Cell 10'\u001b[0m in \u001b[0;36m<cell line: 2>\u001b[1;34m()\u001b[0m\n\u001b[0;32m      <a href='vscode-notebook-cell:/c%3A/Users/herve/Documents/Clickbait/OriginalToCurated.ipynb#ch0000014?line=0'>1</a>\u001b[0m \u001b[39m# Il faut convertir le résultat sous forme de dataset\u001b[39;00m\n\u001b[1;32m----> <a href='vscode-notebook-cell:/c%3A/Users/herve/Documents/Clickbait/OriginalToCurated.ipynb#ch0000014?line=1'>2</a>\u001b[0m curated \u001b[39m=\u001b[39m ds\u001b[39m.\u001b[39mDataset\u001b[39m.\u001b[39mfrom_pandas(pdo2)\n",
      "\u001b[1;31mNameError\u001b[0m: name 'ds' is not defined"
     ]
    }
   ],
   "source": [
    "# Il faut convertir le résultat sous forme de dataset\n",
    "curated = ds.Dataset.from_pandas(pdo2) #, preserve_index=False)"
   ]
  },
  {
   "cell_type": "code",
   "execution_count": 34,
   "metadata": {},
   "outputs": [
    {
     "ename": "NameError",
     "evalue": "name 'curated' is not defined",
     "output_type": "error",
     "traceback": [
      "\u001b[1;31m---------------------------------------------------------------------------\u001b[0m",
      "\u001b[1;31mNameError\u001b[0m                                 Traceback (most recent call last)",
      "\u001b[1;32mc:\\Users\\herve\\Documents\\Clickbait\\OriginalToCurated.ipynb Cell 11'\u001b[0m in \u001b[0;36m<cell line: 1>\u001b[1;34m()\u001b[0m\n\u001b[1;32m----> <a href='vscode-notebook-cell:/c%3A/Users/herve/Documents/Clickbait/OriginalToCurated.ipynb#ch0000015?line=0'>1</a>\u001b[0m curated\u001b[39m.\u001b[39mtrain_test_split(\u001b[39m0.2\u001b[39m)\n",
      "\u001b[1;31mNameError\u001b[0m: name 'curated' is not defined"
     ]
    }
   ],
   "source": [
    "curated.train_test_split(0.2)"
   ]
  },
  {
   "cell_type": "code",
   "execution_count": 35,
   "metadata": {},
   "outputs": [
    {
     "ename": "NameError",
     "evalue": "name 'curated' is not defined",
     "output_type": "error",
     "traceback": [
      "\u001b[1;31m---------------------------------------------------------------------------\u001b[0m",
      "\u001b[1;31mNameError\u001b[0m                                 Traceback (most recent call last)",
      "\u001b[1;32mc:\\Users\\herve\\Documents\\Clickbait\\OriginalToCurated.ipynb Cell 12'\u001b[0m in \u001b[0;36m<cell line: 1>\u001b[1;34m()\u001b[0m\n\u001b[1;32m----> <a href='vscode-notebook-cell:/c%3A/Users/herve/Documents/Clickbait/OriginalToCurated.ipynb#ch0000016?line=0'>1</a>\u001b[0m curated\u001b[39m.\u001b[39minfo\u001b[39m.\u001b[39mdescription \u001b[39m=\u001b[39m \u001b[39m\"\u001b[39m\u001b[39mQuebecTop clicmeter\u001b[39m\u001b[39m\"\u001b[39m\n\u001b[0;32m      <a href='vscode-notebook-cell:/c%3A/Users/herve/Documents/Clickbait/OriginalToCurated.ipynb#ch0000016?line=1'>2</a>\u001b[0m curated\u001b[39m.\u001b[39minfo\u001b[39m.\u001b[39mversion \u001b[39m=\u001b[39m \u001b[39m\"\u001b[39m\u001b[39m0.3.0\u001b[39m\u001b[39m\"\u001b[39m\n\u001b[0;32m      <a href='vscode-notebook-cell:/c%3A/Users/herve/Documents/Clickbait/OriginalToCurated.ipynb#ch0000016?line=2'>3</a>\u001b[0m curated\u001b[39m.\u001b[39minfo\u001b[39m.\u001b[39msupervised_keys \u001b[39m=\u001b[39m [LCfraction]\n",
      "\u001b[1;31mNameError\u001b[0m: name 'curated' is not defined"
     ]
    }
   ],
   "source": [
    "curated.info.description = \"QuebecTop clicmeter\"\n",
    "curated.info.version = \"0.3.0\"\n",
    "curated.info.supervised_keys = [LCfraction]\n",
    "curated.save_to_disk(dataCuratedPath)"
   ]
  },
  {
   "cell_type": "code",
   "execution_count": null,
   "metadata": {},
   "outputs": [],
   "source": []
  }
 ],
 "metadata": {
  "interpreter": {
   "hash": "518d7075d1893c878292e2224ccc1059d061275fbe8ab229c7a260871a84e0e1"
  },
  "kernelspec": {
   "display_name": "Python 3.9.7 ('PytorchGPU')",
   "language": "python",
   "name": "python3"
  },
  "language_info": {
   "codemirror_mode": {
    "name": "ipython",
    "version": 3
   },
   "file_extension": ".py",
   "mimetype": "text/x-python",
   "name": "python",
   "nbconvert_exporter": "python",
   "pygments_lexer": "ipython3",
   "version": "3.9.7"
  },
  "orig_nbformat": 4
 },
 "nbformat": 4,
 "nbformat_minor": 2
}
