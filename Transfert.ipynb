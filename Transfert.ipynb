{
 "cells": [
  {
   "cell_type": "code",
   "execution_count": 1,
   "metadata": {},
   "outputs": [],
   "source": [
    "modelPath = \"Clickbait\"\n",
    "checkpoint = \"microsoft/Multilingual-MiniLM-L12-H384\"\n",
    "                                              # \"cmarkea/distilcamembert-base-sentiment\"\n",
    "                                              # \"cmarkea/distilcamembert-base\" (accuracy=0,69)\n",
    "                                              # \"camembert-base\"\n",
    "                                              # \"microsoft/Multilingual-MiniLM-L12-H384\" (accuracy=0,64)\n",
    "                                              # \"nlptown/bert-base-multilingual-uncased-sentiment\"\n",
    "                                              # \"distilbert-base-uncased-finetuned-sst-2-english\"\n",
    "                                              # \"bert-base-uncased\"\n",
    "problem_type =  \"single_label_classification\" # Valeurs possibles : \"regression\", \"single_label_classification\", \"multi_label_classification\"\n",
    "num_labels = 2                                # 5\n",
    "dataCuratedPath = \"Data/Curated\"              # Données pour tous les sites du 1er janvier 2021 au 30 avril 2021\n",
    "                                              # Données juste pour le site \"Actualités, trucs et astuces\" entre le 1er mai et le 31 juillet 2021.\n",
    "                                              # Les colonnes sont les suivantes, séparées par des \";\" :\n",
    "                                              #    Page name;Title;Publish time;People Reached;Link Clicks\n",
    "LCfraction = 'truthMean'\n",
    "inputColumn = 'postText'\n",
    "removeColumns = ['postText', 'targetTitle', 'targetDescription', 'id', 'truthMean'] # Il faut enlever les colonnes de type texte\n",
    "splitFactor = 0.2                             # Proportion de données réservées pour les tests\n",
    "push_to_hub = False\n",
    "learning_rate = 5e-5\n",
    "weight_decay=0.01"
   ]
  },
  {
   "cell_type": "raw",
   "metadata": {},
   "source": [
    "modelPath = \"ClickbaitTest\"\n",
    "checkpoint = \"cmarkea/distilcamembert-base\"\n",
    "                                              # \"cmarkea/distilcamembert-base-sentiment\"\n",
    "                                              # \"cmarkea/distilcamembert-base\" (accuracy=0,69)\n",
    "                                              # \"camembert-base\"\n",
    "                                              # \"microsoft/Multilingual-MiniLM-L12-H384\" (accuracy=0,64)\n",
    "                                              # \"nlptown/bert-base-multilingual-uncased-sentiment\"\n",
    "                                              # \"distilbert-base-uncased-finetuned-sst-2-english\"\n",
    "                                              # \"bert-base-uncased\"\n",
    "problem_type =  \"single_label_classification\" # Valeurs possibles : \"regression\", \"single_label_classification\", \"multi_label_classification\"\n",
    "num_labels = 2                                # 5\n",
    "dataCuratedPath = \"../Perroquet/Data/CuratedMean\"              # Données pour tous les sites du 1er janvier 2021 au 30 avril 2021\n",
    "                                              # Données juste pour le site \"Actualités, trucs et astuces\" entre le 1er mai et le 31 juillet 2021.\n",
    "                                              # Les colonnes sont les suivantes, séparées par des \";\" :\n",
    "                                              #    Page name;Title;Publish time;People Reached;Link Clicks\n",
    "LCfraction = 'Fraction'                       # 'LCFraction'\n",
    "inputColumn = 'Title'\n",
    "removeColumns = ['Title', 'Publish time', 'Page name', 'People Reached', 'Link Clicks', 'LCFraction', 'PRFraction', 'Fraction'] # Il faut enlever les colonnes de type texte\n",
    "splitFactor = 0.2                             # Proportion de données réservées pour les tests\n",
    "push_to_hub = False\n",
    "learning_rate = 5e-5\n",
    "weight_decay=0.01"
   ]
  },
  {
   "cell_type": "code",
   "execution_count": 2,
   "metadata": {},
   "outputs": [],
   "source": [
    "import torch\n",
    "import numpy as np"
   ]
  },
  {
   "cell_type": "code",
   "execution_count": 3,
   "metadata": {},
   "outputs": [
    {
     "name": "stderr",
     "output_type": "stream",
     "text": [
      "Some weights of BertForSequenceClassification were not initialized from the model checkpoint at microsoft/Multilingual-MiniLM-L12-H384 and are newly initialized: ['classifier.bias', 'classifier.weight']\n",
      "You should probably TRAIN this model on a down-stream task to be able to use it for predictions and inference.\n"
     ]
    }
   ],
   "source": [
    "from transformers import AutoTokenizer, AutoModelForSequenceClassification\n",
    "\n",
    "tokenizer = AutoTokenizer.from_pretrained(checkpoint)\n",
    "model = AutoModelForSequenceClassification.from_pretrained(\n",
    "   checkpoint,\n",
    "   problem_type=problem_type, # on pourra enlever ce paramètre si ca marche plus\n",
    "   num_labels = num_labels)"
   ]
  },
  {
   "cell_type": "raw",
   "metadata": {
    "jupyter": {
     "outputs_hidden": true
    },
    "tags": []
   },
   "source": [
    "model"
   ]
  },
  {
   "cell_type": "raw",
   "metadata": {},
   "source": [
    "if checkpoint == \"microsoft/Multilingual-MiniLM-L12-H384\":\n",
    "    for param in model.bert.embeddings.parameters():\n",
    "        param.requires_grad = False\n",
    "    for param in model.bert.encoder.parameters():\n",
    "        param.requires_grad = False"
   ]
  },
  {
   "cell_type": "code",
   "execution_count": 4,
   "metadata": {},
   "outputs": [
    {
     "name": "stdout",
     "output_type": "stream",
     "text": [
      "{'input_ids': [0, 84602, 4, 6868, 3244, 307, 705, 2], 'attention_mask': [1, 1, 1, 1, 1, 1, 1, 1]}\n",
      "['▁Hello', ',', '▁how', '▁are', '▁you', '?']\n",
      "[0, 84602, 4, 6868, 3244, 307, 705, 2]\n",
      "[84602, 4, 6868, 3244, 307, 705]\n",
      "['<s>', '▁Bonjour', ',', '▁comment', '▁ça', '▁va', '▁?', '</s>']\n",
      "<s> Bonjour, comment ça va?</s>\n"
     ]
    }
   ],
   "source": [
    "print(tokenizer(\"Bonjour, comment ça va ?\"))\n",
    "print(tokenizer.tokenize(\"Hello, how are you?\"))\n",
    "print(tokenizer.encode(\"Bonjour, comment ça va ?\"))\n",
    "print(tokenizer.convert_tokens_to_ids(tokenizer.tokenize(\"Bonjour, comment ça va ?\")))\n",
    "print(tokenizer.convert_ids_to_tokens(tokenizer.encode(\"Bonjour, comment ça va ?\")))\n",
    "print(tokenizer.decode(tokenizer.encode(\"Bonjour, comment ça va ?\")))"
   ]
  },
  {
   "cell_type": "code",
   "execution_count": 5,
   "metadata": {},
   "outputs": [],
   "source": [
    "import datasets as ds"
   ]
  },
  {
   "cell_type": "code",
   "execution_count": 6,
   "metadata": {},
   "outputs": [],
   "source": [
    "curated = ds.load_from_disk(dataCuratedPath)"
   ]
  },
  {
   "cell_type": "code",
   "execution_count": 7,
   "metadata": {},
   "outputs": [
    {
     "data": {
      "text/plain": [
       "Dataset({\n",
       "    features: ['postText', 'id', 'targetTitle', 'targetDescription', 'truthMean'],\n",
       "    num_rows: 19538\n",
       "})"
      ]
     },
     "execution_count": 7,
     "metadata": {},
     "output_type": "execute_result"
    }
   ],
   "source": [
    "curated"
   ]
  },
  {
   "cell_type": "code",
   "execution_count": 8,
   "metadata": {
    "tags": []
   },
   "outputs": [
    {
     "data": {
      "text/html": [
       "<div>\n",
       "<style scoped>\n",
       "    .dataframe tbody tr th:only-of-type {\n",
       "        vertical-align: middle;\n",
       "    }\n",
       "\n",
       "    .dataframe tbody tr th {\n",
       "        vertical-align: top;\n",
       "    }\n",
       "\n",
       "    .dataframe thead th {\n",
       "        text-align: right;\n",
       "    }\n",
       "</style>\n",
       "<table border=\"1\" class=\"dataframe\">\n",
       "  <thead>\n",
       "    <tr style=\"text-align: right;\">\n",
       "      <th></th>\n",
       "      <th>postText</th>\n",
       "      <th>id</th>\n",
       "      <th>targetTitle</th>\n",
       "      <th>targetDescription</th>\n",
       "      <th>truthMean</th>\n",
       "    </tr>\n",
       "  </thead>\n",
       "  <tbody>\n",
       "    <tr>\n",
       "      <th>0</th>\n",
       "      <td>UK’s response to modern slavery leaving victim...</td>\n",
       "      <td>858462320779026432</td>\n",
       "      <td>‘Inexcusable’ failures in UK’s response to mod...</td>\n",
       "      <td>“Inexcusable” failures in the UK’s system for ...</td>\n",
       "      <td>1.000000</td>\n",
       "    </tr>\n",
       "    <tr>\n",
       "      <th>1</th>\n",
       "      <td>this is good</td>\n",
       "      <td>858421020331560960</td>\n",
       "      <td>Donald Trump Appoints Pro-Life Advocate as Ass...</td>\n",
       "      <td>President Donald Trump has appointed pro-life ...</td>\n",
       "      <td>0.133333</td>\n",
       "    </tr>\n",
       "    <tr>\n",
       "      <th>2</th>\n",
       "      <td>The \"forgotten\" Trump roast: Relive his brutal...</td>\n",
       "      <td>858368123753435136</td>\n",
       "      <td>The ‘forgotten’ Trump roast: Relive his brutal...</td>\n",
       "      <td>President Trump won't be at this year's White ...</td>\n",
       "      <td>0.400000</td>\n",
       "    </tr>\n",
       "    <tr>\n",
       "      <th>3</th>\n",
       "      <td>Meet the happiest #dog in the world!</td>\n",
       "      <td>858323428260139008</td>\n",
       "      <td>Meet The Happiest Dog In The World, Maru The H...</td>\n",
       "      <td>The article is about Maru, a husky dog who has...</td>\n",
       "      <td>0.266667</td>\n",
       "    </tr>\n",
       "    <tr>\n",
       "      <th>4</th>\n",
       "      <td>Tokyo's subway is shut down amid fears over an...</td>\n",
       "      <td>858283602626347008</td>\n",
       "      <td>Tokyo's subway is shut down amid fears over an...</td>\n",
       "      <td>The temporary suspension, which lasted ten min...</td>\n",
       "      <td>0.000000</td>\n",
       "    </tr>\n",
       "    <tr>\n",
       "      <th>...</th>\n",
       "      <td>...</td>\n",
       "      <td>...</td>\n",
       "      <td>...</td>\n",
       "      <td>...</td>\n",
       "      <td>...</td>\n",
       "    </tr>\n",
       "    <tr>\n",
       "      <th>19533</th>\n",
       "      <td>Brazil soccer team and pilot's final interview...</td>\n",
       "      <td>804250183642976256</td>\n",
       "      <td>NBC News Video See Brazil Soccer Team, Pilot’s...</td>\n",
       "      <td>NBC News</td>\n",
       "      <td>0.133333</td>\n",
       "    </tr>\n",
       "    <tr>\n",
       "      <th>19534</th>\n",
       "      <td>😱😱😱😱😱😱😱😱😱😱😱😱😱😱</td>\n",
       "      <td>804156272086020096</td>\n",
       "      <td>Politico Scoop: Eric Trump Killed Two Deer</td>\n",
       "      <td>Politico Scoop: Eric Trump Killed Two Deer</td>\n",
       "      <td>0.066667</td>\n",
       "    </tr>\n",
       "    <tr>\n",
       "      <th>19535</th>\n",
       "      <td>Frenchs Forest high school may have to make wa...</td>\n",
       "      <td>804149798651588608</td>\n",
       "      <td>Frenchs Forest high school may relocate to mak...</td>\n",
       "      <td>The Forest High School on Sydney's northern be...</td>\n",
       "      <td>0.333333</td>\n",
       "    </tr>\n",
       "    <tr>\n",
       "      <th>19536</th>\n",
       "      <td>Oh Jeff… #bruh</td>\n",
       "      <td>804134698729385984</td>\n",
       "      <td>Los Angeles Rams Jeff Fisher May Think Danny W...</td>\n",
       "      <td>Los Angeles Rams news, rumors, scores, schedul...</td>\n",
       "      <td>0.733333</td>\n",
       "    </tr>\n",
       "    <tr>\n",
       "      <th>19537</th>\n",
       "      <td>Richard Sherman weighs in on Cam Newton’s stru...</td>\n",
       "      <td>804126501117435904</td>\n",
       "      <td>Seattle Seahawks Richard Sherman Says 'Karma' ...</td>\n",
       "      <td>Seattle Seahawks news, rumors, scores, schedul...</td>\n",
       "      <td>0.066667</td>\n",
       "    </tr>\n",
       "  </tbody>\n",
       "</table>\n",
       "<p>19538 rows × 5 columns</p>\n",
       "</div>"
      ],
      "text/plain": [
       "                                                postText                  id  \\\n",
       "0      UK’s response to modern slavery leaving victim...  858462320779026432   \n",
       "1                                           this is good  858421020331560960   \n",
       "2      The \"forgotten\" Trump roast: Relive his brutal...  858368123753435136   \n",
       "3                   Meet the happiest #dog in the world!  858323428260139008   \n",
       "4      Tokyo's subway is shut down amid fears over an...  858283602626347008   \n",
       "...                                                  ...                 ...   \n",
       "19533  Brazil soccer team and pilot's final interview...  804250183642976256   \n",
       "19534                                     😱😱😱😱😱😱😱😱😱😱😱😱😱😱  804156272086020096   \n",
       "19535  Frenchs Forest high school may have to make wa...  804149798651588608   \n",
       "19536                                     Oh Jeff… #bruh  804134698729385984   \n",
       "19537  Richard Sherman weighs in on Cam Newton’s stru...  804126501117435904   \n",
       "\n",
       "                                             targetTitle  \\\n",
       "0      ‘Inexcusable’ failures in UK’s response to mod...   \n",
       "1      Donald Trump Appoints Pro-Life Advocate as Ass...   \n",
       "2      The ‘forgotten’ Trump roast: Relive his brutal...   \n",
       "3      Meet The Happiest Dog In The World, Maru The H...   \n",
       "4      Tokyo's subway is shut down amid fears over an...   \n",
       "...                                                  ...   \n",
       "19533  NBC News Video See Brazil Soccer Team, Pilot’s...   \n",
       "19534         Politico Scoop: Eric Trump Killed Two Deer   \n",
       "19535  Frenchs Forest high school may relocate to mak...   \n",
       "19536  Los Angeles Rams Jeff Fisher May Think Danny W...   \n",
       "19537  Seattle Seahawks Richard Sherman Says 'Karma' ...   \n",
       "\n",
       "                                       targetDescription  truthMean  \n",
       "0      “Inexcusable” failures in the UK’s system for ...   1.000000  \n",
       "1      President Donald Trump has appointed pro-life ...   0.133333  \n",
       "2      President Trump won't be at this year's White ...   0.400000  \n",
       "3      The article is about Maru, a husky dog who has...   0.266667  \n",
       "4      The temporary suspension, which lasted ten min...   0.000000  \n",
       "...                                                  ...        ...  \n",
       "19533                                           NBC News   0.133333  \n",
       "19534         Politico Scoop: Eric Trump Killed Two Deer   0.066667  \n",
       "19535  The Forest High School on Sydney's northern be...   0.333333  \n",
       "19536  Los Angeles Rams news, rumors, scores, schedul...   0.733333  \n",
       "19537  Seattle Seahawks news, rumors, scores, schedul...   0.066667  \n",
       "\n",
       "[19538 rows x 5 columns]"
      ]
     },
     "execution_count": 8,
     "metadata": {},
     "output_type": "execute_result"
    }
   ],
   "source": [
    "curated.to_pandas()"
   ]
  },
  {
   "cell_type": "code",
   "execution_count": 9,
   "metadata": {},
   "outputs": [],
   "source": [
    "if modelPath == \"ClickbaitTest\":\n",
    "    # La il va falloir filtrer pour Actualités, trucs et astuces\n",
    "    import re\n",
    "    pageName = 'Actualités, trucs et astuces'\n",
    "    p = re.compile(pageName)\n",
    "    curated=curated.filter(lambda x : p.match(x[\"Page name\"]))"
   ]
  },
  {
   "cell_type": "raw",
   "metadata": {},
   "source": [
    "curated=curated.filter(lambda x : x[\"id\"]>858283602626347008)"
   ]
  },
  {
   "cell_type": "code",
   "execution_count": 10,
   "metadata": {},
   "outputs": [
    {
     "data": {
      "text/plain": [
       "19538"
      ]
     },
     "execution_count": 10,
     "metadata": {},
     "output_type": "execute_result"
    }
   ],
   "source": [
    "longueur= len(curated)\n",
    "longueur"
   ]
  },
  {
   "cell_type": "code",
   "execution_count": 11,
   "metadata": {},
   "outputs": [],
   "source": [
    "trie=sorted(curated[LCfraction])"
   ]
  },
  {
   "cell_type": "code",
   "execution_count": 12,
   "metadata": {},
   "outputs": [],
   "source": [
    "import matplotlib.pyplot as plt"
   ]
  },
  {
   "cell_type": "code",
   "execution_count": 13,
   "metadata": {},
   "outputs": [
    {
     "data": {
      "text/plain": [
       "[<matplotlib.lines.Line2D at 0x27a5339bca0>]"
      ]
     },
     "execution_count": 13,
     "metadata": {},
     "output_type": "execute_result"
    },
    {
     "data": {
      "image/png": "[encoded data removed]",
      "text/plain": [
       "<Figure size 1872x1440 with 1 Axes>"
      ]
     },
     "metadata": {
      "needs_background": "light"
     },
     "output_type": "display_data"
    }
   ],
   "source": [
    "plt.figure(figsize=(26, 20))\n",
    "plt.title(\"Plotting 1-D array\")\n",
    "plt.xlabel(\"Ordered Title\")\n",
    "plt.ylabel(LCfraction)\n",
    "x = np.array(range(0, longueur))\n",
    "y = np.array(trie)\n",
    "plt.plot(x, y, color = \"black\", marker = \"o\", label = \"Array elements\")"
   ]
  },
  {
   "cell_type": "code",
   "execution_count": 14,
   "metadata": {},
   "outputs": [
    {
     "data": {
      "text/plain": [
       "[0.26666666664]"
      ]
     },
     "execution_count": 14,
     "metadata": {},
     "output_type": "execute_result"
    }
   ],
   "source": [
    "ncf=[None] * (num_labels-1)\n",
    "for i in range(num_labels-1):\n",
    "    ncf[i] = trie[longueur * (i+1) // num_labels]\n",
    "ncf"
   ]
  },
  {
   "cell_type": "raw",
   "metadata": {},
   "source": [
    "ncf[0]=0.5"
   ]
  },
  {
   "cell_type": "code",
   "execution_count": 15,
   "metadata": {},
   "outputs": [],
   "source": [
    "def tokenize(sample):\n",
    "    tokenized_sample = tokenizer(\n",
    "            sample[inputColumn],   #  postText + \". Paru dans \" + sample[\"Page name\"], #+ \", le \" + sample[\"Publish time\"]\n",
    "            # str(int(sample[LCfraction]*100)), # on donne direct le résultat pour voir si accuracy == 1\n",
    "            #padding=True,\n",
    "            #truncation=True,\n",
    "            #max_length=30\n",
    "            )\n",
    "    fraction = sample[LCfraction]\n",
    "    \n",
    "    if num_labels == 1:\n",
    "        tokenized_sample[\"label\"] = fraction\n",
    "    else:\n",
    "        tokenized_sample[\"label\"] = next((x for x, val in enumerate(ncf) if fraction < val), num_labels-1)\n",
    "    \n",
    "    \n",
    "    # print( fraction, tokenized_sample[\"input_ids\"], tokenized_sample[\"label\"], sample[inputColumn])\n",
    "    \n",
    "    return tokenized_sample"
   ]
  },
  {
   "cell_type": "code",
   "execution_count": 16,
   "metadata": {
    "tags": []
   },
   "outputs": [
    {
     "data": {
      "application/vnd.jupyter.widget-view+json": {
       "model_id": "b1711ab658c24fc8b6ff8f43f0e8d8c6",
       "version_major": 2,
       "version_minor": 0
      },
      "text/plain": [
       "  0%|          | 0/19538 [00:00<?, ?ex/s]"
      ]
     },
     "metadata": {},
     "output_type": "display_data"
    }
   ],
   "source": [
    "tokenized_curated = curated.map(tokenize) #, batched=True)"
   ]
  },
  {
   "cell_type": "code",
   "execution_count": 17,
   "metadata": {},
   "outputs": [
    {
     "data": {
      "text/html": [
       "<div>\n",
       "<style scoped>\n",
       "    .dataframe tbody tr th:only-of-type {\n",
       "        vertical-align: middle;\n",
       "    }\n",
       "\n",
       "    .dataframe tbody tr th {\n",
       "        vertical-align: top;\n",
       "    }\n",
       "\n",
       "    .dataframe thead th {\n",
       "        text-align: right;\n",
       "    }\n",
       "</style>\n",
       "<table border=\"1\" class=\"dataframe\">\n",
       "  <thead>\n",
       "    <tr style=\"text-align: right;\">\n",
       "      <th></th>\n",
       "      <th>id</th>\n",
       "      <th>truthMean</th>\n",
       "      <th>label</th>\n",
       "    </tr>\n",
       "  </thead>\n",
       "  <tbody>\n",
       "    <tr>\n",
       "      <th>count</th>\n",
       "      <td>1.953800e+04</td>\n",
       "      <td>19538.000000</td>\n",
       "      <td>19538.000000</td>\n",
       "    </tr>\n",
       "    <tr>\n",
       "      <th>mean</th>\n",
       "      <td>8.314393e+17</td>\n",
       "      <td>0.324530</td>\n",
       "      <td>0.547241</td>\n",
       "    </tr>\n",
       "    <tr>\n",
       "      <th>std</th>\n",
       "      <td>1.569423e+16</td>\n",
       "      <td>0.252824</td>\n",
       "      <td>0.497776</td>\n",
       "    </tr>\n",
       "    <tr>\n",
       "      <th>min</th>\n",
       "      <td>8.041138e+17</td>\n",
       "      <td>0.000000</td>\n",
       "      <td>0.000000</td>\n",
       "    </tr>\n",
       "    <tr>\n",
       "      <th>25%</th>\n",
       "      <td>8.178346e+17</td>\n",
       "      <td>0.133333</td>\n",
       "      <td>0.000000</td>\n",
       "    </tr>\n",
       "    <tr>\n",
       "      <th>50%</th>\n",
       "      <td>8.316563e+17</td>\n",
       "      <td>0.266667</td>\n",
       "      <td>1.000000</td>\n",
       "    </tr>\n",
       "    <tr>\n",
       "      <th>75%</th>\n",
       "      <td>8.449404e+17</td>\n",
       "      <td>0.466667</td>\n",
       "      <td>1.000000</td>\n",
       "    </tr>\n",
       "    <tr>\n",
       "      <th>max</th>\n",
       "      <td>8.584642e+17</td>\n",
       "      <td>1.000000</td>\n",
       "      <td>1.000000</td>\n",
       "    </tr>\n",
       "  </tbody>\n",
       "</table>\n",
       "</div>"
      ],
      "text/plain": [
       "                 id     truthMean         label\n",
       "count  1.953800e+04  19538.000000  19538.000000\n",
       "mean   8.314393e+17      0.324530      0.547241\n",
       "std    1.569423e+16      0.252824      0.497776\n",
       "min    8.041138e+17      0.000000      0.000000\n",
       "25%    8.178346e+17      0.133333      0.000000\n",
       "50%    8.316563e+17      0.266667      1.000000\n",
       "75%    8.449404e+17      0.466667      1.000000\n",
       "max    8.584642e+17      1.000000      1.000000"
      ]
     },
     "execution_count": 17,
     "metadata": {},
     "output_type": "execute_result"
    }
   ],
   "source": [
    "tokenized_curated.to_pandas().describe()"
   ]
  },
  {
   "cell_type": "code",
   "execution_count": 18,
   "metadata": {},
   "outputs": [
    {
     "name": "stdout",
     "output_type": "stream",
     "text": [
      "{'postText': ['UK’s response to modern slavery leaving victims destitute while abusers go free', 'this is good', 'The \"forgotten\" Trump roast: Relive his brutal 2004 thrashing at the New York Friars Club'], 'id': [858462320779026432, 858421020331560960, 858368123753435136], 'targetTitle': ['‘Inexcusable’ failures in UK’s response to modern slavery leaving victims destitute while abusers go free, report warns', 'Donald Trump Appoints Pro-Life Advocate as Assistant Secretary of HHS for Public Affairs', 'The ‘forgotten’ Trump roast: Relive his brutal 2004 thrashing at the New York Friars Club'], 'targetDescription': ['“Inexcusable” failures in the UK’s system for dealing with modern slavery are\\xa0leaving victims reduced to destitution while their abusers go free because they are not adequately supported to testify against them, an alarming report has warned.', 'President Donald Trump has appointed pro-life advocate and former president of Americans United for Life Dr. Charmaine Yoest to be Assistant Secretary of Public Affairs for the Department of Health and Human Services.', \"President Trump won't be at this year's White House correspondents' dinner, but he once endured a tough roast in one of the most New York of rituals.\"], 'truthMean': [1.0, 0.13333333332, 0.399999999979999], 'input_ids': [[0, 17274, 26, 7, 57553, 47, 5744, 94859, 1294, 137802, 91519, 7, 8, 13480, 67, 12960, 128431, 4295, 738, 4092, 2], [0, 903, 83, 4127, 2], [0, 581, 44, 2472, 86828, 33, 58, 5879, 2062, 4438, 12, 853, 24056, 1919, 50029, 4821, 6, 118919, 54700, 99, 70, 2356, 5753, 9173, 21816, 7687, 2]], 'attention_mask': [[1, 1, 1, 1, 1, 1, 1, 1, 1, 1, 1, 1, 1, 1, 1, 1, 1, 1, 1, 1, 1], [1, 1, 1, 1, 1], [1, 1, 1, 1, 1, 1, 1, 1, 1, 1, 1, 1, 1, 1, 1, 1, 1, 1, 1, 1, 1, 1, 1, 1, 1, 1, 1]], 'label': [1, 0, 1]}\n"
     ]
    }
   ],
   "source": [
    "print(tokenized_curated[0:3])"
   ]
  },
  {
   "cell_type": "code",
   "execution_count": 19,
   "metadata": {},
   "outputs": [],
   "source": [
    "tokenized_curated2 = tokenized_curated.train_test_split(splitFactor) # 0.2"
   ]
  },
  {
   "cell_type": "code",
   "execution_count": 20,
   "metadata": {},
   "outputs": [
    {
     "data": {
      "text/html": [
       "<div>\n",
       "<style scoped>\n",
       "    .dataframe tbody tr th:only-of-type {\n",
       "        vertical-align: middle;\n",
       "    }\n",
       "\n",
       "    .dataframe tbody tr th {\n",
       "        vertical-align: top;\n",
       "    }\n",
       "\n",
       "    .dataframe thead th {\n",
       "        text-align: right;\n",
       "    }\n",
       "</style>\n",
       "<table border=\"1\" class=\"dataframe\">\n",
       "  <thead>\n",
       "    <tr style=\"text-align: right;\">\n",
       "      <th></th>\n",
       "      <th>postText</th>\n",
       "      <th>id</th>\n",
       "      <th>targetTitle</th>\n",
       "      <th>targetDescription</th>\n",
       "      <th>truthMean</th>\n",
       "      <th>input_ids</th>\n",
       "      <th>attention_mask</th>\n",
       "      <th>label</th>\n",
       "    </tr>\n",
       "  </thead>\n",
       "  <tbody>\n",
       "    <tr>\n",
       "      <th>0</th>\n",
       "      <td>Does Bonobos make sense?</td>\n",
       "      <td>853365074307813376</td>\n",
       "      <td>Why is Walmart buying up brands?</td>\n",
       "      <td>Bonobos, by Walmart.</td>\n",
       "      <td>0.266667</td>\n",
       "      <td>[0, 101790, 10529, 58385, 7, 3249, 10422, 32, 2]</td>\n",
       "      <td>[1, 1, 1, 1, 1, 1, 1, 1, 1]</td>\n",
       "      <td>1</td>\n",
       "    </tr>\n",
       "    <tr>\n",
       "      <th>1</th>\n",
       "      <td>A former Wall Streeter is now a Master Sommeli...</td>\n",
       "      <td>814153667406336000</td>\n",
       "      <td>This former Wall Streeter is now a Master Somm...</td>\n",
       "      <td>Master Sommelier Andrea Robinson gives advice ...</td>\n",
       "      <td>0.200000</td>\n",
       "      <td>[0, 62, 36770, 23706, 15130, 56, 83, 5036, 10,...</td>\n",
       "      <td>[1, 1, 1, 1, 1, 1, 1, 1, 1, 1, 1, 1, 1, 1, 1, ...</td>\n",
       "      <td>0</td>\n",
       "    </tr>\n",
       "    <tr>\n",
       "      <th>2</th>\n",
       "      <td>Warriors learn once again that being the best ...</td>\n",
       "      <td>832764432669302784</td>\n",
       "      <td>Warriors learn once again that being the best ...</td>\n",
       "      <td>The Golden State Warriors shot a bizarre fashi...</td>\n",
       "      <td>0.666667</td>\n",
       "      <td>[0, 211759, 30698, 24145, 13438, 450, 8035, 70...</td>\n",
       "      <td>[1, 1, 1, 1, 1, 1, 1, 1, 1, 1, 1, 1, 1, 1, 1, ...</td>\n",
       "      <td>1</td>\n",
       "    </tr>\n",
       "    <tr>\n",
       "      <th>3</th>\n",
       "      <td>The 5 characters who are most likely die in Th...</td>\n",
       "      <td>847829590680711168</td>\n",
       "      <td>The Walking Dead season 7 finale episode: The ...</td>\n",
       "      <td>This weekend sees the dreaded finale of The Wa...</td>\n",
       "      <td>0.000000</td>\n",
       "      <td>[0, 581, 190, 124850, 2750, 621, 2684, 47041, ...</td>\n",
       "      <td>[1, 1, 1, 1, 1, 1, 1, 1, 1, 1, 1, 1, 1, 1, 1, ...</td>\n",
       "      <td>0</td>\n",
       "    </tr>\n",
       "    <tr>\n",
       "      <th>4</th>\n",
       "      <td>Northwestern MutualVoice: If we love pensions ...</td>\n",
       "      <td>834304472151109632</td>\n",
       "      <td>Northwestern MutualVoice: If We Love Pensions ...</td>\n",
       "      <td>Mark Perrault, a Northwestern Mutual wealth ma...</td>\n",
       "      <td>0.000000</td>\n",
       "      <td>[0, 23924, 1177, 48850, 174948, 289, 36635, 29...</td>\n",
       "      <td>[1, 1, 1, 1, 1, 1, 1, 1, 1, 1, 1, 1, 1, 1, 1, ...</td>\n",
       "      <td>0</td>\n",
       "    </tr>\n",
       "    <tr>\n",
       "      <th>...</th>\n",
       "      <td>...</td>\n",
       "      <td>...</td>\n",
       "      <td>...</td>\n",
       "      <td>...</td>\n",
       "      <td>...</td>\n",
       "      <td>...</td>\n",
       "      <td>...</td>\n",
       "      <td>...</td>\n",
       "    </tr>\n",
       "    <tr>\n",
       "      <th>15625</th>\n",
       "      <td>17 of the kinkiest things people did in 2016</td>\n",
       "      <td>806009276565192704</td>\n",
       "      <td>17 Times Sex Almost Went Too Fucking Far In 2016</td>\n",
       "      <td></td>\n",
       "      <td>1.000000</td>\n",
       "      <td>[0, 729, 111, 70, 200, 22088, 525, 8966, 3395,...</td>\n",
       "      <td>[1, 1, 1, 1, 1, 1, 1, 1, 1, 1, 1, 1, 1]</td>\n",
       "      <td>1</td>\n",
       "    </tr>\n",
       "    <tr>\n",
       "      <th>15626</th>\n",
       "      <td>Six children feared dead in Baltimore house fire</td>\n",
       "      <td>819601366725300224</td>\n",
       "      <td>Six children feared dead in Baltimore house fire</td>\n",
       "      <td>A mother and her nine children are caught up i...</td>\n",
       "      <td>0.533333</td>\n",
       "      <td>[0, 84247, 20020, 30783, 297, 103494, 23, 2300...</td>\n",
       "      <td>[1, 1, 1, 1, 1, 1, 1, 1, 1, 1, 1]</td>\n",
       "      <td>1</td>\n",
       "    </tr>\n",
       "    <tr>\n",
       "      <th>15627</th>\n",
       "      <td>Two young girls critically wounded in separate...</td>\n",
       "      <td>831352277902454784</td>\n",
       "      <td>Two girls shot in Chicago, critically wounded ...</td>\n",
       "      <td>Police say the two young girls who were critic...</td>\n",
       "      <td>0.266667</td>\n",
       "      <td>[0, 32964, 27150, 29526, 130306, 538, 148, 167...</td>\n",
       "      <td>[1, 1, 1, 1, 1, 1, 1, 1, 1, 1, 1, 1, 1, 1, 1, ...</td>\n",
       "      <td>1</td>\n",
       "    </tr>\n",
       "    <tr>\n",
       "      <th>15628</th>\n",
       "      <td>Toys from \"Stranger Things\" and other Netflix ...</td>\n",
       "      <td>829395541805191168</td>\n",
       "      <td>Netflix wants to start selling you merch</td>\n",
       "      <td>There's no business like toy business.\\n</td>\n",
       "      <td>0.200000</td>\n",
       "      <td>[0, 109451, 7, 1295, 44, 97315, 12060, 119175,...</td>\n",
       "      <td>[1, 1, 1, 1, 1, 1, 1, 1, 1, 1, 1, 1, 1, 1, 1, ...</td>\n",
       "      <td>0</td>\n",
       "    </tr>\n",
       "    <tr>\n",
       "      <th>15629</th>\n",
       "      <td>China is absolutely dragging Matt Damon's 'The...</td>\n",
       "      <td>812064543002214400</td>\n",
       "      <td>Head of China's People's Choice Awards Trashes...</td>\n",
       "      <td>&amp;#39;The Great Wall&amp;#39; continues its controv...</td>\n",
       "      <td>0.266667</td>\n",
       "      <td>[0, 9098, 83, 115839, 24911, 9966, 39162, 930,...</td>\n",
       "      <td>[1, 1, 1, 1, 1, 1, 1, 1, 1, 1, 1, 1, 1, 1, 1, ...</td>\n",
       "      <td>1</td>\n",
       "    </tr>\n",
       "  </tbody>\n",
       "</table>\n",
       "<p>15630 rows × 8 columns</p>\n",
       "</div>"
      ],
      "text/plain": [
       "                                                postText                  id  \\\n",
       "0                               Does Bonobos make sense?  853365074307813376   \n",
       "1      A former Wall Streeter is now a Master Sommeli...  814153667406336000   \n",
       "2      Warriors learn once again that being the best ...  832764432669302784   \n",
       "3      The 5 characters who are most likely die in Th...  847829590680711168   \n",
       "4      Northwestern MutualVoice: If we love pensions ...  834304472151109632   \n",
       "...                                                  ...                 ...   \n",
       "15625       17 of the kinkiest things people did in 2016  806009276565192704   \n",
       "15626   Six children feared dead in Baltimore house fire  819601366725300224   \n",
       "15627  Two young girls critically wounded in separate...  831352277902454784   \n",
       "15628  Toys from \"Stranger Things\" and other Netflix ...  829395541805191168   \n",
       "15629  China is absolutely dragging Matt Damon's 'The...  812064543002214400   \n",
       "\n",
       "                                             targetTitle  \\\n",
       "0                       Why is Walmart buying up brands?   \n",
       "1      This former Wall Streeter is now a Master Somm...   \n",
       "2      Warriors learn once again that being the best ...   \n",
       "3      The Walking Dead season 7 finale episode: The ...   \n",
       "4      Northwestern MutualVoice: If We Love Pensions ...   \n",
       "...                                                  ...   \n",
       "15625   17 Times Sex Almost Went Too Fucking Far In 2016   \n",
       "15626   Six children feared dead in Baltimore house fire   \n",
       "15627  Two girls shot in Chicago, critically wounded ...   \n",
       "15628           Netflix wants to start selling you merch   \n",
       "15629  Head of China's People's Choice Awards Trashes...   \n",
       "\n",
       "                                       targetDescription  truthMean  \\\n",
       "0                                  Bonobos, by Walmart.    0.266667   \n",
       "1      Master Sommelier Andrea Robinson gives advice ...   0.200000   \n",
       "2      The Golden State Warriors shot a bizarre fashi...   0.666667   \n",
       "3      This weekend sees the dreaded finale of The Wa...   0.000000   \n",
       "4      Mark Perrault, a Northwestern Mutual wealth ma...   0.000000   \n",
       "...                                                  ...        ...   \n",
       "15625                                                      1.000000   \n",
       "15626  A mother and her nine children are caught up i...   0.533333   \n",
       "15627  Police say the two young girls who were critic...   0.266667   \n",
       "15628           There's no business like toy business.\\n   0.200000   \n",
       "15629  &#39;The Great Wall&#39; continues its controv...   0.266667   \n",
       "\n",
       "                                               input_ids  \\\n",
       "0       [0, 101790, 10529, 58385, 7, 3249, 10422, 32, 2]   \n",
       "1      [0, 62, 36770, 23706, 15130, 56, 83, 5036, 10,...   \n",
       "2      [0, 211759, 30698, 24145, 13438, 450, 8035, 70...   \n",
       "3      [0, 581, 190, 124850, 2750, 621, 2684, 47041, ...   \n",
       "4      [0, 23924, 1177, 48850, 174948, 289, 36635, 29...   \n",
       "...                                                  ...   \n",
       "15625  [0, 729, 111, 70, 200, 22088, 525, 8966, 3395,...   \n",
       "15626  [0, 84247, 20020, 30783, 297, 103494, 23, 2300...   \n",
       "15627  [0, 32964, 27150, 29526, 130306, 538, 148, 167...   \n",
       "15628  [0, 109451, 7, 1295, 44, 97315, 12060, 119175,...   \n",
       "15629  [0, 9098, 83, 115839, 24911, 9966, 39162, 930,...   \n",
       "\n",
       "                                          attention_mask  label  \n",
       "0                            [1, 1, 1, 1, 1, 1, 1, 1, 1]      1  \n",
       "1      [1, 1, 1, 1, 1, 1, 1, 1, 1, 1, 1, 1, 1, 1, 1, ...      0  \n",
       "2      [1, 1, 1, 1, 1, 1, 1, 1, 1, 1, 1, 1, 1, 1, 1, ...      1  \n",
       "3      [1, 1, 1, 1, 1, 1, 1, 1, 1, 1, 1, 1, 1, 1, 1, ...      0  \n",
       "4      [1, 1, 1, 1, 1, 1, 1, 1, 1, 1, 1, 1, 1, 1, 1, ...      0  \n",
       "...                                                  ...    ...  \n",
       "15625            [1, 1, 1, 1, 1, 1, 1, 1, 1, 1, 1, 1, 1]      1  \n",
       "15626                  [1, 1, 1, 1, 1, 1, 1, 1, 1, 1, 1]      1  \n",
       "15627  [1, 1, 1, 1, 1, 1, 1, 1, 1, 1, 1, 1, 1, 1, 1, ...      1  \n",
       "15628  [1, 1, 1, 1, 1, 1, 1, 1, 1, 1, 1, 1, 1, 1, 1, ...      0  \n",
       "15629  [1, 1, 1, 1, 1, 1, 1, 1, 1, 1, 1, 1, 1, 1, 1, ...      1  \n",
       "\n",
       "[15630 rows x 8 columns]"
      ]
     },
     "execution_count": 20,
     "metadata": {},
     "output_type": "execute_result"
    }
   ],
   "source": [
    "tokenized_curated2['train'].to_pandas()"
   ]
  },
  {
   "cell_type": "code",
   "execution_count": 21,
   "metadata": {},
   "outputs": [],
   "source": [
    "tokenized_curated3 = tokenized_curated2.remove_columns(removeColumns)"
   ]
  },
  {
   "cell_type": "code",
   "execution_count": 22,
   "metadata": {},
   "outputs": [],
   "source": [
    "tokenized_curated4 = tokenized_curated3"
   ]
  },
  {
   "cell_type": "code",
   "execution_count": 23,
   "metadata": {},
   "outputs": [
    {
     "data": {
      "text/plain": [
       "DatasetDict({\n",
       "    train: Dataset({\n",
       "        features: ['input_ids', 'attention_mask', 'label'],\n",
       "        num_rows: 15630\n",
       "    })\n",
       "    test: Dataset({\n",
       "        features: ['input_ids', 'attention_mask', 'label'],\n",
       "        num_rows: 3908\n",
       "    })\n",
       "})"
      ]
     },
     "execution_count": 23,
     "metadata": {},
     "output_type": "execute_result"
    }
   ],
   "source": [
    "tokenized_curated4"
   ]
  },
  {
   "cell_type": "code",
   "execution_count": 24,
   "metadata": {},
   "outputs": [],
   "source": [
    "#tokenized_curated4.set_format(\"torch\")"
   ]
  },
  {
   "cell_type": "code",
   "execution_count": 25,
   "metadata": {},
   "outputs": [],
   "source": [
    "from datasets import load_metric\n",
    "from sklearn.metrics import accuracy_score, f1_score, recall_score, precision_score\n",
    "def compute_metrics(eval_preds):\n",
    "    logits, labels = eval_preds\n",
    "    if num_labels == 1:\n",
    "        metric = load_metric(\"mse\")\n",
    "        return metric.compute(predictions=logits, references=labels)\n",
    "    elif num_labels == 2:\n",
    "        predictions = np.argmax(logits, axis=-1)\n",
    "        accuracy = accuracy_score(y_true=labels, y_pred=predictions)\n",
    "#    recall = recall_score(y_true=labels, y_pred=predictions)\n",
    "#    precision = precision_score(y_true=labels, y_pred=predictions)\n",
    "        f1 = f1_score(y_true=labels, y_pred=predictions)\n",
    "    # return metric.compute(predictions=predictions, references=labels) # , average = 'weighted'\n",
    "        return {\"accuracy\": accuracy, \"f1\": f1 } #\" \"matthews_correlation\":matthews_correlation precision\": precision, \"recall\": recall, \"f1\": f1, \n",
    "    else:\n",
    "        predictions = np.argmax(logits, axis=-1)\n",
    "        metric = load_metric(\"matthews_correlation\") # matthews_correlation, accuracy \"glue\", \"mrpc\") # , \"sst2\") #  stsb de la ouatte de phoque\n",
    "        matthews_correlation = metric.compute(predictions=predictions, references=labels)\n",
    "        # accuracy = accuracy_score(y_true=labels, y_pred=predictions)\n",
    "        # f1 = f1_score(y_true=labels, y_pred=predictions)\n",
    "        return matthews_correlation\n",
    "        # return {\"accuracy\": accuracy}.update(matthews_correlation)"
   ]
  },
  {
   "cell_type": "code",
   "execution_count": 26,
   "metadata": {},
   "outputs": [],
   "source": [
    "from transformers import TrainingArguments\n",
    "\n",
    "training_args = TrainingArguments(modelPath,\n",
    "                                  evaluation_strategy= \"steps\", # \"epoch\",\n",
    "                                  eval_steps = 50, # Evaluation and Save happens every 50 steps\n",
    "                                  save_total_limit = 5, # Only last 5 models are saved. Older ones are deleted.\n",
    "                                  num_train_epochs = 4,\n",
    "                                  optim= 'adamw_torch',\n",
    "                                  learning_rate=learning_rate,\n",
    "                                  per_device_train_batch_size = 16,\n",
    "                                  per_device_eval_batch_size = 16,\n",
    "                                  # learning_rate = 5e-4,\n",
    "                                  weight_decay=weight_decay,\n",
    "                                  push_to_hub=push_to_hub,\n",
    "                                  metric_for_best_model = 'accuracy' if num_labels == 2 else 'mse' if num_labels == 1 else 'matthews_correlation',\n",
    "                                  load_best_model_at_end=True\n",
    "                                 )"
   ]
  },
  {
   "cell_type": "code",
   "execution_count": 27,
   "metadata": {},
   "outputs": [],
   "source": [
    "from transformers import DataCollatorWithPadding\n",
    "data_collator = DataCollatorWithPadding(tokenizer)"
   ]
  },
  {
   "cell_type": "code",
   "execution_count": 28,
   "metadata": {},
   "outputs": [
    {
     "name": "stdout",
     "output_type": "stream",
     "text": [
      "{'input_ids': [[0, 101790, 10529, 58385, 7, 3249, 10422, 32, 2], [0, 62, 36770, 23706, 15130, 56, 83, 5036, 10, 18897, 4961, 27641, 56, 292, 3688, 25, 7, 604, 67660, 100, 6782, 9, 1073, 1916, 108069, 2], [0, 211759, 30698, 24145, 13438, 450, 8035, 70, 2965, 7175, 26950, 70, 47010, 7, 621, 38162, 2], [0, 581, 190, 124850, 2750, 621, 2684, 47041, 68, 23, 581, 167992, 51952, 34003, 361, 22688, 2], [0, 23924, 1177, 48850, 174948, 289, 36635, 2980, 12, 4263, 642, 5161, 23168, 7, 221, 5045, 4, 15400, 54, 642, 35463, 142, 539, 31075, 32, 2], [0, 702, 24092, 7, 398, 765, 10, 4488, 5732, 4032, 292, 3853, 2174, 22027, 25, 18, 12319, 1884, 442, 2], [0, 6470, 930, 5829, 10186, 12, 98809, 25, 7, 43334, 525, 56816, 5809, 186, 100553, 2481, 25, 7, 124498, 525, 15063, 19, 2], [0, 22392, 13038, 44, 70547, 52128, 58, 111, 18405, 1916, 8633, 18, 34695, 237, 5879, 45831, 71985, 2481, 98, 58982, 2], [0, 360, 2343, 232, 214, 34202, 5879, 4, 14431, 2581, 110226, 14, 43264, 83, 141753, 10, 152853, 13, 111, 70, 25737, 2], [0, 48861, 18621, 6796, 1221, 23356, 678, 92865, 23, 18982, 47, 45252, 3642, 44, 31852, 2041, 4032, 4, 2646, 82366, 9821, 58, 5809, 186, 71062, 297, 100, 5276, 2], [0, 13038, 131161, 7, 2533, 16227, 8804, 1774, 4, 49903, 4, 138235, 7, 11782, 442, 23, 134588, 67, 2], [0, 40469, 621, 70, 123055, 98567, 70, 3871, 133, 111, 25730, 25, 7, 20623, 212790, 32, 8121, 71, 390, 1374, 9083, 8364, 605, 539, 2594, 1577, 2], [0, 4336, 142481, 57544, 12, 102374, 34202, 36061, 19507, 68772, 1919, 77253, 7123, 108870, 4, 23, 124338, 2], [0, 160960, 111, 23213, 1760, 11192, 10696, 29892, 13, 92610, 34784, 297, 390, 6, 31722, 468, 919, 63588, 22418, 8762, 2], [0, 468, 16259, 1723, 10101, 12, 116342, 25, 7, 130367, 187, 1176, 72397, 7, 1257, 47, 8, 720, 19507, 25, 7, 1631, 36279, 2], [0, 2356, 35187, 22317, 44603, 210115, 47, 120069, 92949, 6, 58745, 4939, 58480, 2], [0, 242, 91127, 257, 290, 6133, 1294, 25, 12, 5879, 32997, 7, 9098, 35778, 8780, 237, 49002, 21941, 134729, 2], [0, 84247, 8966, 65771, 24793, 97384, 98, 2363, 5117, 74464, 2], [0, 10091, 47, 836, 7003, 7, 5809, 2577, 1100, 29114, 14202, 68067, 7103, 217063, 1202, 111, 747, 17704, 29892, 13, 2], [0, 360, 117249, 7440, 442, 25, 7, 8437, 4, 3395, 621, 68062, 26783, 91714, 51459, 100, 642, 297, 136, 19441, 642, 297, 81141, 7, 2]], 'attention_mask': [[1, 1, 1, 1, 1, 1, 1, 1, 1], [1, 1, 1, 1, 1, 1, 1, 1, 1, 1, 1, 1, 1, 1, 1, 1, 1, 1, 1, 1, 1, 1, 1, 1, 1, 1], [1, 1, 1, 1, 1, 1, 1, 1, 1, 1, 1, 1, 1, 1, 1, 1, 1], [1, 1, 1, 1, 1, 1, 1, 1, 1, 1, 1, 1, 1, 1, 1, 1, 1], [1, 1, 1, 1, 1, 1, 1, 1, 1, 1, 1, 1, 1, 1, 1, 1, 1, 1, 1, 1, 1, 1, 1, 1, 1, 1], [1, 1, 1, 1, 1, 1, 1, 1, 1, 1, 1, 1, 1, 1, 1, 1, 1, 1, 1, 1], [1, 1, 1, 1, 1, 1, 1, 1, 1, 1, 1, 1, 1, 1, 1, 1, 1, 1, 1, 1, 1, 1, 1], [1, 1, 1, 1, 1, 1, 1, 1, 1, 1, 1, 1, 1, 1, 1, 1, 1, 1, 1, 1, 1], [1, 1, 1, 1, 1, 1, 1, 1, 1, 1, 1, 1, 1, 1, 1, 1, 1, 1, 1, 1, 1, 1], [1, 1, 1, 1, 1, 1, 1, 1, 1, 1, 1, 1, 1, 1, 1, 1, 1, 1, 1, 1, 1, 1, 1, 1, 1, 1, 1, 1, 1], [1, 1, 1, 1, 1, 1, 1, 1, 1, 1, 1, 1, 1, 1, 1, 1, 1, 1, 1], [1, 1, 1, 1, 1, 1, 1, 1, 1, 1, 1, 1, 1, 1, 1, 1, 1, 1, 1, 1, 1, 1, 1, 1, 1, 1, 1], [1, 1, 1, 1, 1, 1, 1, 1, 1, 1, 1, 1, 1, 1, 1, 1, 1, 1], [1, 1, 1, 1, 1, 1, 1, 1, 1, 1, 1, 1, 1, 1, 1, 1, 1, 1, 1, 1, 1], [1, 1, 1, 1, 1, 1, 1, 1, 1, 1, 1, 1, 1, 1, 1, 1, 1, 1, 1, 1, 1, 1, 1, 1], [1, 1, 1, 1, 1, 1, 1, 1, 1, 1, 1, 1, 1, 1], [1, 1, 1, 1, 1, 1, 1, 1, 1, 1, 1, 1, 1, 1, 1, 1, 1, 1, 1, 1], [1, 1, 1, 1, 1, 1, 1, 1, 1, 1, 1], [1, 1, 1, 1, 1, 1, 1, 1, 1, 1, 1, 1, 1, 1, 1, 1, 1, 1, 1, 1, 1], [1, 1, 1, 1, 1, 1, 1, 1, 1, 1, 1, 1, 1, 1, 1, 1, 1, 1, 1, 1, 1, 1, 1, 1, 1]], 'label': [1, 0, 1, 0, 0, 1, 1, 1, 1, 1, 0, 1, 1, 0, 0, 1, 0, 1, 1, 1]}\n"
     ]
    }
   ],
   "source": [
    "print(tokenized_curated4[\"train\"][0:20])"
   ]
  },
  {
   "cell_type": "code",
   "execution_count": 29,
   "metadata": {},
   "outputs": [],
   "source": [
    "from transformers import Trainer\n",
    "from transformers import EarlyStoppingCallback\n",
    "\n",
    "trainer = Trainer(model,\n",
    "                  training_args,\n",
    "                  train_dataset=tokenized_curated4[\"train\"],\n",
    "                  eval_dataset=tokenized_curated4[\"test\"],\n",
    "                  data_collator=data_collator,\n",
    "                  tokenizer=tokenizer,\n",
    "                  compute_metrics = compute_metrics,\n",
    "                  callbacks = [EarlyStoppingCallback(early_stopping_patience=3)], #3\n",
    "                  # optimizers=(torch.optim.AdamW, torch.optim.lr_scheduler.LambdaLR) \n",
    "                 )"
   ]
  },
  {
   "cell_type": "code",
   "execution_count": 30,
   "metadata": {
    "tags": []
   },
   "outputs": [
    {
     "name": "stderr",
     "output_type": "stream",
     "text": [
      "***** Running training *****\n",
      "  Num examples = 15630\n",
      "  Num Epochs = 4\n",
      "  Instantaneous batch size per device = 16\n",
      "  Total train batch size (w. parallel, distributed & accumulation) = 16\n",
      "  Gradient Accumulation steps = 1\n",
      "  Total optimization steps = 3908\n"
     ]
    },
    {
     "data": {
      "text/html": [
       "\n",
       "    <div>\n",
       "      \n",
       "      <progress value='650' max='3908' style='width:300px; height:20px; vertical-align: middle;'></progress>\n",
       "      [ 650/3908 02:05 < 10:31, 5.16 it/s, Epoch 0/4]\n",
       "    </div>\n",
       "    <table border=\"1\" class=\"dataframe\">\n",
       "  <thead>\n",
       " <tr style=\"text-align: left;\">\n",
       "      <th>Step</th>\n",
       "      <th>Training Loss</th>\n",
       "      <th>Validation Loss</th>\n",
       "      <th>Accuracy</th>\n",
       "      <th>F1</th>\n",
       "    </tr>\n",
       "  </thead>\n",
       "  <tbody>\n",
       "    <tr>\n",
       "      <td>50</td>\n",
       "      <td>No log</td>\n",
       "      <td>0.689978</td>\n",
       "      <td>0.545803</td>\n",
       "      <td>0.706174</td>\n",
       "    </tr>\n",
       "    <tr>\n",
       "      <td>100</td>\n",
       "      <td>No log</td>\n",
       "      <td>0.688948</td>\n",
       "      <td>0.545803</td>\n",
       "      <td>0.706174</td>\n",
       "    </tr>\n",
       "    <tr>\n",
       "      <td>150</td>\n",
       "      <td>No log</td>\n",
       "      <td>0.689133</td>\n",
       "      <td>0.545803</td>\n",
       "      <td>0.706174</td>\n",
       "    </tr>\n",
       "    <tr>\n",
       "      <td>200</td>\n",
       "      <td>No log</td>\n",
       "      <td>0.689387</td>\n",
       "      <td>0.545803</td>\n",
       "      <td>0.706174</td>\n",
       "    </tr>\n",
       "    <tr>\n",
       "      <td>250</td>\n",
       "      <td>No log</td>\n",
       "      <td>0.689563</td>\n",
       "      <td>0.545803</td>\n",
       "      <td>0.706174</td>\n",
       "    </tr>\n",
       "    <tr>\n",
       "      <td>300</td>\n",
       "      <td>No log</td>\n",
       "      <td>0.689119</td>\n",
       "      <td>0.545803</td>\n",
       "      <td>0.706174</td>\n",
       "    </tr>\n",
       "    <tr>\n",
       "      <td>350</td>\n",
       "      <td>No log</td>\n",
       "      <td>0.689008</td>\n",
       "      <td>0.545803</td>\n",
       "      <td>0.706174</td>\n",
       "    </tr>\n",
       "    <tr>\n",
       "      <td>400</td>\n",
       "      <td>No log</td>\n",
       "      <td>0.688955</td>\n",
       "      <td>0.545803</td>\n",
       "      <td>0.706174</td>\n",
       "    </tr>\n",
       "    <tr>\n",
       "      <td>450</td>\n",
       "      <td>No log</td>\n",
       "      <td>0.688981</td>\n",
       "      <td>0.545803</td>\n",
       "      <td>0.706174</td>\n",
       "    </tr>\n",
       "    <tr>\n",
       "      <td>500</td>\n",
       "      <td>0.689600</td>\n",
       "      <td>0.689090</td>\n",
       "      <td>0.545803</td>\n",
       "      <td>0.706174</td>\n",
       "    </tr>\n",
       "    <tr>\n",
       "      <td>550</td>\n",
       "      <td>0.689600</td>\n",
       "      <td>0.689087</td>\n",
       "      <td>0.545803</td>\n",
       "      <td>0.706174</td>\n",
       "    </tr>\n",
       "    <tr>\n",
       "      <td>600</td>\n",
       "      <td>0.689600</td>\n",
       "      <td>0.688972</td>\n",
       "      <td>0.545803</td>\n",
       "      <td>0.706174</td>\n",
       "    </tr>\n",
       "    <tr>\n",
       "      <td>650</td>\n",
       "      <td>0.689600</td>\n",
       "      <td>0.689061</td>\n",
       "      <td>0.545803</td>\n",
       "      <td>0.706174</td>\n",
       "    </tr>\n",
       "  </tbody>\n",
       "</table><p>"
      ],
      "text/plain": [
       "<IPython.core.display.HTML object>"
      ]
     },
     "metadata": {},
     "output_type": "display_data"
    },
    {
     "name": "stderr",
     "output_type": "stream",
     "text": [
      "***** Running Evaluation *****\n",
      "  Num examples = 3908\n",
      "  Batch size = 16\n",
      "***** Running Evaluation *****\n",
      "  Num examples = 3908\n",
      "  Batch size = 16\n",
      "***** Running Evaluation *****\n",
      "  Num examples = 3908\n",
      "  Batch size = 16\n",
      "***** Running Evaluation *****\n",
      "  Num examples = 3908\n",
      "  Batch size = 16\n",
      "***** Running Evaluation *****\n",
      "  Num examples = 3908\n",
      "  Batch size = 16\n",
      "***** Running Evaluation *****\n",
      "  Num examples = 3908\n",
      "  Batch size = 16\n",
      "***** Running Evaluation *****\n",
      "  Num examples = 3908\n",
      "  Batch size = 16\n",
      "***** Running Evaluation *****\n",
      "  Num examples = 3908\n",
      "  Batch size = 16\n",
      "***** Running Evaluation *****\n",
      "  Num examples = 3908\n",
      "  Batch size = 16\n",
      "***** Running Evaluation *****\n",
      "  Num examples = 3908\n",
      "  Batch size = 16\n",
      "Saving model checkpoint to Clickbait\\checkpoint-500\n",
      "Configuration saved in Clickbait\\checkpoint-500\\config.json\n",
      "Model weights saved in Clickbait\\checkpoint-500\\pytorch_model.bin\n",
      "tokenizer config file saved in Clickbait\\checkpoint-500\\tokenizer_config.json\n",
      "Special tokens file saved in Clickbait\\checkpoint-500\\special_tokens_map.json\n",
      "***** Running Evaluation *****\n",
      "  Num examples = 3908\n",
      "  Batch size = 16\n",
      "***** Running Evaluation *****\n",
      "  Num examples = 3908\n",
      "  Batch size = 16\n",
      "***** Running Evaluation *****\n",
      "  Num examples = 3908\n",
      "  Batch size = 16\n",
      "\n",
      "\n",
      "Training completed. Do not forget to share your model on huggingface.co/models =)\n",
      "\n",
      "\n",
      "Loading best model from Clickbait\\checkpoint-500 (score: 0.5458034800409417).\n"
     ]
    },
    {
     "data": {
      "text/plain": [
       "TrainOutput(global_step=650, training_loss=0.6894203420785757, metrics={'train_runtime': 127.7857, 'train_samples_per_second': 489.257, 'train_steps_per_second': 30.582, 'total_flos': 41438064286080.0, 'train_loss': 0.6894203420785757, 'epoch': 0.67})"
      ]
     },
     "execution_count": 30,
     "metadata": {},
     "output_type": "execute_result"
    }
   ],
   "source": [
    "# faire la boucle avec le trainer pytorch\n",
    "# %pdb\n",
    "trainer.train()"
   ]
  },
  {
   "cell_type": "code",
   "execution_count": 34,
   "metadata": {},
   "outputs": [
    {
     "name": "stderr",
     "output_type": "stream",
     "text": [
      "***** Running Evaluation *****\n",
      "  Num examples = 3908\n",
      "  Batch size = 16\n"
     ]
    },
    {
     "data": {
      "text/html": [
       "\n",
       "    <div>\n",
       "      \n",
       "      <progress value='490' max='245' style='width:300px; height:20px; vertical-align: middle;'></progress>\n",
       "      [245/245 00:23]\n",
       "    </div>\n",
       "    "
      ],
      "text/plain": [
       "<IPython.core.display.HTML object>"
      ]
     },
     "metadata": {},
     "output_type": "display_data"
    },
    {
     "data": {
      "text/plain": [
       "{'eval_loss': 0.0008608002681285143,\n",
       " 'eval_accuracy': 1.0,\n",
       " 'eval_f1': 1.0,\n",
       " 'eval_runtime': 4.7501,\n",
       " 'eval_samples_per_second': 822.712,\n",
       " 'eval_steps_per_second': 51.577,\n",
       " 'epoch': 0.67}"
      ]
     },
     "execution_count": 34,
     "metadata": {},
     "output_type": "execute_result"
    }
   ],
   "source": [
    "trainer.evaluate()"
   ]
  },
  {
   "cell_type": "raw",
   "metadata": {},
   "source": [
    "# Sauver le modèle sur le disque\n",
    "model.save_pretrained(modelPath)"
   ]
  },
  {
   "cell_type": "raw",
   "metadata": {},
   "source": [
    "tokenizer.save_vocabulary(modelPath)"
   ]
  },
  {
   "cell_type": "raw",
   "metadata": {},
   "source": [
    "trainer.push_to_hub()"
   ]
  },
  {
   "cell_type": "code",
   "execution_count": 35,
   "metadata": {},
   "outputs": [],
   "source": [
    "# Pour voir si on fait de l'overfitting, rien de mieux que de dessiner le graphe avec le jeu d'entrainement\n",
    "overfitting = \"test\" #  \"train\" # \"test\""
   ]
  },
  {
   "cell_type": "code",
   "execution_count": 36,
   "metadata": {},
   "outputs": [
    {
     "name": "stderr",
     "output_type": "stream",
     "text": [
      "***** Running Prediction *****\n",
      "  Num examples = 3908\n",
      "  Batch size = 16\n"
     ]
    }
   ],
   "source": [
    "model.to(torch.device(\"cuda:0\"))\n",
    "predictions = trainer.predict(tokenized_curated4[overfitting])"
   ]
  },
  {
   "cell_type": "code",
   "execution_count": 37,
   "metadata": {},
   "outputs": [
    {
     "data": {
      "text/plain": [
       "array([[ 3.4859664, -3.525416 ],\n",
       "       [ 3.4859664, -3.525416 ],\n",
       "       [-3.530679 ,  3.5686157],\n",
       "       ...,\n",
       "       [-3.530601 ,  3.5686374],\n",
       "       [-3.530688 ,  3.5686085],\n",
       "       [-3.530601 ,  3.5686374]], dtype=float32)"
      ]
     },
     "execution_count": 37,
     "metadata": {},
     "output_type": "execute_result"
    }
   ],
   "source": [
    "predictions.predictions"
   ]
  },
  {
   "cell_type": "code",
   "execution_count": 38,
   "metadata": {},
   "outputs": [
    {
     "data": {
      "text/plain": [
       "{'test_loss': 0.0008608002681285143,\n",
       " 'test_accuracy': 1.0,\n",
       " 'test_f1': 1.0,\n",
       " 'test_runtime': 6.9842,\n",
       " 'test_samples_per_second': 559.55,\n",
       " 'test_steps_per_second': 35.079}"
      ]
     },
     "execution_count": 38,
     "metadata": {},
     "output_type": "execute_result"
    }
   ],
   "source": [
    "predictions.metrics"
   ]
  },
  {
   "cell_type": "code",
   "execution_count": 39,
   "metadata": {},
   "outputs": [],
   "source": [
    "tct = tokenized_curated2[overfitting].to_pandas()"
   ]
  },
  {
   "cell_type": "code",
   "execution_count": 40,
   "metadata": {},
   "outputs": [],
   "source": [
    "if num_labels == 1:\n",
    "    tct[\"labelC\"] = predictions.predictions\n",
    "else:\n",
    "    tct[\"labelC\"] = np.argmax(predictions.predictions, axis=1)   "
   ]
  },
  {
   "cell_type": "code",
   "execution_count": 41,
   "metadata": {},
   "outputs": [],
   "source": [
    "tct = tct.sort_values(LCfraction)"
   ]
  },
  {
   "cell_type": "code",
   "execution_count": 42,
   "metadata": {},
   "outputs": [],
   "source": [
    "palette = [\"r\", \"g\", \"b\", \"c\", \"m\"]"
   ]
  },
  {
   "cell_type": "code",
   "execution_count": 43,
   "metadata": {},
   "outputs": [],
   "source": [
    "if num_labels == 1:\n",
    "    color = [val for val in tct[\"labelC\"]]\n",
    "else:\n",
    "    color = [palette[val] for val in tct[\"labelC\"]]"
   ]
  },
  {
   "cell_type": "code",
   "execution_count": 44,
   "metadata": {},
   "outputs": [
    {
     "data": {
      "text/plain": [
       "<matplotlib.collections.PathCollection at 0x28caa192b80>"
      ]
     },
     "execution_count": 44,
     "metadata": {},
     "output_type": "execute_result"
    },
    {
     "data": {
      "image/png": "[encoded data removed]",
      "text/plain": [
       "<Figure size 1872x1440 with 1 Axes>"
      ]
     },
     "metadata": {
      "needs_background": "light"
     },
     "output_type": "display_data"
    }
   ],
   "source": [
    "plt.figure(figsize=(26, 20))\n",
    "plt.title(\"Plotting 1-D array\")\n",
    "plt.xlabel(\"Ordered Title\")\n",
    "plt.ylabel(LCfraction) #LCfraction\n",
    "x = np.array(range(0, tct.shape[0]))\n",
    "y = tct[LCfraction]\n",
    "plt.scatter(x, y, c = color, marker = \"o\", label = \"Array elements\")"
   ]
  },
  {
   "cell_type": "code",
   "execution_count": 45,
   "metadata": {},
   "outputs": [
    {
     "data": {
      "text/html": [
       "<div>\n",
       "<style scoped>\n",
       "    .dataframe tbody tr th:only-of-type {\n",
       "        vertical-align: middle;\n",
       "    }\n",
       "\n",
       "    .dataframe tbody tr th {\n",
       "        vertical-align: top;\n",
       "    }\n",
       "\n",
       "    .dataframe thead th {\n",
       "        text-align: right;\n",
       "    }\n",
       "</style>\n",
       "<table border=\"1\" class=\"dataframe\">\n",
       "  <thead>\n",
       "    <tr style=\"text-align: right;\">\n",
       "      <th></th>\n",
       "      <th>postText</th>\n",
       "      <th>id</th>\n",
       "      <th>targetTitle</th>\n",
       "      <th>targetDescription</th>\n",
       "      <th>truthMean</th>\n",
       "      <th>input_ids</th>\n",
       "      <th>attention_mask</th>\n",
       "      <th>label</th>\n",
       "      <th>labelC</th>\n",
       "    </tr>\n",
       "  </thead>\n",
       "  <tbody>\n",
       "    <tr>\n",
       "      <th>0</th>\n",
       "      <td>New tool lets you customize what kinds of onli...</td>\n",
       "      <td>807030514049761280</td>\n",
       "      <td>You may soon be able to pick and choose the on...</td>\n",
       "      <td>The Rubicon Project's new tool lets you custom...</td>\n",
       "      <td>0.0</td>\n",
       "      <td>[0, 757, 2]</td>\n",
       "      <td>[1, 1, 1]</td>\n",
       "      <td>0</td>\n",
       "      <td>0</td>\n",
       "    </tr>\n",
       "    <tr>\n",
       "      <th>3386</th>\n",
       "      <td>Stephen Hawking is being sent to space</td>\n",
       "      <td>843757942952353792</td>\n",
       "      <td>Stephen Hawking will travel to space on board ...</td>\n",
       "      <td>Stephen Hawking is going to go to space. The c...</td>\n",
       "      <td>0.0</td>\n",
       "      <td>[0, 757, 2]</td>\n",
       "      <td>[1, 1, 1]</td>\n",
       "      <td>0</td>\n",
       "      <td>0</td>\n",
       "    </tr>\n",
       "    <tr>\n",
       "      <th>2555</th>\n",
       "      <td>Sarita Devi won her first pro bout by unanimou...</td>\n",
       "      <td>826014658549129216</td>\n",
       "      <td>Sarita Devi Announces Arrival On The Big Stage...</td>\n",
       "      <td>She beat Zsofia Bedo of Hungary.</td>\n",
       "      <td>0.0</td>\n",
       "      <td>[0, 757, 2]</td>\n",
       "      <td>[1, 1, 1]</td>\n",
       "      <td>0</td>\n",
       "      <td>0</td>\n",
       "    </tr>\n",
       "    <tr>\n",
       "      <th>1073</th>\n",
       "      <td>This is what #Aleppo looked like before the wa...</td>\n",
       "      <td>810627817029386240</td>\n",
       "      <td>This is what Aleppo looked like before the war</td>\n",
       "      <td>What the city looked like before the Syrian ci...</td>\n",
       "      <td>0.0</td>\n",
       "      <td>[0, 757, 2]</td>\n",
       "      <td>[1, 1, 1]</td>\n",
       "      <td>0</td>\n",
       "      <td>0</td>\n",
       "    </tr>\n",
       "    <tr>\n",
       "      <th>2520</th>\n",
       "      <td>In Mr. Pence’s new D.C. neighborhood, not exac...</td>\n",
       "      <td>805220588730118144</td>\n",
       "      <td>In Mr. Pence’s new D.C. neighborhood, not exac...</td>\n",
       "      <td>In silent protest, residents hoisted gay pride...</td>\n",
       "      <td>0.0</td>\n",
       "      <td>[0, 757, 2]</td>\n",
       "      <td>[1, 1, 1]</td>\n",
       "      <td>0</td>\n",
       "      <td>0</td>\n",
       "    </tr>\n",
       "    <tr>\n",
       "      <th>...</th>\n",
       "      <td>...</td>\n",
       "      <td>...</td>\n",
       "      <td>...</td>\n",
       "      <td>...</td>\n",
       "      <td>...</td>\n",
       "      <td>...</td>\n",
       "      <td>...</td>\n",
       "      <td>...</td>\n",
       "      <td>...</td>\n",
       "    </tr>\n",
       "    <tr>\n",
       "      <th>3492</th>\n",
       "      <td>Analysis: MLB spring training is unnecessarily...</td>\n",
       "      <td>831229223507546112</td>\n",
       "      <td>MLB spring training is unnecessarily long. Bla...</td>\n",
       "      <td>Position players don't need most of it, and te...</td>\n",
       "      <td>1.0</td>\n",
       "      <td>[0, 805, 2]</td>\n",
       "      <td>[1, 1, 1]</td>\n",
       "      <td>1</td>\n",
       "      <td>1</td>\n",
       "    </tr>\n",
       "    <tr>\n",
       "      <th>174</th>\n",
       "      <td>Michel Roux Jr, here’s a recipe for tipping | ...</td>\n",
       "      <td>809827201344475136</td>\n",
       "      <td>Michel Roux Jr, here’s a recipe for tipping</td>\n",
       "      <td>His Le Gavroche restaurant has criminally unde...</td>\n",
       "      <td>1.0</td>\n",
       "      <td>[0, 805, 2]</td>\n",
       "      <td>[1, 1, 1]</td>\n",
       "      <td>1</td>\n",
       "      <td>1</td>\n",
       "    </tr>\n",
       "    <tr>\n",
       "      <th>735</th>\n",
       "      <td>People are totally obsessed with this dad send...</td>\n",
       "      <td>816668016234688512</td>\n",
       "      <td>People Are Totally Obsessed With This Dad Send...</td>\n",
       "      <td></td>\n",
       "      <td>1.0</td>\n",
       "      <td>[0, 805, 2]</td>\n",
       "      <td>[1, 1, 1]</td>\n",
       "      <td>1</td>\n",
       "      <td>1</td>\n",
       "    </tr>\n",
       "    <tr>\n",
       "      <th>2973</th>\n",
       "      <td>Ariana Grande has a mini \"Victorious\" reunion ...</td>\n",
       "      <td>848998567754813440</td>\n",
       "      <td>Ariana Grande Has a Mini 'Victorious' Reunion ...</td>\n",
       "      <td>Ariana Grande was feeling pretty Victorious at...</td>\n",
       "      <td>1.0</td>\n",
       "      <td>[0, 805, 2]</td>\n",
       "      <td>[1, 1, 1]</td>\n",
       "      <td>1</td>\n",
       "      <td>1</td>\n",
       "    </tr>\n",
       "    <tr>\n",
       "      <th>3179</th>\n",
       "      <td>Partisan woes and a chaotic White House create...</td>\n",
       "      <td>858114668463837184</td>\n",
       "      <td>Congress at 100 Days: Frenetic Action but Few ...</td>\n",
       "      <td>Partisanship and a chaotic White House have co...</td>\n",
       "      <td>1.0</td>\n",
       "      <td>[0, 805, 2]</td>\n",
       "      <td>[1, 1, 1]</td>\n",
       "      <td>1</td>\n",
       "      <td>1</td>\n",
       "    </tr>\n",
       "  </tbody>\n",
       "</table>\n",
       "<p>3908 rows × 9 columns</p>\n",
       "</div>"
      ],
      "text/plain": [
       "                                               postText                  id  \\\n",
       "0     New tool lets you customize what kinds of onli...  807030514049761280   \n",
       "3386             Stephen Hawking is being sent to space  843757942952353792   \n",
       "2555  Sarita Devi won her first pro bout by unanimou...  826014658549129216   \n",
       "1073  This is what #Aleppo looked like before the wa...  810627817029386240   \n",
       "2520  In Mr. Pence’s new D.C. neighborhood, not exac...  805220588730118144   \n",
       "...                                                 ...                 ...   \n",
       "3492  Analysis: MLB spring training is unnecessarily...  831229223507546112   \n",
       "174   Michel Roux Jr, here’s a recipe for tipping | ...  809827201344475136   \n",
       "735   People are totally obsessed with this dad send...  816668016234688512   \n",
       "2973  Ariana Grande has a mini \"Victorious\" reunion ...  848998567754813440   \n",
       "3179  Partisan woes and a chaotic White House create...  858114668463837184   \n",
       "\n",
       "                                            targetTitle  \\\n",
       "0     You may soon be able to pick and choose the on...   \n",
       "3386  Stephen Hawking will travel to space on board ...   \n",
       "2555  Sarita Devi Announces Arrival On The Big Stage...   \n",
       "1073     This is what Aleppo looked like before the war   \n",
       "2520  In Mr. Pence’s new D.C. neighborhood, not exac...   \n",
       "...                                                 ...   \n",
       "3492  MLB spring training is unnecessarily long. Bla...   \n",
       "174         Michel Roux Jr, here’s a recipe for tipping   \n",
       "735   People Are Totally Obsessed With This Dad Send...   \n",
       "2973  Ariana Grande Has a Mini 'Victorious' Reunion ...   \n",
       "3179  Congress at 100 Days: Frenetic Action but Few ...   \n",
       "\n",
       "                                      targetDescription  truthMean  \\\n",
       "0     The Rubicon Project's new tool lets you custom...        0.0   \n",
       "3386  Stephen Hawking is going to go to space. The c...        0.0   \n",
       "2555                   She beat Zsofia Bedo of Hungary.        0.0   \n",
       "1073  What the city looked like before the Syrian ci...        0.0   \n",
       "2520  In silent protest, residents hoisted gay pride...        0.0   \n",
       "...                                                 ...        ...   \n",
       "3492  Position players don't need most of it, and te...        1.0   \n",
       "174   His Le Gavroche restaurant has criminally unde...        1.0   \n",
       "735                                                            1.0   \n",
       "2973  Ariana Grande was feeling pretty Victorious at...        1.0   \n",
       "3179  Partisanship and a chaotic White House have co...        1.0   \n",
       "\n",
       "        input_ids attention_mask  label  labelC  \n",
       "0     [0, 757, 2]      [1, 1, 1]      0       0  \n",
       "3386  [0, 757, 2]      [1, 1, 1]      0       0  \n",
       "2555  [0, 757, 2]      [1, 1, 1]      0       0  \n",
       "1073  [0, 757, 2]      [1, 1, 1]      0       0  \n",
       "2520  [0, 757, 2]      [1, 1, 1]      0       0  \n",
       "...           ...            ...    ...     ...  \n",
       "3492  [0, 805, 2]      [1, 1, 1]      1       1  \n",
       "174   [0, 805, 2]      [1, 1, 1]      1       1  \n",
       "735   [0, 805, 2]      [1, 1, 1]      1       1  \n",
       "2973  [0, 805, 2]      [1, 1, 1]      1       1  \n",
       "3179  [0, 805, 2]      [1, 1, 1]      1       1  \n",
       "\n",
       "[3908 rows x 9 columns]"
      ]
     },
     "execution_count": 45,
     "metadata": {},
     "output_type": "execute_result"
    }
   ],
   "source": [
    "tct"
   ]
  },
  {
   "cell_type": "code",
   "execution_count": 46,
   "metadata": {},
   "outputs": [
    {
     "data": {
      "text/plain": [
       "count    3908.000000\n",
       "mean        0.532242\n",
       "std         0.499023\n",
       "min         0.000000\n",
       "25%         0.000000\n",
       "50%         1.000000\n",
       "75%         1.000000\n",
       "max         1.000000\n",
       "Name: labelC, dtype: float64"
      ]
     },
     "execution_count": 46,
     "metadata": {},
     "output_type": "execute_result"
    }
   ],
   "source": [
    "tct[\"labelC\"].describe()"
   ]
  },
  {
   "cell_type": "code",
   "execution_count": 47,
   "metadata": {},
   "outputs": [
    {
     "data": {
      "text/html": [
       "<div>\n",
       "<style scoped>\n",
       "    .dataframe tbody tr th:only-of-type {\n",
       "        vertical-align: middle;\n",
       "    }\n",
       "\n",
       "    .dataframe tbody tr th {\n",
       "        vertical-align: top;\n",
       "    }\n",
       "\n",
       "    .dataframe thead th {\n",
       "        text-align: right;\n",
       "    }\n",
       "</style>\n",
       "<table border=\"1\" class=\"dataframe\">\n",
       "  <thead>\n",
       "    <tr style=\"text-align: right;\">\n",
       "      <th></th>\n",
       "      <th>id</th>\n",
       "      <th>truthMean</th>\n",
       "      <th>label</th>\n",
       "      <th>labelC</th>\n",
       "    </tr>\n",
       "  </thead>\n",
       "  <tbody>\n",
       "    <tr>\n",
       "      <th>id</th>\n",
       "      <td>1.000000</td>\n",
       "      <td>0.015939</td>\n",
       "      <td>0.004216</td>\n",
       "      <td>0.004216</td>\n",
       "    </tr>\n",
       "    <tr>\n",
       "      <th>truthMean</th>\n",
       "      <td>0.015939</td>\n",
       "      <td>1.000000</td>\n",
       "      <td>0.787872</td>\n",
       "      <td>0.787872</td>\n",
       "    </tr>\n",
       "    <tr>\n",
       "      <th>label</th>\n",
       "      <td>0.004216</td>\n",
       "      <td>0.787872</td>\n",
       "      <td>1.000000</td>\n",
       "      <td>1.000000</td>\n",
       "    </tr>\n",
       "    <tr>\n",
       "      <th>labelC</th>\n",
       "      <td>0.004216</td>\n",
       "      <td>0.787872</td>\n",
       "      <td>1.000000</td>\n",
       "      <td>1.000000</td>\n",
       "    </tr>\n",
       "  </tbody>\n",
       "</table>\n",
       "</div>"
      ],
      "text/plain": [
       "                 id  truthMean     label    labelC\n",
       "id         1.000000   0.015939  0.004216  0.004216\n",
       "truthMean  0.015939   1.000000  0.787872  0.787872\n",
       "label      0.004216   0.787872  1.000000  1.000000\n",
       "labelC     0.004216   0.787872  1.000000  1.000000"
      ]
     },
     "execution_count": 47,
     "metadata": {},
     "output_type": "execute_result"
    }
   ],
   "source": [
    "tct.corr()"
   ]
  },
  {
   "cell_type": "code",
   "execution_count": null,
   "metadata": {},
   "outputs": [],
   "source": []
  }
 ],
 "metadata": {
  "interpreter": {
   "hash": "518d7075d1893c878292e2224ccc1059d061275fbe8ab229c7a260871a84e0e1"
  },
  "kernelspec": {
   "display_name": "Python 3 (ipykernel)",
   "language": "python",
   "name": "python3"
  },
  "language_info": {
   "codemirror_mode": {
    "name": "ipython",
    "version": 3
   },
   "file_extension": ".py",
   "mimetype": "text/x-python",
   "name": "python",
   "nbconvert_exporter": "python",
   "pygments_lexer": "ipython3",
   "version": "3.9.7"
  }
 },
 "nbformat": 4,
 "nbformat_minor": 4
}
