{
 "cells": [
  {
   "cell_type": "code",
   "execution_count": 1,
   "metadata": {},
   "outputs": [],
   "source": [
    "modelPath = \"Clickbait\"\n",
    "checkpoint = \"microsoft/Multilingual-MiniLM-L12-H384\"   # \"cmarkea/distilcamembert-base-sentiment\"\n",
    "                                              # \"cmarkea/distilcamembert-base\"\n",
    "                                              # \"camembert-base\"\n",
    "                                              # \"microsoft/Multilingual-MiniLM-L12-H384\"\n",
    "                                              # \"nlptown/bert-base-multilingual-uncased-sentiment\"\n",
    "                                              # \"distilbert-base-uncased-finetuned-sst-2-english\"\n",
    "                                              # \"bert-base-uncased\"\n",
    "problem_type =  \"single_label_classification\" # Valeurs possibles : \"regression\", \"single_label_classification\", \"multi_label_classification\"\n",
    "num_labels = 2                                # 5\n",
    "dataCuratedPath = \"Data/Curated\"              # Données pour tous les sites du 1er janvier 2021 au 30 avril 2021\n",
    "                                              # Données juste pour le site \"Actualités, trucs et astuces\" entre le 1er mai et le 31 juillet 2021.\n",
    "                                              # Les colonnes sont les suivantes, séparées par des \";\" :\n",
    "                                              #    Page name;Title;Publish time;People Reached;Link Clicks\n",
    "LCfraction = 'truthMean'                      # 'LCFraction'\n",
    "inputColumn = 'targetTitle'\n",
    "removeColumns = ['postText', 'targetTitle', 'postTimestamp', 'targetKeywords', 'targetDescription', 'id', 'truthMean'] # Il faut enlever les colonnes de type texte\n",
    "splitFactor = 0.1                             # Proportion de données réservées pour les tests\n",
    "push_to_hub = False\n",
    "learning_rate = 5e-5\n",
    "weight_decay=0.01"
   ]
  },
  {
   "cell_type": "code",
   "execution_count": 2,
   "metadata": {},
   "outputs": [],
   "source": [
    "import torch\n",
    "import numpy as np"
   ]
  },
  {
   "cell_type": "code",
   "execution_count": 3,
   "metadata": {},
   "outputs": [
    {
     "name": "stderr",
     "output_type": "stream",
     "text": [
      "Some weights of BertForSequenceClassification were not initialized from the model checkpoint at microsoft/Multilingual-MiniLM-L12-H384 and are newly initialized: ['classifier.bias', 'classifier.weight']\n",
      "You should probably TRAIN this model on a down-stream task to be able to use it for predictions and inference.\n"
     ]
    }
   ],
   "source": [
    "from transformers import AutoTokenizer, AutoModelForSequenceClassification\n",
    "\n",
    "tokenizer = AutoTokenizer.from_pretrained(checkpoint)\n",
    "model = AutoModelForSequenceClassification.from_pretrained(\n",
    "   checkpoint,\n",
    "   problem_type=problem_type, # on pourra enlever ce paramètre si ca marche plus\n",
    "   num_labels = num_labels)"
   ]
  },
  {
   "cell_type": "code",
   "execution_count": 4,
   "metadata": {},
   "outputs": [
    {
     "name": "stdout",
     "output_type": "stream",
     "text": [
      "{'input_ids': [0, 84602, 4, 6868, 3244, 307, 705, 2], 'attention_mask': [1, 1, 1, 1, 1, 1, 1, 1]}\n",
      "['▁Bonjour', ',', '▁comment', '▁ça', '▁va', '▁?']\n",
      "[0, 84602, 4, 6868, 3244, 307, 705, 2]\n",
      "[84602, 4, 6868, 3244, 307, 705]\n",
      "['▁די', 's', '▁zu', '▁and', '▁es', '▁1']\n",
      ". דיs zu and es 1 \n"
     ]
    }
   ],
   "source": [
    "print(tokenizer(\"Bonjour, comment ça va ?\"))\n",
    "print(tokenizer.tokenize(\"Bonjour, comment ça va ?\"))\n",
    "print(tokenizer.encode(\"Bonjour, comment ça va ?\"))\n",
    "print(tokenizer.convert_tokens_to_ids(['▁Bonjour', ',', '▁comment', '▁ça', '▁va', '▁?']))\n",
    "print(tokenizer.convert_ids_to_tokens([1285, 7, 404, 136, 198, 106]))\n",
    "print(tokenizer.decode([5, 1285, 7, 404, 136, 198, 106, 6]))"
   ]
  },
  {
   "cell_type": "code",
   "execution_count": 5,
   "metadata": {},
   "outputs": [],
   "source": [
    "import datasets as ds"
   ]
  },
  {
   "cell_type": "code",
   "execution_count": 6,
   "metadata": {},
   "outputs": [],
   "source": [
    "curated = ds.load_from_disk(dataCuratedPath)"
   ]
  },
  {
   "cell_type": "code",
   "execution_count": 7,
   "metadata": {},
   "outputs": [
    {
     "data": {
      "text/html": [
       "<div>\n",
       "<style scoped>\n",
       "    .dataframe tbody tr th:only-of-type {\n",
       "        vertical-align: middle;\n",
       "    }\n",
       "\n",
       "    .dataframe tbody tr th {\n",
       "        vertical-align: top;\n",
       "    }\n",
       "\n",
       "    .dataframe thead th {\n",
       "        text-align: right;\n",
       "    }\n",
       "</style>\n",
       "<table border=\"1\" class=\"dataframe\">\n",
       "  <thead>\n",
       "    <tr style=\"text-align: right;\">\n",
       "      <th></th>\n",
       "      <th>postText</th>\n",
       "      <th>id</th>\n",
       "      <th>targetTitle</th>\n",
       "      <th>postTimestamp</th>\n",
       "      <th>targetKeywords</th>\n",
       "      <th>targetDescription</th>\n",
       "      <th>truthMean</th>\n",
       "    </tr>\n",
       "  </thead>\n",
       "  <tbody>\n",
       "    <tr>\n",
       "      <th>0</th>\n",
       "      <td>[UK’s response to modern slavery leaving victi...</td>\n",
       "      <td>858462320779026432</td>\n",
       "      <td>‘Inexcusable’ failures in UK’s response to mod...</td>\n",
       "      <td>Sat Apr 29 23:25:41 +0000 2017</td>\n",
       "      <td>modern slavery, Department For Work And Pensio...</td>\n",
       "      <td>“Inexcusable” failures in the UK’s system for ...</td>\n",
       "      <td>1.000000</td>\n",
       "    </tr>\n",
       "    <tr>\n",
       "      <th>1</th>\n",
       "      <td>[this is good]</td>\n",
       "      <td>858421020331560960</td>\n",
       "      <td>Donald Trump Appoints Pro-Life Advocate as Ass...</td>\n",
       "      <td>Sat Apr 29 20:41:34 +0000 2017</td>\n",
       "      <td>Americans United for Life, Dr. Charmaine Yoest...</td>\n",
       "      <td>President Donald Trump has appointed pro-life ...</td>\n",
       "      <td>0.133333</td>\n",
       "    </tr>\n",
       "    <tr>\n",
       "      <th>2</th>\n",
       "      <td>[The \"forgotten\" Trump roast: Relive his bruta...</td>\n",
       "      <td>858368123753435136</td>\n",
       "      <td>The ‘forgotten’ Trump roast: Relive his brutal...</td>\n",
       "      <td>Sat Apr 29 17:11:23 +0000 2017</td>\n",
       "      <td>trump whcd, whcd, white house correspondents d...</td>\n",
       "      <td>President Trump won't be at this year's White ...</td>\n",
       "      <td>0.400000</td>\n",
       "    </tr>\n",
       "    <tr>\n",
       "      <th>3</th>\n",
       "      <td>[Meet the happiest #dog in the world!]</td>\n",
       "      <td>858323428260139008</td>\n",
       "      <td>Meet The Happiest Dog In The World, Maru The H...</td>\n",
       "      <td>Sat Apr 29 14:13:46 +0000 2017</td>\n",
       "      <td>Maru, husky, dogs, pandas, furball, instagram</td>\n",
       "      <td>The article is about Maru, a husky dog who has...</td>\n",
       "      <td>0.266667</td>\n",
       "    </tr>\n",
       "    <tr>\n",
       "      <th>4</th>\n",
       "      <td>[Tokyo's subway is shut down amid fears over a...</td>\n",
       "      <td>858283602626347008</td>\n",
       "      <td>Tokyo's subway is shut down amid fears over an...</td>\n",
       "      <td>Sat Apr 29 11:35:31 +0000 2017</td>\n",
       "      <td>Tokyo,subway,shut,fears,North,Korean,attack</td>\n",
       "      <td>The temporary suspension, which lasted ten min...</td>\n",
       "      <td>0.000000</td>\n",
       "    </tr>\n",
       "    <tr>\n",
       "      <th>...</th>\n",
       "      <td>...</td>\n",
       "      <td>...</td>\n",
       "      <td>...</td>\n",
       "      <td>...</td>\n",
       "      <td>...</td>\n",
       "      <td>...</td>\n",
       "      <td>...</td>\n",
       "    </tr>\n",
       "    <tr>\n",
       "      <th>19533</th>\n",
       "      <td>[Brazil soccer team and pilot's final intervie...</td>\n",
       "      <td>804250183642976256</td>\n",
       "      <td>NBC News Video See Brazil Soccer Team, Pilot’s...</td>\n",
       "      <td>Thu Dec 01 09:06:00 +0000 2016</td>\n",
       "      <td></td>\n",
       "      <td>NBC News</td>\n",
       "      <td>0.133333</td>\n",
       "    </tr>\n",
       "    <tr>\n",
       "      <th>19534</th>\n",
       "      <td>[😱😱😱😱😱😱😱😱😱😱😱😱😱😱]</td>\n",
       "      <td>804156272086020096</td>\n",
       "      <td>Politico Scoop: Eric Trump Killed Two Deer</td>\n",
       "      <td>Thu Dec 01 02:52:50 +0000 2016</td>\n",
       "      <td>Politico Scoop: Eric Trump Killed Two Deer</td>\n",
       "      <td>Politico Scoop: Eric Trump Killed Two Deer</td>\n",
       "      <td>0.066667</td>\n",
       "    </tr>\n",
       "    <tr>\n",
       "      <th>19535</th>\n",
       "      <td>[Frenchs Forest high school may have to make w...</td>\n",
       "      <td>804149798651588608</td>\n",
       "      <td>Frenchs Forest high school may relocate to mak...</td>\n",
       "      <td>Thu Dec 01 02:27:07 +0000 2016</td>\n",
       "      <td>frenchs forest, northern beaches, sydney, rede...</td>\n",
       "      <td>The Forest High School on Sydney's northern be...</td>\n",
       "      <td>0.333333</td>\n",
       "    </tr>\n",
       "    <tr>\n",
       "      <th>19536</th>\n",
       "      <td>[Oh Jeff… #bruh]</td>\n",
       "      <td>804134698729385984</td>\n",
       "      <td>Los Angeles Rams Jeff Fisher May Think Danny W...</td>\n",
       "      <td>Thu Dec 01 01:27:06 +0000 2016</td>\n",
       "      <td>Humor, Football, NFL, NFC West, Los Angeles Ra...</td>\n",
       "      <td>Los Angeles Rams news, rumors, scores, schedul...</td>\n",
       "      <td>0.733333</td>\n",
       "    </tr>\n",
       "    <tr>\n",
       "      <th>19537</th>\n",
       "      <td>[Richard Sherman weighs in on Cam Newton’s str...</td>\n",
       "      <td>804126501117435904</td>\n",
       "      <td>Seattle Seahawks Richard Sherman Says 'Karma' ...</td>\n",
       "      <td>Thu Dec 01 00:54:32 +0000 2016</td>\n",
       "      <td>Football, NFL, NFC West, Seattle Seahawks, Bre...</td>\n",
       "      <td>Seattle Seahawks news, rumors, scores, schedul...</td>\n",
       "      <td>0.066667</td>\n",
       "    </tr>\n",
       "  </tbody>\n",
       "</table>\n",
       "<p>19538 rows × 7 columns</p>\n",
       "</div>"
      ],
      "text/plain": [
       "                                                postText                  id  \\\n",
       "0      [UK’s response to modern slavery leaving victi...  858462320779026432   \n",
       "1                                         [this is good]  858421020331560960   \n",
       "2      [The \"forgotten\" Trump roast: Relive his bruta...  858368123753435136   \n",
       "3                 [Meet the happiest #dog in the world!]  858323428260139008   \n",
       "4      [Tokyo's subway is shut down amid fears over a...  858283602626347008   \n",
       "...                                                  ...                 ...   \n",
       "19533  [Brazil soccer team and pilot's final intervie...  804250183642976256   \n",
       "19534                                   [😱😱😱😱😱😱😱😱😱😱😱😱😱😱]  804156272086020096   \n",
       "19535  [Frenchs Forest high school may have to make w...  804149798651588608   \n",
       "19536                                   [Oh Jeff… #bruh]  804134698729385984   \n",
       "19537  [Richard Sherman weighs in on Cam Newton’s str...  804126501117435904   \n",
       "\n",
       "                                             targetTitle  \\\n",
       "0      ‘Inexcusable’ failures in UK’s response to mod...   \n",
       "1      Donald Trump Appoints Pro-Life Advocate as Ass...   \n",
       "2      The ‘forgotten’ Trump roast: Relive his brutal...   \n",
       "3      Meet The Happiest Dog In The World, Maru The H...   \n",
       "4      Tokyo's subway is shut down amid fears over an...   \n",
       "...                                                  ...   \n",
       "19533  NBC News Video See Brazil Soccer Team, Pilot’s...   \n",
       "19534         Politico Scoop: Eric Trump Killed Two Deer   \n",
       "19535  Frenchs Forest high school may relocate to mak...   \n",
       "19536  Los Angeles Rams Jeff Fisher May Think Danny W...   \n",
       "19537  Seattle Seahawks Richard Sherman Says 'Karma' ...   \n",
       "\n",
       "                        postTimestamp  \\\n",
       "0      Sat Apr 29 23:25:41 +0000 2017   \n",
       "1      Sat Apr 29 20:41:34 +0000 2017   \n",
       "2      Sat Apr 29 17:11:23 +0000 2017   \n",
       "3      Sat Apr 29 14:13:46 +0000 2017   \n",
       "4      Sat Apr 29 11:35:31 +0000 2017   \n",
       "...                               ...   \n",
       "19533  Thu Dec 01 09:06:00 +0000 2016   \n",
       "19534  Thu Dec 01 02:52:50 +0000 2016   \n",
       "19535  Thu Dec 01 02:27:07 +0000 2016   \n",
       "19536  Thu Dec 01 01:27:06 +0000 2016   \n",
       "19537  Thu Dec 01 00:54:32 +0000 2016   \n",
       "\n",
       "                                          targetKeywords  \\\n",
       "0      modern slavery, Department For Work And Pensio...   \n",
       "1      Americans United for Life, Dr. Charmaine Yoest...   \n",
       "2      trump whcd, whcd, white house correspondents d...   \n",
       "3          Maru, husky, dogs, pandas, furball, instagram   \n",
       "4            Tokyo,subway,shut,fears,North,Korean,attack   \n",
       "...                                                  ...   \n",
       "19533                                                      \n",
       "19534         Politico Scoop: Eric Trump Killed Two Deer   \n",
       "19535  frenchs forest, northern beaches, sydney, rede...   \n",
       "19536  Humor, Football, NFL, NFC West, Los Angeles Ra...   \n",
       "19537  Football, NFL, NFC West, Seattle Seahawks, Bre...   \n",
       "\n",
       "                                       targetDescription  truthMean  \n",
       "0      “Inexcusable” failures in the UK’s system for ...   1.000000  \n",
       "1      President Donald Trump has appointed pro-life ...   0.133333  \n",
       "2      President Trump won't be at this year's White ...   0.400000  \n",
       "3      The article is about Maru, a husky dog who has...   0.266667  \n",
       "4      The temporary suspension, which lasted ten min...   0.000000  \n",
       "...                                                  ...        ...  \n",
       "19533                                           NBC News   0.133333  \n",
       "19534         Politico Scoop: Eric Trump Killed Two Deer   0.066667  \n",
       "19535  The Forest High School on Sydney's northern be...   0.333333  \n",
       "19536  Los Angeles Rams news, rumors, scores, schedul...   0.733333  \n",
       "19537  Seattle Seahawks news, rumors, scores, schedul...   0.066667  \n",
       "\n",
       "[19538 rows x 7 columns]"
      ]
     },
     "execution_count": 7,
     "metadata": {},
     "output_type": "execute_result"
    }
   ],
   "source": [
    "curated.to_pandas()"
   ]
  },
  {
   "cell_type": "code",
   "execution_count": 8,
   "metadata": {},
   "outputs": [],
   "source": [
    "longueur= len(curated)"
   ]
  },
  {
   "cell_type": "code",
   "execution_count": 9,
   "metadata": {},
   "outputs": [],
   "source": [
    "trie=sorted(curated[LCfraction])"
   ]
  },
  {
   "cell_type": "code",
   "execution_count": 10,
   "metadata": {},
   "outputs": [],
   "source": [
    "import matplotlib.pyplot as plt"
   ]
  },
  {
   "cell_type": "code",
   "execution_count": 11,
   "metadata": {},
   "outputs": [
    {
     "data": {
      "text/plain": [
       "[<matplotlib.lines.Line2D at 0x22d92632e50>]"
      ]
     },
     "execution_count": 11,
     "metadata": {},
     "output_type": "execute_result"
    },
    {
     "data": {
      "image/png": "[encoded data removed]",
      "text/plain": [
       "<Figure size 1872x1440 with 1 Axes>"
      ]
     },
     "metadata": {
      "needs_background": "light"
     },
     "output_type": "display_data"
    }
   ],
   "source": [
    "plt.figure(figsize=(26, 20))\n",
    "plt.title(\"Plotting 1-D array\")\n",
    "plt.xlabel(\"Ordered Title\")\n",
    "plt.ylabel(LCfraction)\n",
    "x = np.array(range(0, longueur))\n",
    "y = np.array(trie)\n",
    "plt.plot(x, y, color = \"red\", marker = \"o\", label = \"Array elements\")"
   ]
  },
  {
   "cell_type": "code",
   "execution_count": 12,
   "metadata": {},
   "outputs": [
    {
     "data": {
      "text/plain": [
       "[0.26666666664]"
      ]
     },
     "execution_count": 12,
     "metadata": {},
     "output_type": "execute_result"
    }
   ],
   "source": [
    "ncf=[None] * (num_labels-1)\n",
    "for i in range(num_labels-1):\n",
    "    ncf[i] = trie[longueur * (i+1) // num_labels]\n",
    "ncf"
   ]
  },
  {
   "cell_type": "code",
   "execution_count": 13,
   "metadata": {},
   "outputs": [],
   "source": [
    "def tokenize(sample):\n",
    "    tokenized_sample = tokenizer(\n",
    "            sample[inputColumn],   #  postText + \". Paru dans \" + sample[\"Page name\"], #+ \", le \" + sample[\"Publish time\"]\n",
    "            #padding=True,\n",
    "            #truncation=True,\n",
    "            #max_length=30\n",
    "            )\n",
    "    fraction = sample[LCfraction]\n",
    "    \n",
    "    if num_labels == 1:\n",
    "        tokenized_sample[\"labels\"] = fraction\n",
    "    else:\n",
    "        tokenized_sample[\"labels\"] = next((x for x, val in enumerate(ncf) if fraction < val), num_labels-1)\n",
    "        \n",
    "    # print( fraction, tokenized_sample[\"labels\"], sample['postText'])\n",
    "    \n",
    "    return tokenized_sample"
   ]
  },
  {
   "cell_type": "code",
   "execution_count": 14,
   "metadata": {},
   "outputs": [
    {
     "data": {
      "application/vnd.jupyter.widget-view+json": {
       "model_id": "ee44860f95de470dad6d4c6b0041947f",
       "version_major": 2,
       "version_minor": 0
      },
      "text/plain": [
       "  0%|          | 0/19538 [00:00<?, ?ex/s]"
      ]
     },
     "metadata": {},
     "output_type": "display_data"
    }
   ],
   "source": [
    "tokenized_curated = curated.map(tokenize) #, batched=True)"
   ]
  },
  {
   "cell_type": "code",
   "execution_count": 15,
   "metadata": {},
   "outputs": [
    {
     "data": {
      "text/plain": [
       "Dataset({\n",
       "    features: ['postText', 'id', 'targetTitle', 'postTimestamp', 'targetKeywords', 'targetDescription', 'truthMean', 'input_ids', 'attention_mask', 'labels'],\n",
       "    num_rows: 19538\n",
       "})"
      ]
     },
     "execution_count": 15,
     "metadata": {},
     "output_type": "execute_result"
    }
   ],
   "source": [
    "tokenized_curated"
   ]
  },
  {
   "cell_type": "code",
   "execution_count": 16,
   "metadata": {},
   "outputs": [
    {
     "name": "stdout",
     "output_type": "stream",
     "text": [
      "{'postText': [['UK’s response to modern slavery leaving victims destitute while abusers go free'], ['this is good']], 'id': [858462320779026432, 858421020331560960], 'targetTitle': ['‘Inexcusable’ failures in UK’s response to modern slavery leaving victims destitute while abusers go free, report warns', 'Donald Trump Appoints Pro-Life Advocate as Assistant Secretary of HHS for Public Affairs'], 'postTimestamp': ['Sat Apr 29 23:25:41 +0000 2017', 'Sat Apr 29 20:41:34 +0000 2017'], 'targetKeywords': ['modern slavery, Department For Work And Pensions, People Trafficking, Frank Field, Home News, UK, News', 'Americans United for Life, Dr. Charmaine Yoest, Planned Parenthood, pro-life, U.S. Department of Health and Human Services,Abortion, Big Government,Pro-Life'], 'targetDescription': ['“Inexcusable” failures in the UK’s system for dealing with modern slavery are\\xa0leaving victims reduced to destitution while their abusers go free because they are not adequately supported to testify against them, an alarming report has warned.', 'President Donald Trump has appointed pro-life advocate and former president of Americans United for Life Dr. Charmaine Yoest to be Assistant Secretary of Public Affairs for the Department of Health and Human Services.'], 'truthMean': [1.0, 0.13333333332], 'input_ids': [[0, 204, 4153, 3355, 11680, 2886, 26, 137578, 7, 23, 17274, 26, 7, 57553, 47, 5744, 94859, 1294, 137802, 91519, 7, 8, 13480, 67, 12960, 128431, 4295, 738, 4092, 4, 13416, 1631, 1779, 2], [0, 16692, 5879, 5787, 38496, 7, 1250, 9, 69397, 3145, 965, 33478, 237, 181595, 196212, 111, 572, 38131, 100, 16934, 184593, 2]], 'attention_mask': [[1, 1, 1, 1, 1, 1, 1, 1, 1, 1, 1, 1, 1, 1, 1, 1, 1, 1, 1, 1, 1, 1, 1, 1, 1, 1, 1, 1, 1, 1, 1, 1, 1, 1], [1, 1, 1, 1, 1, 1, 1, 1, 1, 1, 1, 1, 1, 1, 1, 1, 1, 1, 1, 1, 1, 1]], 'labels': [1, 0]}\n"
     ]
    }
   ],
   "source": [
    "print(tokenized_curated[0:2])"
   ]
  },
  {
   "cell_type": "code",
   "execution_count": 17,
   "metadata": {},
   "outputs": [],
   "source": [
    "tokenized_curated2 = tokenized_curated.train_test_split(splitFactor) # 0.2"
   ]
  },
  {
   "cell_type": "code",
   "execution_count": 18,
   "metadata": {},
   "outputs": [
    {
     "data": {
      "text/html": [
       "<div>\n",
       "<style scoped>\n",
       "    .dataframe tbody tr th:only-of-type {\n",
       "        vertical-align: middle;\n",
       "    }\n",
       "\n",
       "    .dataframe tbody tr th {\n",
       "        vertical-align: top;\n",
       "    }\n",
       "\n",
       "    .dataframe thead th {\n",
       "        text-align: right;\n",
       "    }\n",
       "</style>\n",
       "<table border=\"1\" class=\"dataframe\">\n",
       "  <thead>\n",
       "    <tr style=\"text-align: right;\">\n",
       "      <th></th>\n",
       "      <th>postText</th>\n",
       "      <th>id</th>\n",
       "      <th>targetTitle</th>\n",
       "      <th>postTimestamp</th>\n",
       "      <th>targetKeywords</th>\n",
       "      <th>targetDescription</th>\n",
       "      <th>truthMean</th>\n",
       "      <th>input_ids</th>\n",
       "      <th>attention_mask</th>\n",
       "      <th>labels</th>\n",
       "    </tr>\n",
       "  </thead>\n",
       "  <tbody>\n",
       "    <tr>\n",
       "      <th>0</th>\n",
       "      <td>[.@IAmSteveHarvey says @POTUS is 'keeping his ...</td>\n",
       "      <td>855098282330255360</td>\n",
       "      <td>Steve Harvey says Trump is 'keeping his word'</td>\n",
       "      <td>Thu Apr 20 16:38:12 +0000 2017</td>\n",
       "      <td></td>\n",
       "      <td>Steve Harvey said President Donald Trump is a ...</td>\n",
       "      <td>0.333333</td>\n",
       "      <td>[0, 41550, 194092, 17378, 5879, 83, 242, 50453...</td>\n",
       "      <td>[1, 1, 1, 1, 1, 1, 1, 1, 1, 1, 1, 1, 1, 1]</td>\n",
       "      <td>1</td>\n",
       "    </tr>\n",
       "    <tr>\n",
       "      <th>1</th>\n",
       "      <td>[Pizza dipped in milk is a crime against pizza...</td>\n",
       "      <td>838167206009659392</td>\n",
       "      <td>Pizza dipped in milk is the most disrespectful...</td>\n",
       "      <td>Sat Mar 04 23:20:08 +0000 2017</td>\n",
       "      <td>twitter, pizza, food, watercooler</td>\n",
       "      <td>What, are you really going to drink cheesy tom...</td>\n",
       "      <td>0.066667</td>\n",
       "      <td>[0, 78011, 45, 48398, 23, 124111, 83, 70, 2684...</td>\n",
       "      <td>[1, 1, 1, 1, 1, 1, 1, 1, 1, 1, 1, 1, 1, 1, 1, 1]</td>\n",
       "      <td>0</td>\n",
       "    </tr>\n",
       "    <tr>\n",
       "      <th>2</th>\n",
       "      <td>[Dutch election explained in tulips]</td>\n",
       "      <td>841081528314658816</td>\n",
       "      <td>Dutch election explained in tulips</td>\n",
       "      <td>Mon Mar 13 00:20:37 +0000 2017</td>\n",
       "      <td></td>\n",
       "      <td>Politics is a complicated affair in the Nether...</td>\n",
       "      <td>0.666667</td>\n",
       "      <td>[0, 174705, 81843, 189050, 23, 370, 95680, 2]</td>\n",
       "      <td>[1, 1, 1, 1, 1, 1, 1, 1]</td>\n",
       "      <td>1</td>\n",
       "    </tr>\n",
       "    <tr>\n",
       "      <th>3</th>\n",
       "      <td>[Think your fate is written in the stars? Quan...</td>\n",
       "      <td>833949382131195904</td>\n",
       "      <td>Quantum Physics Tells Us Our Fate Is Not Writt...</td>\n",
       "      <td>Tue Feb 21 08:00:01 +0000 2017</td>\n",
       "      <td></td>\n",
       "      <td>Quantum entanglement might be strange, but it ...</td>\n",
       "      <td>0.400000</td>\n",
       "      <td>[0, 75344, 316, 165712, 7, 59488, 7, 11756, 22...</td>\n",
       "      <td>[1, 1, 1, 1, 1, 1, 1, 1, 1, 1, 1, 1, 1, 1, 1, ...</td>\n",
       "      <td>1</td>\n",
       "    </tr>\n",
       "    <tr>\n",
       "      <th>4</th>\n",
       "      <td>[Adidas is revisting its history to make its n...</td>\n",
       "      <td>819469982199386112</td>\n",
       "      <td>Adidas Is Revisting Its History to Make Its Ne...</td>\n",
       "      <td>Thu Jan 12 09:04:03 +0000 2017</td>\n",
       "      <td></td>\n",
       "      <td>The &amp;#39;90s was a turbulent time for Adidas, ...</td>\n",
       "      <td>0.533333</td>\n",
       "      <td>[0, 108725, 2071, 63441, 7, 1916, 1650, 7, 657...</td>\n",
       "      <td>[1, 1, 1, 1, 1, 1, 1, 1, 1, 1, 1, 1, 1, 1, 1, ...</td>\n",
       "      <td>1</td>\n",
       "    </tr>\n",
       "    <tr>\n",
       "      <th>...</th>\n",
       "      <td>...</td>\n",
       "      <td>...</td>\n",
       "      <td>...</td>\n",
       "      <td>...</td>\n",
       "      <td>...</td>\n",
       "      <td>...</td>\n",
       "      <td>...</td>\n",
       "      <td>...</td>\n",
       "      <td>...</td>\n",
       "      <td>...</td>\n",
       "    </tr>\n",
       "    <tr>\n",
       "      <th>17579</th>\n",
       "      <td>[Mom gets 50 years for poisoning, burning her ...</td>\n",
       "      <td>836604394636455936</td>\n",
       "      <td>‘A crime so horrific’: Mom gets 50 years for p...</td>\n",
       "      <td>Tue Feb 28 15:50:05 +0000 2017</td>\n",
       "      <td></td>\n",
       "      <td>Md. woman says custody fight left her ‘broken,...</td>\n",
       "      <td>0.400000</td>\n",
       "      <td>[0, 204, 284, 46824, 221, 152240, 20941, 26, 1...</td>\n",
       "      <td>[1, 1, 1, 1, 1, 1, 1, 1, 1, 1, 1, 1, 1, 1, 1, ...</td>\n",
       "      <td>1</td>\n",
       "    </tr>\n",
       "    <tr>\n",
       "      <th>17580</th>\n",
       "      <td>[Hanging out with Miss Universe and some oliga...</td>\n",
       "      <td>811754575506051072</td>\n",
       "      <td>The Day Trump Came to Moscow: Oligarchs, Miss ...</td>\n",
       "      <td>Thu Dec 22 02:05:47 +0000 2016</td>\n",
       "      <td></td>\n",
       "      <td>The last time Donald Trump made an appearance ...</td>\n",
       "      <td>0.733333</td>\n",
       "      <td>[0, 581, 10013, 5879, 10071, 13, 47, 124338, 1...</td>\n",
       "      <td>[1, 1, 1, 1, 1, 1, 1, 1, 1, 1, 1, 1, 1, 1, 1, ...</td>\n",
       "      <td>1</td>\n",
       "    </tr>\n",
       "    <tr>\n",
       "      <th>17581</th>\n",
       "      <td>[LL Bean recalls 3,000 pairs of adjustable sno...</td>\n",
       "      <td>839399421213290496</td>\n",
       "      <td>LL Bean recalls 3,000 pairs of adjustable snow...</td>\n",
       "      <td>Wed Mar 08 08:56:31 +0000 2017</td>\n",
       "      <td>Business, General news, New products and servi...</td>\n",
       "      <td>LL Bean recalls 3,000 pairs of adjustable snow...</td>\n",
       "      <td>0.066667</td>\n",
       "      <td>[0, 99954, 131806, 189232, 7, 6, 63009, 80836,...</td>\n",
       "      <td>[1, 1, 1, 1, 1, 1, 1, 1, 1, 1, 1, 1, 1, 1, 1, ...</td>\n",
       "      <td>0</td>\n",
       "    </tr>\n",
       "    <tr>\n",
       "      <th>17582</th>\n",
       "      <td>[Report: Trump looking into revamping aerial s...</td>\n",
       "      <td>816410061241094144</td>\n",
       "      <td>Report: Trump looking into revamping aerial su...</td>\n",
       "      <td>Tue Jan 03 22:25:01 +0000 2017</td>\n",
       "      <td></td>\n",
       "      <td>The U.S. Customs and Border Protection identif...</td>\n",
       "      <td>0.000000</td>\n",
       "      <td>[0, 34798, 12, 5879, 16487, 3934, 456, 330, 44...</td>\n",
       "      <td>[1, 1, 1, 1, 1, 1, 1, 1, 1, 1, 1, 1, 1, 1, 1, ...</td>\n",
       "      <td>0</td>\n",
       "    </tr>\n",
       "    <tr>\n",
       "      <th>17583</th>\n",
       "      <td>[The ruble rallies after the Russian central b...</td>\n",
       "      <td>845298064512487424</td>\n",
       "      <td>Ruble Staging a Rally on Russia's Surprise Rat...</td>\n",
       "      <td>Fri Mar 24 15:35:38 +0000 2017</td>\n",
       "      <td>markets,world</td>\n",
       "      <td>The ruble rallied after the Russian central ba...</td>\n",
       "      <td>0.333333</td>\n",
       "      <td>[0, 65787, 133, 6512, 9966, 10, 131224, 98, 49...</td>\n",
       "      <td>[1, 1, 1, 1, 1, 1, 1, 1, 1, 1, 1, 1, 1, 1, 1, ...</td>\n",
       "      <td>1</td>\n",
       "    </tr>\n",
       "  </tbody>\n",
       "</table>\n",
       "<p>17584 rows × 10 columns</p>\n",
       "</div>"
      ],
      "text/plain": [
       "                                                postText                  id  \\\n",
       "0      [.@IAmSteveHarvey says @POTUS is 'keeping his ...  855098282330255360   \n",
       "1      [Pizza dipped in milk is a crime against pizza...  838167206009659392   \n",
       "2                   [Dutch election explained in tulips]  841081528314658816   \n",
       "3      [Think your fate is written in the stars? Quan...  833949382131195904   \n",
       "4      [Adidas is revisting its history to make its n...  819469982199386112   \n",
       "...                                                  ...                 ...   \n",
       "17579  [Mom gets 50 years for poisoning, burning her ...  836604394636455936   \n",
       "17580  [Hanging out with Miss Universe and some oliga...  811754575506051072   \n",
       "17581  [LL Bean recalls 3,000 pairs of adjustable sno...  839399421213290496   \n",
       "17582  [Report: Trump looking into revamping aerial s...  816410061241094144   \n",
       "17583  [The ruble rallies after the Russian central b...  845298064512487424   \n",
       "\n",
       "                                             targetTitle  \\\n",
       "0         Steve Harvey says Trump is 'keeping his word'    \n",
       "1      Pizza dipped in milk is the most disrespectful...   \n",
       "2                     Dutch election explained in tulips   \n",
       "3      Quantum Physics Tells Us Our Fate Is Not Writt...   \n",
       "4      Adidas Is Revisting Its History to Make Its Ne...   \n",
       "...                                                  ...   \n",
       "17579  ‘A crime so horrific’: Mom gets 50 years for p...   \n",
       "17580  The Day Trump Came to Moscow: Oligarchs, Miss ...   \n",
       "17581  LL Bean recalls 3,000 pairs of adjustable snow...   \n",
       "17582  Report: Trump looking into revamping aerial su...   \n",
       "17583  Ruble Staging a Rally on Russia's Surprise Rat...   \n",
       "\n",
       "                        postTimestamp  \\\n",
       "0      Thu Apr 20 16:38:12 +0000 2017   \n",
       "1      Sat Mar 04 23:20:08 +0000 2017   \n",
       "2      Mon Mar 13 00:20:37 +0000 2017   \n",
       "3      Tue Feb 21 08:00:01 +0000 2017   \n",
       "4      Thu Jan 12 09:04:03 +0000 2017   \n",
       "...                               ...   \n",
       "17579  Tue Feb 28 15:50:05 +0000 2017   \n",
       "17580  Thu Dec 22 02:05:47 +0000 2016   \n",
       "17581  Wed Mar 08 08:56:31 +0000 2017   \n",
       "17582  Tue Jan 03 22:25:01 +0000 2017   \n",
       "17583  Fri Mar 24 15:35:38 +0000 2017   \n",
       "\n",
       "                                          targetKeywords  \\\n",
       "0                                                          \n",
       "1                      twitter, pizza, food, watercooler   \n",
       "2                                                          \n",
       "3                                                          \n",
       "4                                                          \n",
       "...                                                  ...   \n",
       "17579                                                      \n",
       "17580                                                      \n",
       "17581  Business, General news, New products and servi...   \n",
       "17582                                                      \n",
       "17583                                      markets,world   \n",
       "\n",
       "                                       targetDescription  truthMean  \\\n",
       "0      Steve Harvey said President Donald Trump is a ...   0.333333   \n",
       "1      What, are you really going to drink cheesy tom...   0.066667   \n",
       "2      Politics is a complicated affair in the Nether...   0.666667   \n",
       "3      Quantum entanglement might be strange, but it ...   0.400000   \n",
       "4      The &#39;90s was a turbulent time for Adidas, ...   0.533333   \n",
       "...                                                  ...        ...   \n",
       "17579  Md. woman says custody fight left her ‘broken,...   0.400000   \n",
       "17580  The last time Donald Trump made an appearance ...   0.733333   \n",
       "17581  LL Bean recalls 3,000 pairs of adjustable snow...   0.066667   \n",
       "17582  The U.S. Customs and Border Protection identif...   0.000000   \n",
       "17583  The ruble rallied after the Russian central ba...   0.333333   \n",
       "\n",
       "                                               input_ids  \\\n",
       "0      [0, 41550, 194092, 17378, 5879, 83, 242, 50453...   \n",
       "1      [0, 78011, 45, 48398, 23, 124111, 83, 70, 2684...   \n",
       "2          [0, 174705, 81843, 189050, 23, 370, 95680, 2]   \n",
       "3      [0, 75344, 316, 165712, 7, 59488, 7, 11756, 22...   \n",
       "4      [0, 108725, 2071, 63441, 7, 1916, 1650, 7, 657...   \n",
       "...                                                  ...   \n",
       "17579  [0, 204, 284, 46824, 221, 152240, 20941, 26, 1...   \n",
       "17580  [0, 581, 10013, 5879, 10071, 13, 47, 124338, 1...   \n",
       "17581  [0, 99954, 131806, 189232, 7, 6, 63009, 80836,...   \n",
       "17582  [0, 34798, 12, 5879, 16487, 3934, 456, 330, 44...   \n",
       "17583  [0, 65787, 133, 6512, 9966, 10, 131224, 98, 49...   \n",
       "\n",
       "                                          attention_mask  labels  \n",
       "0             [1, 1, 1, 1, 1, 1, 1, 1, 1, 1, 1, 1, 1, 1]       1  \n",
       "1       [1, 1, 1, 1, 1, 1, 1, 1, 1, 1, 1, 1, 1, 1, 1, 1]       0  \n",
       "2                               [1, 1, 1, 1, 1, 1, 1, 1]       1  \n",
       "3      [1, 1, 1, 1, 1, 1, 1, 1, 1, 1, 1, 1, 1, 1, 1, ...       1  \n",
       "4      [1, 1, 1, 1, 1, 1, 1, 1, 1, 1, 1, 1, 1, 1, 1, ...       1  \n",
       "...                                                  ...     ...  \n",
       "17579  [1, 1, 1, 1, 1, 1, 1, 1, 1, 1, 1, 1, 1, 1, 1, ...       1  \n",
       "17580  [1, 1, 1, 1, 1, 1, 1, 1, 1, 1, 1, 1, 1, 1, 1, ...       1  \n",
       "17581  [1, 1, 1, 1, 1, 1, 1, 1, 1, 1, 1, 1, 1, 1, 1, ...       0  \n",
       "17582  [1, 1, 1, 1, 1, 1, 1, 1, 1, 1, 1, 1, 1, 1, 1, ...       0  \n",
       "17583  [1, 1, 1, 1, 1, 1, 1, 1, 1, 1, 1, 1, 1, 1, 1, ...       1  \n",
       "\n",
       "[17584 rows x 10 columns]"
      ]
     },
     "execution_count": 18,
     "metadata": {},
     "output_type": "execute_result"
    }
   ],
   "source": [
    "tokenized_curated2['train'].to_pandas()"
   ]
  },
  {
   "cell_type": "code",
   "execution_count": 19,
   "metadata": {},
   "outputs": [],
   "source": [
    "tokenized_curated3 = tokenized_curated2.remove_columns(removeColumns)"
   ]
  },
  {
   "cell_type": "code",
   "execution_count": 20,
   "metadata": {},
   "outputs": [],
   "source": [
    "tokenized_curated4 = tokenized_curated3"
   ]
  },
  {
   "cell_type": "code",
   "execution_count": 21,
   "metadata": {},
   "outputs": [],
   "source": [
    "tokenized_curated4.set_format(\"torch\")"
   ]
  },
  {
   "cell_type": "code",
   "execution_count": 22,
   "metadata": {},
   "outputs": [],
   "source": [
    "from transformers import DataCollatorWithPadding\n",
    "data_collator = DataCollatorWithPadding(tokenizer)"
   ]
  },
  {
   "cell_type": "code",
   "execution_count": 23,
   "metadata": {},
   "outputs": [],
   "source": [
    "from datasets import load_metric\n",
    "from sklearn.metrics import accuracy_score, f1_score, recall_score, precision_score\n",
    "def compute_metrics(eval_preds):\n",
    "    logits, labels = eval_preds\n",
    "    if num_labels == 1:\n",
    "        metric = load_metric(\"mse\")\n",
    "        return metric.compute(predictions=logits, references=labels)\n",
    "    elif num_labels == 2:\n",
    "        predictions = np.argmax(logits, axis=-1)\n",
    "        accuracy = accuracy_score(y_true=labels, y_pred=predictions)\n",
    "#    recall = recall_score(y_true=labels, y_pred=predictions)\n",
    "#    precision = precision_score(y_true=labels, y_pred=predictions)\n",
    "        f1 = f1_score(y_true=labels, y_pred=predictions)\n",
    "    # return metric.compute(predictions=predictions, references=labels) # , average = 'weighted'\n",
    "        return {\"accuracy\": accuracy, \"f1\": f1 } #\" \"matthews_correlation\":matthews_correlation precision\": precision, \"recall\": recall, \"f1\": f1, \n",
    "    else:\n",
    "        predictions = np.argmax(logits, axis=-1)\n",
    "        metric = load_metric(\"matthews_correlation\") # matthews_correlation, accuracy \"glue\", \"mrpc\") # , \"sst2\") #  stsb de la ouatte de phoque\n",
    "        matthews_correlation = metric.compute(predictions=predictions, references=labels)\n",
    "        # accuracy = accuracy_score(y_true=labels, y_pred=predictions)\n",
    "        # f1 = f1_score(y_true=labels, y_pred=predictions)\n",
    "        return matthews_correlation\n",
    "        # return {\"accuracy\": accuracy}.update(matthews_correlation)"
   ]
  },
  {
   "cell_type": "code",
   "execution_count": 25,
   "metadata": {},
   "outputs": [
    {
     "data": {
      "text/plain": [
       "{'input_ids': [tensor([     0,  41550, 194092,  17378,   5879,     83,    242,  50453,  10366,\n",
       "            1919,   2565,     25,      6,      2]),\n",
       "  tensor([     0,  78011,     45,  48398,     23, 124111,     83,     70,   2684,\n",
       "            2837, 177981,   7844,  32960,  46824,  14373,      2]),\n",
       "  tensor([     0, 174705,  81843, 189050,     23,    370,  95680,      2]),\n",
       "  tensor([     0,  75344,    316, 165712,      7,  59488,      7,  11756,  22929,\n",
       "            3036,     67,   2071,  11205, 128538,    360,    581,  96814,      2]),\n",
       "  tensor([     0, 108725,   2071,  63441,      7,   1916,   1650,      7,  65786,\n",
       "              47,  26176,   1650,      7,   4997,  32774, 233189,      2]),\n",
       "  tensor([    0,  3293,    83, 15400,   398,  5608,    19,    25,    18, 31358,\n",
       "          67757,    23,   935,  2258,  3229,   442,    25,     7,  4092, 35401,\n",
       "          50782,     2]),\n",
       "  tensor([     0,  20413,   1833,     53,   4002, 180084,   5153,   2823,     20,\n",
       "           27583,   1250,   3132, 197527,   1295,  32255,  25290,      9, 204246,\n",
       "           41076,      7,   2071,     19,     25,     18,   3164, 197527,      6,\n",
       "           58745,  57163,  29805,      2]),\n",
       "  tensor([     0, 115136, 169247,      9,  11866,   1824, 212897,     90,   9572,\n",
       "             202,    214,  23924,   1177,  48850,    678, 165507,     23,  68443,\n",
       "           15467,  11330,     76,    674,      2]),\n",
       "  tensor([     0,  18721,     25,      7, 110613,  24284,   8698,   1224,  16692,\n",
       "            5879,    242,   7077,   1916,   4049,     98,  60322,     25,      2]),\n",
       "  tensor([    0, 11249, 27391,   344,  2071, 14804, 52649,    26,     7, 40111,\n",
       "             32,     2])],\n",
       " 'attention_mask': [tensor([1, 1, 1, 1, 1, 1, 1, 1, 1, 1, 1, 1, 1, 1]),\n",
       "  tensor([1, 1, 1, 1, 1, 1, 1, 1, 1, 1, 1, 1, 1, 1, 1, 1]),\n",
       "  tensor([1, 1, 1, 1, 1, 1, 1, 1]),\n",
       "  tensor([1, 1, 1, 1, 1, 1, 1, 1, 1, 1, 1, 1, 1, 1, 1, 1, 1, 1]),\n",
       "  tensor([1, 1, 1, 1, 1, 1, 1, 1, 1, 1, 1, 1, 1, 1, 1, 1, 1]),\n",
       "  tensor([1, 1, 1, 1, 1, 1, 1, 1, 1, 1, 1, 1, 1, 1, 1, 1, 1, 1, 1, 1, 1, 1]),\n",
       "  tensor([1, 1, 1, 1, 1, 1, 1, 1, 1, 1, 1, 1, 1, 1, 1, 1, 1, 1, 1, 1, 1, 1, 1, 1,\n",
       "          1, 1, 1, 1, 1, 1, 1]),\n",
       "  tensor([1, 1, 1, 1, 1, 1, 1, 1, 1, 1, 1, 1, 1, 1, 1, 1, 1, 1, 1, 1, 1, 1, 1]),\n",
       "  tensor([1, 1, 1, 1, 1, 1, 1, 1, 1, 1, 1, 1, 1, 1, 1, 1, 1, 1]),\n",
       "  tensor([1, 1, 1, 1, 1, 1, 1, 1, 1, 1, 1, 1])],\n",
       " 'labels': tensor([1, 0, 1, 1, 1, 1, 0, 1, 0, 1])}"
      ]
     },
     "execution_count": 25,
     "metadata": {},
     "output_type": "execute_result"
    }
   ],
   "source": [
    "tokenized_curated4[\"train\"][0:10]"
   ]
  },
  {
   "cell_type": "code",
   "execution_count": 26,
   "metadata": {},
   "outputs": [
    {
     "data": {
      "text/plain": [
       "DatasetDict({\n",
       "    train: Dataset({\n",
       "        features: ['input_ids', 'attention_mask', 'labels'],\n",
       "        num_rows: 17584\n",
       "    })\n",
       "    test: Dataset({\n",
       "        features: ['input_ids', 'attention_mask', 'labels'],\n",
       "        num_rows: 1954\n",
       "    })\n",
       "})"
      ]
     },
     "execution_count": 26,
     "metadata": {},
     "output_type": "execute_result"
    }
   ],
   "source": [
    "tokenized_curated4"
   ]
  },
  {
   "cell_type": "code",
   "execution_count": 30,
   "metadata": {},
   "outputs": [
    {
     "name": "stderr",
     "output_type": "stream",
     "text": [
      "PyTorch: setting up devices\n",
      "The default value for the training argument `--report_to` will change in v5 (from all installed integrations to none). In v5, you will need to use `--report_to all` to get the same behavior as now. You should start updating your code and make this info disappear :-).\n"
     ]
    }
   ],
   "source": [
    "from transformers import TrainingArguments\n",
    "\n",
    "training_args = TrainingArguments(modelPath,\n",
    "                                  evaluation_strategy= \"steps\", # \"epoch\",\n",
    "                                  eval_steps = 50, # Evaluation and Save happens every 50 steps\n",
    "                                  save_total_limit = 5, # Only last 5 models are saved. Older ones are deleted.\n",
    "                                  num_train_epochs = 8,\n",
    "                                  optim= 'adamw_torch',\n",
    "                                  learning_rate=learning_rate,\n",
    "                                  # weight_decay=weight_decay,\n",
    "                                  push_to_hub=push_to_hub,\n",
    "                                  metric_for_best_model = 'accuracy' if num_labels == 2 else 'mse' if num_labels == 1 else 'matthews_correlation',\n",
    "                                  load_best_model_at_end=True\n",
    "                                 )"
   ]
  },
  {
   "cell_type": "code",
   "execution_count": 31,
   "metadata": {},
   "outputs": [],
   "source": [
    "from transformers import Trainer\n",
    "from transformers import EarlyStoppingCallback\n",
    "\n",
    "trainer = Trainer(model,\n",
    "                  training_args,\n",
    "                  train_dataset=tokenized_curated4[\"train\"],\n",
    "                  eval_dataset=tokenized_curated4[\"test\"],\n",
    "                  data_collator=data_collator,\n",
    "                  tokenizer=tokenizer,\n",
    "                  compute_metrics = compute_metrics,\n",
    "                  callbacks = [EarlyStoppingCallback(early_stopping_patience=3)] #3\n",
    "                  # optimizers=(torch.optim.AdamW, torch.optim.lr_scheduler.LambdaLR) \n",
    "                 )"
   ]
  },
  {
   "cell_type": "code",
   "execution_count": 32,
   "metadata": {
    "tags": []
   },
   "outputs": [
    {
     "name": "stderr",
     "output_type": "stream",
     "text": [
      "***** Running training *****\n",
      "  Num examples = 17584\n",
      "  Num Epochs = 8\n",
      "  Instantaneous batch size per device = 8\n",
      "  Total train batch size (w. parallel, distributed & accumulation) = 8\n",
      "  Gradient Accumulation steps = 1\n",
      "  Total optimization steps = 17584\n"
     ]
    },
    {
     "data": {
      "text/html": [
       "\n",
       "    <div>\n",
       "      \n",
       "      <progress value='650' max='17584' style='width:300px; height:20px; vertical-align: middle;'></progress>\n",
       "      [  650/17584 02:10 < 56:45, 4.97 it/s, Epoch 0/8]\n",
       "    </div>\n",
       "    <table border=\"1\" class=\"dataframe\">\n",
       "  <thead>\n",
       " <tr style=\"text-align: left;\">\n",
       "      <th>Step</th>\n",
       "      <th>Training Loss</th>\n",
       "      <th>Validation Loss</th>\n",
       "      <th>Accuracy</th>\n",
       "      <th>F1</th>\n",
       "    </tr>\n",
       "  </thead>\n",
       "  <tbody>\n",
       "    <tr>\n",
       "      <td>50</td>\n",
       "      <td>No log</td>\n",
       "      <td>0.691019</td>\n",
       "      <td>0.541965</td>\n",
       "      <td>0.702954</td>\n",
       "    </tr>\n",
       "    <tr>\n",
       "      <td>100</td>\n",
       "      <td>No log</td>\n",
       "      <td>0.690203</td>\n",
       "      <td>0.541965</td>\n",
       "      <td>0.702954</td>\n",
       "    </tr>\n",
       "    <tr>\n",
       "      <td>150</td>\n",
       "      <td>No log</td>\n",
       "      <td>0.689916</td>\n",
       "      <td>0.541965</td>\n",
       "      <td>0.702954</td>\n",
       "    </tr>\n",
       "    <tr>\n",
       "      <td>200</td>\n",
       "      <td>No log</td>\n",
       "      <td>0.689644</td>\n",
       "      <td>0.541965</td>\n",
       "      <td>0.702954</td>\n",
       "    </tr>\n",
       "    <tr>\n",
       "      <td>250</td>\n",
       "      <td>No log</td>\n",
       "      <td>0.689621</td>\n",
       "      <td>0.541965</td>\n",
       "      <td>0.702954</td>\n",
       "    </tr>\n",
       "    <tr>\n",
       "      <td>300</td>\n",
       "      <td>No log</td>\n",
       "      <td>0.690330</td>\n",
       "      <td>0.541965</td>\n",
       "      <td>0.702954</td>\n",
       "    </tr>\n",
       "    <tr>\n",
       "      <td>350</td>\n",
       "      <td>No log</td>\n",
       "      <td>0.690032</td>\n",
       "      <td>0.541965</td>\n",
       "      <td>0.702954</td>\n",
       "    </tr>\n",
       "    <tr>\n",
       "      <td>400</td>\n",
       "      <td>No log</td>\n",
       "      <td>0.689660</td>\n",
       "      <td>0.541965</td>\n",
       "      <td>0.702954</td>\n",
       "    </tr>\n",
       "    <tr>\n",
       "      <td>450</td>\n",
       "      <td>No log</td>\n",
       "      <td>0.691079</td>\n",
       "      <td>0.541965</td>\n",
       "      <td>0.702954</td>\n",
       "    </tr>\n",
       "    <tr>\n",
       "      <td>500</td>\n",
       "      <td>0.691100</td>\n",
       "      <td>0.690431</td>\n",
       "      <td>0.541965</td>\n",
       "      <td>0.702954</td>\n",
       "    </tr>\n",
       "    <tr>\n",
       "      <td>550</td>\n",
       "      <td>0.691100</td>\n",
       "      <td>0.698660</td>\n",
       "      <td>0.541965</td>\n",
       "      <td>0.702954</td>\n",
       "    </tr>\n",
       "    <tr>\n",
       "      <td>600</td>\n",
       "      <td>0.691100</td>\n",
       "      <td>0.689969</td>\n",
       "      <td>0.541965</td>\n",
       "      <td>0.702954</td>\n",
       "    </tr>\n",
       "    <tr>\n",
       "      <td>650</td>\n",
       "      <td>0.691100</td>\n",
       "      <td>0.689953</td>\n",
       "      <td>0.541965</td>\n",
       "      <td>0.702954</td>\n",
       "    </tr>\n",
       "  </tbody>\n",
       "</table><p>"
      ],
      "text/plain": [
       "<IPython.core.display.HTML object>"
      ]
     },
     "metadata": {},
     "output_type": "display_data"
    },
    {
     "name": "stderr",
     "output_type": "stream",
     "text": [
      "***** Running Evaluation *****\n",
      "  Num examples = 1954\n",
      "  Batch size = 8\n",
      "***** Running Evaluation *****\n",
      "  Num examples = 1954\n",
      "  Batch size = 8\n",
      "***** Running Evaluation *****\n",
      "  Num examples = 1954\n",
      "  Batch size = 8\n",
      "***** Running Evaluation *****\n",
      "  Num examples = 1954\n",
      "  Batch size = 8\n",
      "***** Running Evaluation *****\n",
      "  Num examples = 1954\n",
      "  Batch size = 8\n",
      "***** Running Evaluation *****\n",
      "  Num examples = 1954\n",
      "  Batch size = 8\n",
      "***** Running Evaluation *****\n",
      "  Num examples = 1954\n",
      "  Batch size = 8\n",
      "***** Running Evaluation *****\n",
      "  Num examples = 1954\n",
      "  Batch size = 8\n",
      "***** Running Evaluation *****\n",
      "  Num examples = 1954\n",
      "  Batch size = 8\n",
      "***** Running Evaluation *****\n",
      "  Num examples = 1954\n",
      "  Batch size = 8\n",
      "Saving model checkpoint to Clickbait\\checkpoint-500\n",
      "Configuration saved in Clickbait\\checkpoint-500\\config.json\n",
      "Model weights saved in Clickbait\\checkpoint-500\\pytorch_model.bin\n",
      "tokenizer config file saved in Clickbait\\checkpoint-500\\tokenizer_config.json\n",
      "Special tokens file saved in Clickbait\\checkpoint-500\\special_tokens_map.json\n",
      "***** Running Evaluation *****\n",
      "  Num examples = 1954\n",
      "  Batch size = 8\n",
      "***** Running Evaluation *****\n",
      "  Num examples = 1954\n",
      "  Batch size = 8\n",
      "***** Running Evaluation *****\n",
      "  Num examples = 1954\n",
      "  Batch size = 8\n",
      "\n",
      "\n",
      "Training completed. Do not forget to share your model on huggingface.co/models =)\n",
      "\n",
      "\n",
      "Loading best model from Clickbait\\checkpoint-500 (score: 0.5419651995905834).\n"
     ]
    },
    {
     "data": {
      "text/plain": [
       "TrainOutput(global_step=650, training_loss=0.6896982633150541, metrics={'train_runtime': 130.5885, 'train_samples_per_second': 1077.216, 'train_steps_per_second': 134.652, 'total_flos': 20396873322336.0, 'train_loss': 0.6896982633150541, 'epoch': 0.3})"
      ]
     },
     "execution_count": 32,
     "metadata": {},
     "output_type": "execute_result"
    }
   ],
   "source": [
    "# faire la boucle avec le trainer pytorch\n",
    "# %pdb\n",
    "trainer.train()"
   ]
  },
  {
   "cell_type": "code",
   "execution_count": 24,
   "metadata": {},
   "outputs": [
    {
     "name": "stderr",
     "output_type": "stream",
     "text": [
      "***** Running Evaluation *****\n",
      "  Num examples = 1954\n",
      "  Batch size = 8\n"
     ]
    },
    {
     "data": {
      "text/html": [
       "\n",
       "    <div>\n",
       "      \n",
       "      <progress value='2443' max='245' style='width:300px; height:20px; vertical-align: middle;'></progress>\n",
       "      [245/245 00:55]\n",
       "    </div>\n",
       "    "
      ],
      "text/plain": [
       "<IPython.core.display.HTML object>"
      ]
     },
     "metadata": {},
     "output_type": "display_data"
    },
    {
     "data": {
      "text/plain": [
       "{'eval_loss': 0.6898670196533203,\n",
       " 'eval_accuracy': 0.5419651995905834,\n",
       " 'eval_f1': 0.7029538665781613,\n",
       " 'eval_runtime': 3.9593,\n",
       " 'eval_samples_per_second': 493.526,\n",
       " 'eval_steps_per_second': 61.88,\n",
       " 'epoch': 0.3}"
      ]
     },
     "execution_count": 24,
     "metadata": {},
     "output_type": "execute_result"
    }
   ],
   "source": [
    "trainer.evaluate()"
   ]
  },
  {
   "cell_type": "raw",
   "metadata": {},
   "source": [
    "# Sauver le modèle sur le disque\n",
    "model.save_pretrained(modelPath)"
   ]
  },
  {
   "cell_type": "raw",
   "metadata": {},
   "source": [
    "tokenizer.save_vocabulary(modelPath)"
   ]
  },
  {
   "cell_type": "raw",
   "metadata": {},
   "source": [
    "trainer.push_to_hub()"
   ]
  },
  {
   "cell_type": "code",
   "execution_count": 25,
   "metadata": {},
   "outputs": [],
   "source": [
    "# Pour voir si on fait de l'overfitting, rien de mieux que de dessiner le graphe avec le jeu d'entrainement\n",
    "overfitting = \"train\" #  \"train\" # \"test\""
   ]
  },
  {
   "cell_type": "code",
   "execution_count": 26,
   "metadata": {},
   "outputs": [
    {
     "name": "stderr",
     "output_type": "stream",
     "text": [
      "***** Running Prediction *****\n",
      "  Num examples = 17584\n",
      "  Batch size = 8\n"
     ]
    }
   ],
   "source": [
    "model.to(torch.device(\"cuda:0\"))\n",
    "predictions = trainer.predict(tokenized_curated4[overfitting])"
   ]
  },
  {
   "cell_type": "code",
   "execution_count": 27,
   "metadata": {},
   "outputs": [
    {
     "data": {
      "text/plain": [
       "{'test_loss': 0.6886453032493591,\n",
       " 'test_accuracy': 0.5478275705186533,\n",
       " 'test_f1': 0.7078664070250211,\n",
       " 'test_runtime': 51.2659,\n",
       " 'test_samples_per_second': 342.996,\n",
       " 'test_steps_per_second': 42.875}"
      ]
     },
     "execution_count": 27,
     "metadata": {},
     "output_type": "execute_result"
    }
   ],
   "source": [
    "predictions.metrics"
   ]
  },
  {
   "cell_type": "code",
   "execution_count": 28,
   "metadata": {},
   "outputs": [],
   "source": [
    "tct = tokenized_curated2[overfitting].to_pandas()"
   ]
  },
  {
   "cell_type": "code",
   "execution_count": 29,
   "metadata": {},
   "outputs": [],
   "source": [
    "if num_labels == 1:\n",
    "    tct[\"labelC\"] = predictions.predictions\n",
    "else:\n",
    "    tct[\"labelC\"] = np.argmax(predictions.predictions, axis=1)   "
   ]
  },
  {
   "cell_type": "code",
   "execution_count": 34,
   "metadata": {},
   "outputs": [],
   "source": [
    "tct = tct.sort_values(LCfraction)"
   ]
  },
  {
   "cell_type": "code",
   "execution_count": 31,
   "metadata": {},
   "outputs": [],
   "source": [
    "palette = [\"r\", \"g\", \"b\", \"c\", \"m\"]"
   ]
  },
  {
   "cell_type": "code",
   "execution_count": 32,
   "metadata": {},
   "outputs": [],
   "source": [
    "if num_labels == 1:\n",
    "    color = [val for val in tct[\"labelC\"]]\n",
    "else:\n",
    "    color = [palette[val] for val in tct[\"labelC\"]]"
   ]
  },
  {
   "cell_type": "code",
   "execution_count": 33,
   "metadata": {},
   "outputs": [
    {
     "data": {
      "text/plain": [
       "<matplotlib.collections.PathCollection at 0x22ea88e1fa0>"
      ]
     },
     "execution_count": 33,
     "metadata": {},
     "output_type": "execute_result"
    },
    {
     "data": {
      "image/png": "[encoded data removed]",
      "text/plain": [
       "<Figure size 1872x1440 with 1 Axes>"
      ]
     },
     "metadata": {
      "needs_background": "light"
     },
     "output_type": "display_data"
    }
   ],
   "source": [
    "plt.figure(figsize=(26, 20))\n",
    "plt.title(\"Plotting 1-D array\")\n",
    "plt.xlabel(\"Ordered Title\")\n",
    "plt.ylabel(LCfraction) #LCfraction\n",
    "x = np.array(range(0, tct.shape[0]))\n",
    "y = tct[LCfraction] # \n",
    "# color = [palette[val] for val in tct[\"labelC\"]]\n",
    "plt.scatter(x, y, c = color, marker = \"o\", label = \"Array elements\")"
   ]
  },
  {
   "cell_type": "code",
   "execution_count": 35,
   "metadata": {},
   "outputs": [
    {
     "data": {
      "text/plain": [
       "count    17584.0\n",
       "mean         1.0\n",
       "std          0.0\n",
       "min          1.0\n",
       "25%          1.0\n",
       "50%          1.0\n",
       "75%          1.0\n",
       "max          1.0\n",
       "Name: labelC, dtype: float64"
      ]
     },
     "execution_count": 35,
     "metadata": {},
     "output_type": "execute_result"
    }
   ],
   "source": [
    "tct[\"labelC\"].describe()"
   ]
  },
  {
   "cell_type": "code",
   "execution_count": 36,
   "metadata": {},
   "outputs": [
    {
     "data": {
      "text/html": [
       "<div>\n",
       "<style scoped>\n",
       "    .dataframe tbody tr th:only-of-type {\n",
       "        vertical-align: middle;\n",
       "    }\n",
       "\n",
       "    .dataframe tbody tr th {\n",
       "        vertical-align: top;\n",
       "    }\n",
       "\n",
       "    .dataframe thead th {\n",
       "        text-align: right;\n",
       "    }\n",
       "</style>\n",
       "<table border=\"1\" class=\"dataframe\">\n",
       "  <thead>\n",
       "    <tr style=\"text-align: right;\">\n",
       "      <th></th>\n",
       "      <th>id</th>\n",
       "      <th>truthMean</th>\n",
       "      <th>labels</th>\n",
       "      <th>labelC</th>\n",
       "    </tr>\n",
       "  </thead>\n",
       "  <tbody>\n",
       "    <tr>\n",
       "      <th>id</th>\n",
       "      <td>1.000000</td>\n",
       "      <td>-0.006307</td>\n",
       "      <td>-0.005054</td>\n",
       "      <td>NaN</td>\n",
       "    </tr>\n",
       "    <tr>\n",
       "      <th>truthMean</th>\n",
       "      <td>-0.006307</td>\n",
       "      <td>1.000000</td>\n",
       "      <td>0.781204</td>\n",
       "      <td>NaN</td>\n",
       "    </tr>\n",
       "    <tr>\n",
       "      <th>labels</th>\n",
       "      <td>-0.005054</td>\n",
       "      <td>0.781204</td>\n",
       "      <td>1.000000</td>\n",
       "      <td>NaN</td>\n",
       "    </tr>\n",
       "    <tr>\n",
       "      <th>labelC</th>\n",
       "      <td>NaN</td>\n",
       "      <td>NaN</td>\n",
       "      <td>NaN</td>\n",
       "      <td>NaN</td>\n",
       "    </tr>\n",
       "  </tbody>\n",
       "</table>\n",
       "</div>"
      ],
      "text/plain": [
       "                 id  truthMean    labels  labelC\n",
       "id         1.000000  -0.006307 -0.005054     NaN\n",
       "truthMean -0.006307   1.000000  0.781204     NaN\n",
       "labels    -0.005054   0.781204  1.000000     NaN\n",
       "labelC          NaN        NaN       NaN     NaN"
      ]
     },
     "execution_count": 36,
     "metadata": {},
     "output_type": "execute_result"
    }
   ],
   "source": [
    "tct.corr()"
   ]
  },
  {
   "cell_type": "code",
   "execution_count": null,
   "metadata": {},
   "outputs": [],
   "source": []
  }
 ],
 "metadata": {
  "interpreter": {
   "hash": "518d7075d1893c878292e2224ccc1059d061275fbe8ab229c7a260871a84e0e1"
  },
  "kernelspec": {
   "display_name": "Python 3 (ipykernel)",
   "language": "python",
   "name": "python3"
  },
  "language_info": {
   "codemirror_mode": {
    "name": "ipython",
    "version": 3
   },
   "file_extension": ".py",
   "mimetype": "text/x-python",
   "name": "python",
   "nbconvert_exporter": "python",
   "pygments_lexer": "ipython3",
   "version": "3.9.7"
  }
 },
 "nbformat": 4,
 "nbformat_minor": 4
}
