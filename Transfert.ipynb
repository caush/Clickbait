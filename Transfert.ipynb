{
 "cells": [
  {
   "cell_type": "code",
   "execution_count": 1,
   "metadata": {},
   "outputs": [],
   "source": [
    "modelPath = \"Clickbait\"\n",
    "checkpoint = \"cmarkea/distilcamembert-base\"   # \"cmarkea/distilcamembert-base-sentiment\"\n",
    "                                              # \"cmarkea/distilcamembert-base\"\n",
    "                                              # \"camembert-base\"\n",
    "                                              # \"microsoft/Multilingual-MiniLM-L12-H384\"\n",
    "                                              # \"nlptown/bert-base-multilingual-uncased-sentiment\"\n",
    "                                              # \"distilbert-base-uncased-finetuned-sst-2-english\"\n",
    "                                              # \"bert-base-uncased\"\n",
    "problem_type =  \"single_label_classification\" # Valeurs possibles : \"regression\", \"single_label_classification\", \"multi_label_classification\"\n",
    "num_labels = 3                                # 5\n",
    "dataCuratedPath = \"Data/Curated\"              # Données pour tous les sites du 1er janvier 2021 au 30 avril 2021\n",
    "                                              # Données juste pour le site \"Actualités, trucs et astuces\" entre le 1er mai et le 31 juillet 2021.\n",
    "                                              # Les colonnes sont les suivantes, séparées par des \";\" :\n",
    "                                              #    Page name;Title;Publish time;People Reached;Link Clicks\n",
    "LCfraction = 'truthMean'                      # 'LCFraction'\n",
    "removeColumns = ['postText', 'targetTitle', 'postTimestamp', 'targetKeywords', 'targetDescription', 'id', 'truthMean'] # Il faut enlever les colonnes de type texte\n",
    "splitFactor = 0.1                             # Proportion de données réservées pour les tests\n",
    "push_to_hub = False\n",
    "learning_rate = 5e-5\n",
    "weight_decay=0.01"
   ]
  },
  {
   "cell_type": "code",
   "execution_count": 2,
   "metadata": {},
   "outputs": [],
   "source": [
    "import torch\n",
    "import numpy as np"
   ]
  },
  {
   "cell_type": "code",
   "execution_count": 3,
   "metadata": {},
   "outputs": [
    {
     "name": "stderr",
     "output_type": "stream",
     "text": [
      "Some weights of the model checkpoint at cmarkea/distilcamembert-base were not used when initializing CamembertForSequenceClassification: ['lm_head.dense.bias', 'lm_head.layer_norm.bias', 'lm_head.dense.weight', 'lm_head.decoder.weight', 'lm_head.decoder.bias', 'lm_head.layer_norm.weight', 'lm_head.bias']\n",
      "- This IS expected if you are initializing CamembertForSequenceClassification from the checkpoint of a model trained on another task or with another architecture (e.g. initializing a BertForSequenceClassification model from a BertForPreTraining model).\n",
      "- This IS NOT expected if you are initializing CamembertForSequenceClassification from the checkpoint of a model that you expect to be exactly identical (initializing a BertForSequenceClassification model from a BertForSequenceClassification model).\n",
      "Some weights of CamembertForSequenceClassification were not initialized from the model checkpoint at cmarkea/distilcamembert-base and are newly initialized: ['classifier.dense.weight', 'classifier.out_proj.weight', 'classifier.out_proj.bias', 'classifier.dense.bias']\n",
      "You should probably TRAIN this model on a down-stream task to be able to use it for predictions and inference.\n"
     ]
    }
   ],
   "source": [
    "from transformers import AutoTokenizer, AutoModelForSequenceClassification\n",
    "\n",
    "tokenizer = AutoTokenizer.from_pretrained(checkpoint)\n",
    "model = AutoModelForSequenceClassification.from_pretrained(\n",
    "   checkpoint,\n",
    "   problem_type=problem_type, # on pourra enlever ce paramètre si ca marche plus\n",
    "   num_labels = num_labels)"
   ]
  },
  {
   "cell_type": "code",
   "execution_count": 4,
   "metadata": {},
   "outputs": [],
   "source": [
    "import datasets as ds"
   ]
  },
  {
   "cell_type": "code",
   "execution_count": 5,
   "metadata": {},
   "outputs": [],
   "source": [
    "curated = ds.load_from_disk(dataCuratedPath)"
   ]
  },
  {
   "cell_type": "code",
   "execution_count": 21,
   "metadata": {},
   "outputs": [
    {
     "data": {
      "text/html": [
       "<div>\n",
       "<style scoped>\n",
       "    .dataframe tbody tr th:only-of-type {\n",
       "        vertical-align: middle;\n",
       "    }\n",
       "\n",
       "    .dataframe tbody tr th {\n",
       "        vertical-align: top;\n",
       "    }\n",
       "\n",
       "    .dataframe thead th {\n",
       "        text-align: right;\n",
       "    }\n",
       "</style>\n",
       "<table border=\"1\" class=\"dataframe\">\n",
       "  <thead>\n",
       "    <tr style=\"text-align: right;\">\n",
       "      <th></th>\n",
       "      <th>postText</th>\n",
       "      <th>id</th>\n",
       "      <th>targetTitle</th>\n",
       "      <th>postTimestamp</th>\n",
       "      <th>targetKeywords</th>\n",
       "      <th>targetDescription</th>\n",
       "      <th>truthMean</th>\n",
       "    </tr>\n",
       "  </thead>\n",
       "  <tbody>\n",
       "    <tr>\n",
       "      <th>0</th>\n",
       "      <td>[UK’s response to modern slavery leaving victi...</td>\n",
       "      <td>858462320779026432</td>\n",
       "      <td>‘Inexcusable’ failures in UK’s response to mod...</td>\n",
       "      <td>Sat Apr 29 23:25:41 +0000 2017</td>\n",
       "      <td>modern slavery, Department For Work And Pensio...</td>\n",
       "      <td>“Inexcusable” failures in the UK’s system for ...</td>\n",
       "      <td>1.000000</td>\n",
       "    </tr>\n",
       "    <tr>\n",
       "      <th>1</th>\n",
       "      <td>[this is good]</td>\n",
       "      <td>858421020331560960</td>\n",
       "      <td>Donald Trump Appoints Pro-Life Advocate as Ass...</td>\n",
       "      <td>Sat Apr 29 20:41:34 +0000 2017</td>\n",
       "      <td>Americans United for Life, Dr. Charmaine Yoest...</td>\n",
       "      <td>President Donald Trump has appointed pro-life ...</td>\n",
       "      <td>0.133333</td>\n",
       "    </tr>\n",
       "    <tr>\n",
       "      <th>2</th>\n",
       "      <td>[The \"forgotten\" Trump roast: Relive his bruta...</td>\n",
       "      <td>858368123753435136</td>\n",
       "      <td>The ‘forgotten’ Trump roast: Relive his brutal...</td>\n",
       "      <td>Sat Apr 29 17:11:23 +0000 2017</td>\n",
       "      <td>trump whcd, whcd, white house correspondents d...</td>\n",
       "      <td>President Trump won't be at this year's White ...</td>\n",
       "      <td>0.400000</td>\n",
       "    </tr>\n",
       "    <tr>\n",
       "      <th>3</th>\n",
       "      <td>[Meet the happiest #dog in the world!]</td>\n",
       "      <td>858323428260139008</td>\n",
       "      <td>Meet The Happiest Dog In The World, Maru The H...</td>\n",
       "      <td>Sat Apr 29 14:13:46 +0000 2017</td>\n",
       "      <td>Maru, husky, dogs, pandas, furball, instagram</td>\n",
       "      <td>The article is about Maru, a husky dog who has...</td>\n",
       "      <td>0.266667</td>\n",
       "    </tr>\n",
       "    <tr>\n",
       "      <th>4</th>\n",
       "      <td>[Tokyo's subway is shut down amid fears over a...</td>\n",
       "      <td>858283602626347008</td>\n",
       "      <td>Tokyo's subway is shut down amid fears over an...</td>\n",
       "      <td>Sat Apr 29 11:35:31 +0000 2017</td>\n",
       "      <td>Tokyo,subway,shut,fears,North,Korean,attack</td>\n",
       "      <td>The temporary suspension, which lasted ten min...</td>\n",
       "      <td>0.000000</td>\n",
       "    </tr>\n",
       "    <tr>\n",
       "      <th>...</th>\n",
       "      <td>...</td>\n",
       "      <td>...</td>\n",
       "      <td>...</td>\n",
       "      <td>...</td>\n",
       "      <td>...</td>\n",
       "      <td>...</td>\n",
       "      <td>...</td>\n",
       "    </tr>\n",
       "    <tr>\n",
       "      <th>19533</th>\n",
       "      <td>[Brazil soccer team and pilot's final intervie...</td>\n",
       "      <td>804250183642976256</td>\n",
       "      <td>NBC News Video See Brazil Soccer Team, Pilot’s...</td>\n",
       "      <td>Thu Dec 01 09:06:00 +0000 2016</td>\n",
       "      <td></td>\n",
       "      <td>NBC News</td>\n",
       "      <td>0.133333</td>\n",
       "    </tr>\n",
       "    <tr>\n",
       "      <th>19534</th>\n",
       "      <td>[😱😱😱😱😱😱😱😱😱😱😱😱😱😱]</td>\n",
       "      <td>804156272086020096</td>\n",
       "      <td>Politico Scoop: Eric Trump Killed Two Deer</td>\n",
       "      <td>Thu Dec 01 02:52:50 +0000 2016</td>\n",
       "      <td>Politico Scoop: Eric Trump Killed Two Deer</td>\n",
       "      <td>Politico Scoop: Eric Trump Killed Two Deer</td>\n",
       "      <td>0.066667</td>\n",
       "    </tr>\n",
       "    <tr>\n",
       "      <th>19535</th>\n",
       "      <td>[Frenchs Forest high school may have to make w...</td>\n",
       "      <td>804149798651588608</td>\n",
       "      <td>Frenchs Forest high school may relocate to mak...</td>\n",
       "      <td>Thu Dec 01 02:27:07 +0000 2016</td>\n",
       "      <td>frenchs forest, northern beaches, sydney, rede...</td>\n",
       "      <td>The Forest High School on Sydney's northern be...</td>\n",
       "      <td>0.333333</td>\n",
       "    </tr>\n",
       "    <tr>\n",
       "      <th>19536</th>\n",
       "      <td>[Oh Jeff… #bruh]</td>\n",
       "      <td>804134698729385984</td>\n",
       "      <td>Los Angeles Rams Jeff Fisher May Think Danny W...</td>\n",
       "      <td>Thu Dec 01 01:27:06 +0000 2016</td>\n",
       "      <td>Humor, Football, NFL, NFC West, Los Angeles Ra...</td>\n",
       "      <td>Los Angeles Rams news, rumors, scores, schedul...</td>\n",
       "      <td>0.733333</td>\n",
       "    </tr>\n",
       "    <tr>\n",
       "      <th>19537</th>\n",
       "      <td>[Richard Sherman weighs in on Cam Newton’s str...</td>\n",
       "      <td>804126501117435904</td>\n",
       "      <td>Seattle Seahawks Richard Sherman Says 'Karma' ...</td>\n",
       "      <td>Thu Dec 01 00:54:32 +0000 2016</td>\n",
       "      <td>Football, NFL, NFC West, Seattle Seahawks, Bre...</td>\n",
       "      <td>Seattle Seahawks news, rumors, scores, schedul...</td>\n",
       "      <td>0.066667</td>\n",
       "    </tr>\n",
       "  </tbody>\n",
       "</table>\n",
       "<p>19538 rows × 7 columns</p>\n",
       "</div>"
      ],
      "text/plain": [
       "                                                postText                  id  \\\n",
       "0      [UK’s response to modern slavery leaving victi...  858462320779026432   \n",
       "1                                         [this is good]  858421020331560960   \n",
       "2      [The \"forgotten\" Trump roast: Relive his bruta...  858368123753435136   \n",
       "3                 [Meet the happiest #dog in the world!]  858323428260139008   \n",
       "4      [Tokyo's subway is shut down amid fears over a...  858283602626347008   \n",
       "...                                                  ...                 ...   \n",
       "19533  [Brazil soccer team and pilot's final intervie...  804250183642976256   \n",
       "19534                                   [😱😱😱😱😱😱😱😱😱😱😱😱😱😱]  804156272086020096   \n",
       "19535  [Frenchs Forest high school may have to make w...  804149798651588608   \n",
       "19536                                   [Oh Jeff… #bruh]  804134698729385984   \n",
       "19537  [Richard Sherman weighs in on Cam Newton’s str...  804126501117435904   \n",
       "\n",
       "                                             targetTitle  \\\n",
       "0      ‘Inexcusable’ failures in UK’s response to mod...   \n",
       "1      Donald Trump Appoints Pro-Life Advocate as Ass...   \n",
       "2      The ‘forgotten’ Trump roast: Relive his brutal...   \n",
       "3      Meet The Happiest Dog In The World, Maru The H...   \n",
       "4      Tokyo's subway is shut down amid fears over an...   \n",
       "...                                                  ...   \n",
       "19533  NBC News Video See Brazil Soccer Team, Pilot’s...   \n",
       "19534         Politico Scoop: Eric Trump Killed Two Deer   \n",
       "19535  Frenchs Forest high school may relocate to mak...   \n",
       "19536  Los Angeles Rams Jeff Fisher May Think Danny W...   \n",
       "19537  Seattle Seahawks Richard Sherman Says 'Karma' ...   \n",
       "\n",
       "                        postTimestamp  \\\n",
       "0      Sat Apr 29 23:25:41 +0000 2017   \n",
       "1      Sat Apr 29 20:41:34 +0000 2017   \n",
       "2      Sat Apr 29 17:11:23 +0000 2017   \n",
       "3      Sat Apr 29 14:13:46 +0000 2017   \n",
       "4      Sat Apr 29 11:35:31 +0000 2017   \n",
       "...                               ...   \n",
       "19533  Thu Dec 01 09:06:00 +0000 2016   \n",
       "19534  Thu Dec 01 02:52:50 +0000 2016   \n",
       "19535  Thu Dec 01 02:27:07 +0000 2016   \n",
       "19536  Thu Dec 01 01:27:06 +0000 2016   \n",
       "19537  Thu Dec 01 00:54:32 +0000 2016   \n",
       "\n",
       "                                          targetKeywords  \\\n",
       "0      modern slavery, Department For Work And Pensio...   \n",
       "1      Americans United for Life, Dr. Charmaine Yoest...   \n",
       "2      trump whcd, whcd, white house correspondents d...   \n",
       "3          Maru, husky, dogs, pandas, furball, instagram   \n",
       "4            Tokyo,subway,shut,fears,North,Korean,attack   \n",
       "...                                                  ...   \n",
       "19533                                                      \n",
       "19534         Politico Scoop: Eric Trump Killed Two Deer   \n",
       "19535  frenchs forest, northern beaches, sydney, rede...   \n",
       "19536  Humor, Football, NFL, NFC West, Los Angeles Ra...   \n",
       "19537  Football, NFL, NFC West, Seattle Seahawks, Bre...   \n",
       "\n",
       "                                       targetDescription  truthMean  \n",
       "0      “Inexcusable” failures in the UK’s system for ...   1.000000  \n",
       "1      President Donald Trump has appointed pro-life ...   0.133333  \n",
       "2      President Trump won't be at this year's White ...   0.400000  \n",
       "3      The article is about Maru, a husky dog who has...   0.266667  \n",
       "4      The temporary suspension, which lasted ten min...   0.000000  \n",
       "...                                                  ...        ...  \n",
       "19533                                           NBC News   0.133333  \n",
       "19534         Politico Scoop: Eric Trump Killed Two Deer   0.066667  \n",
       "19535  The Forest High School on Sydney's northern be...   0.333333  \n",
       "19536  Los Angeles Rams news, rumors, scores, schedul...   0.733333  \n",
       "19537  Seattle Seahawks news, rumors, scores, schedul...   0.066667  \n",
       "\n",
       "[19538 rows x 7 columns]"
      ]
     },
     "execution_count": 21,
     "metadata": {},
     "output_type": "execute_result"
    }
   ],
   "source": [
    "curated.to_pandas()"
   ]
  },
  {
   "cell_type": "code",
   "execution_count": 6,
   "metadata": {},
   "outputs": [],
   "source": [
    "longueur= len(curated)"
   ]
  },
  {
   "cell_type": "code",
   "execution_count": 7,
   "metadata": {},
   "outputs": [],
   "source": [
    "trie=sorted(curated[LCfraction])"
   ]
  },
  {
   "cell_type": "code",
   "execution_count": 8,
   "metadata": {},
   "outputs": [],
   "source": [
    "import matplotlib.pyplot as plt"
   ]
  },
  {
   "cell_type": "code",
   "execution_count": 9,
   "metadata": {},
   "outputs": [
    {
     "data": {
      "text/plain": [
       "[<matplotlib.lines.Line2D at 0x22ca3153670>]"
      ]
     },
     "execution_count": 9,
     "metadata": {},
     "output_type": "execute_result"
    },
    {
     "data": {
      "image/png": "[encoded data removed]",
      "text/plain": [
       "<Figure size 1872x1440 with 1 Axes>"
      ]
     },
     "metadata": {
      "needs_background": "light"
     },
     "output_type": "display_data"
    }
   ],
   "source": [
    "plt.figure(figsize=(26, 20))\n",
    "plt.title(\"Plotting 1-D array\")\n",
    "plt.xlabel(\"Ordered Title\")\n",
    "plt.ylabel(LCfraction)\n",
    "x = np.array(range(0, longueur))\n",
    "y = np.array(trie)\n",
    "plt.plot(x, y, color = \"red\", marker = \"o\", label = \"Array elements\")"
   ]
  },
  {
   "cell_type": "code",
   "execution_count": 10,
   "metadata": {},
   "outputs": [
    {
     "data": {
      "text/plain": [
       "[0.199999999979999, 0.399999999979999]"
      ]
     },
     "execution_count": 10,
     "metadata": {},
     "output_type": "execute_result"
    }
   ],
   "source": [
    "ncf=[None] * (num_labels-1)\n",
    "for i in range(num_labels-1):\n",
    "    ncf[i] = trie[longueur * (i+1) // num_labels]\n",
    "ncf"
   ]
  },
  {
   "cell_type": "code",
   "execution_count": 22,
   "metadata": {},
   "outputs": [],
   "source": [
    "def tokenize(sample):\n",
    "    tokenized_sample = tokenizer(\n",
    "            sample['targetTitle'],   #  postText + \". Paru dans \" + sample[\"Page name\"], #+ \", le \" + sample[\"Publish time\"]\n",
    "            #padding=True,\n",
    "            #truncation=True,\n",
    "            #max_length=30\n",
    "            )\n",
    "    fraction = sample[LCfraction]\n",
    "    \n",
    "    if num_labels == 1:\n",
    "        tokenized_sample[\"labels\"] = fraction\n",
    "    else:\n",
    "        tokenized_sample[\"labels\"] = next((x for x, val in enumerate(ncf) if fraction < val), num_labels-1)\n",
    "        \n",
    "    # print( fraction, tokenized_sample[\"labels\"], sample['postText'])\n",
    "    \n",
    "    return tokenized_sample"
   ]
  },
  {
   "cell_type": "code",
   "execution_count": 23,
   "metadata": {},
   "outputs": [
    {
     "data": {
      "application/vnd.jupyter.widget-view+json": {
       "model_id": "f94c6972c3a140febb483004fff7a4f3",
       "version_major": 2,
       "version_minor": 0
      },
      "text/plain": [
       "  0%|          | 0/19538 [00:00<?, ?ex/s]"
      ]
     },
     "metadata": {},
     "output_type": "display_data"
    }
   ],
   "source": [
    "tokenized_curated = curated.map(tokenize) #, batched=True)"
   ]
  },
  {
   "cell_type": "code",
   "execution_count": 24,
   "metadata": {},
   "outputs": [
    {
     "data": {
      "text/plain": [
       "Dataset({\n",
       "    features: ['postText', 'id', 'targetTitle', 'postTimestamp', 'targetKeywords', 'targetDescription', 'truthMean', 'input_ids', 'attention_mask', 'labels'],\n",
       "    num_rows: 19538\n",
       "})"
      ]
     },
     "execution_count": 24,
     "metadata": {},
     "output_type": "execute_result"
    }
   ],
   "source": [
    "tokenized_curated"
   ]
  },
  {
   "cell_type": "code",
   "execution_count": 25,
   "metadata": {},
   "outputs": [],
   "source": [
    "tokenized_curated2 = tokenized_curated.train_test_split(splitFactor) # 0.2\n",
    "tokenized_curated3 = tokenized_curated2.remove_columns(removeColumns)"
   ]
  },
  {
   "cell_type": "code",
   "execution_count": 26,
   "metadata": {},
   "outputs": [],
   "source": [
    "tokenized_curated4 = tokenized_curated3"
   ]
  },
  {
   "cell_type": "code",
   "execution_count": 27,
   "metadata": {},
   "outputs": [],
   "source": [
    "tokenized_curated4.set_format(\"torch\")"
   ]
  },
  {
   "cell_type": "code",
   "execution_count": 28,
   "metadata": {},
   "outputs": [],
   "source": [
    "from transformers import DataCollatorWithPadding\n",
    "data_collator = DataCollatorWithPadding(tokenizer)"
   ]
  },
  {
   "cell_type": "code",
   "execution_count": 29,
   "metadata": {},
   "outputs": [],
   "source": [
    "from datasets import load_metric\n",
    "from sklearn.metrics import accuracy_score, f1_score, recall_score, precision_score\n",
    "def compute_metrics(eval_preds):\n",
    "    logits, labels = eval_preds\n",
    "    if num_labels == 1:\n",
    "        metric = load_metric(\"mse\")\n",
    "        return metric.compute(predictions=logits, references=labels)\n",
    "    elif num_labels == 2:\n",
    "        predictions = np.argmax(logits, axis=-1)\n",
    "        accuracy = accuracy_score(y_true=labels, y_pred=predictions)\n",
    "#    recall = recall_score(y_true=labels, y_pred=predictions)\n",
    "#    precision = precision_score(y_true=labels, y_pred=predictions)\n",
    "        f1 = f1_score(y_true=labels, y_pred=predictions)\n",
    "    # return metric.compute(predictions=predictions, references=labels) # , average = 'weighted'\n",
    "        return {\"accuracy\": accuracy, \"f1\": f1 } #\" \"matthews_correlation\":matthews_correlation precision\": precision, \"recall\": recall, \"f1\": f1, \n",
    "    else:\n",
    "        predictions = np.argmax(logits, axis=-1)\n",
    "        metric = load_metric(\"matthews_correlation\") # matthews_correlation, accuracy \"glue\", \"mrpc\") # , \"sst2\") #  stsb de la ouatte de phoque\n",
    "        matthews_correlation = metric.compute(predictions=predictions, references=labels)\n",
    "        # accuracy = accuracy_score(y_true=labels, y_pred=predictions)\n",
    "        # f1 = f1_score(y_true=labels, y_pred=predictions)\n",
    "        return matthews_correlation\n",
    "        # return {\"accuracy\": accuracy}.update(matthews_correlation)"
   ]
  },
  {
   "cell_type": "code",
   "execution_count": 30,
   "metadata": {},
   "outputs": [],
   "source": [
    "from transformers import TrainingArguments\n",
    "\n",
    "training_args = TrainingArguments(modelPath,\n",
    "                                  evaluation_strategy= \"steps\", # \"epoch\",\n",
    "                                  eval_steps = 50, # Evaluation and Save happens every 50 steps\n",
    "                                  save_total_limit = 5, # Only last 5 models are saved. Older ones are deleted.\n",
    "                                  num_train_epochs = 8,\n",
    "                                  optim= 'adamw_torch',\n",
    "                                  learning_rate=learning_rate,\n",
    "                                  weight_decay=weight_decay,\n",
    "                                  push_to_hub=push_to_hub,\n",
    "                                  metric_for_best_model = 'accuracy' if num_labels == 2 else 'mse' if num_labels == 1 else 'matthews_correlation',\n",
    "                                  load_best_model_at_end=True\n",
    "                                 )"
   ]
  },
  {
   "cell_type": "code",
   "execution_count": 31,
   "metadata": {},
   "outputs": [],
   "source": [
    "from transformers import Trainer\n",
    "from transformers import EarlyStoppingCallback\n",
    "\n",
    "trainer = Trainer(model,\n",
    "                  training_args,\n",
    "                  train_dataset=tokenized_curated4[\"train\"],\n",
    "                  eval_dataset=tokenized_curated4[\"test\"],\n",
    "                  data_collator=data_collator,\n",
    "                  tokenizer=tokenizer,\n",
    "                  compute_metrics = compute_metrics,\n",
    "                  callbacks = [EarlyStoppingCallback(early_stopping_patience=3)] #3\n",
    "                  # optimizers=(torch.optim.AdamW, torch.optim.lr_scheduler.LambdaLR) \n",
    "                 )"
   ]
  },
  {
   "cell_type": "code",
   "execution_count": 32,
   "metadata": {
    "tags": []
   },
   "outputs": [
    {
     "name": "stderr",
     "output_type": "stream",
     "text": [
      "***** Running training *****\n",
      "  Num examples = 17584\n",
      "  Num Epochs = 8\n",
      "  Instantaneous batch size per device = 8\n",
      "  Total train batch size (w. parallel, distributed & accumulation) = 8\n",
      "  Gradient Accumulation steps = 1\n",
      "  Total optimization steps = 17584\n"
     ]
    },
    {
     "name": "stdout",
     "output_type": "stream",
     "text": [
      "Automatic pdb calling has been turned ON\n"
     ]
    },
    {
     "data": {
      "text/html": [
       "\n",
       "    <div>\n",
       "      \n",
       "      <progress value='650' max='17584' style='width:300px; height:20px; vertical-align: middle;'></progress>\n",
       "      [  650/17584 01:29 < 38:54, 7.25 it/s, Epoch 0/8]\n",
       "    </div>\n",
       "    <table border=\"1\" class=\"dataframe\">\n",
       "  <thead>\n",
       " <tr style=\"text-align: left;\">\n",
       "      <th>Step</th>\n",
       "      <th>Training Loss</th>\n",
       "      <th>Validation Loss</th>\n",
       "      <th>Matthews Correlation</th>\n",
       "    </tr>\n",
       "  </thead>\n",
       "  <tbody>\n",
       "    <tr>\n",
       "      <td>50</td>\n",
       "      <td>No log</td>\n",
       "      <td>1.135489</td>\n",
       "      <td>0.004639</td>\n",
       "    </tr>\n",
       "    <tr>\n",
       "      <td>100</td>\n",
       "      <td>No log</td>\n",
       "      <td>1.101393</td>\n",
       "      <td>-0.006503</td>\n",
       "    </tr>\n",
       "    <tr>\n",
       "      <td>150</td>\n",
       "      <td>No log</td>\n",
       "      <td>1.103349</td>\n",
       "      <td>0.034989</td>\n",
       "    </tr>\n",
       "    <tr>\n",
       "      <td>200</td>\n",
       "      <td>No log</td>\n",
       "      <td>1.139895</td>\n",
       "      <td>0.000000</td>\n",
       "    </tr>\n",
       "    <tr>\n",
       "      <td>250</td>\n",
       "      <td>No log</td>\n",
       "      <td>1.153777</td>\n",
       "      <td>0.000000</td>\n",
       "    </tr>\n",
       "    <tr>\n",
       "      <td>300</td>\n",
       "      <td>No log</td>\n",
       "      <td>1.108603</td>\n",
       "      <td>0.000000</td>\n",
       "    </tr>\n",
       "    <tr>\n",
       "      <td>350</td>\n",
       "      <td>No log</td>\n",
       "      <td>1.105563</td>\n",
       "      <td>0.000782</td>\n",
       "    </tr>\n",
       "    <tr>\n",
       "      <td>400</td>\n",
       "      <td>No log</td>\n",
       "      <td>1.099821</td>\n",
       "      <td>-0.001729</td>\n",
       "    </tr>\n",
       "    <tr>\n",
       "      <td>450</td>\n",
       "      <td>No log</td>\n",
       "      <td>1.115157</td>\n",
       "      <td>0.000000</td>\n",
       "    </tr>\n",
       "    <tr>\n",
       "      <td>500</td>\n",
       "      <td>1.128300</td>\n",
       "      <td>1.122223</td>\n",
       "      <td>0.000000</td>\n",
       "    </tr>\n",
       "    <tr>\n",
       "      <td>550</td>\n",
       "      <td>1.128300</td>\n",
       "      <td>1.099161</td>\n",
       "      <td>-0.007119</td>\n",
       "    </tr>\n",
       "    <tr>\n",
       "      <td>600</td>\n",
       "      <td>1.128300</td>\n",
       "      <td>1.164373</td>\n",
       "      <td>0.000000</td>\n",
       "    </tr>\n",
       "    <tr>\n",
       "      <td>650</td>\n",
       "      <td>1.128300</td>\n",
       "      <td>1.102869</td>\n",
       "      <td>0.000000</td>\n",
       "    </tr>\n",
       "  </tbody>\n",
       "</table><p>"
      ],
      "text/plain": [
       "<IPython.core.display.HTML object>"
      ]
     },
     "metadata": {},
     "output_type": "display_data"
    },
    {
     "name": "stderr",
     "output_type": "stream",
     "text": [
      "***** Running Evaluation *****\n",
      "  Num examples = 1954\n",
      "  Batch size = 8\n",
      "***** Running Evaluation *****\n",
      "  Num examples = 1954\n",
      "  Batch size = 8\n",
      "***** Running Evaluation *****\n",
      "  Num examples = 1954\n",
      "  Batch size = 8\n",
      "***** Running Evaluation *****\n",
      "  Num examples = 1954\n",
      "  Batch size = 8\n",
      "***** Running Evaluation *****\n",
      "  Num examples = 1954\n",
      "  Batch size = 8\n",
      "***** Running Evaluation *****\n",
      "  Num examples = 1954\n",
      "  Batch size = 8\n",
      "***** Running Evaluation *****\n",
      "  Num examples = 1954\n",
      "  Batch size = 8\n",
      "***** Running Evaluation *****\n",
      "  Num examples = 1954\n",
      "  Batch size = 8\n",
      "***** Running Evaluation *****\n",
      "  Num examples = 1954\n",
      "  Batch size = 8\n",
      "***** Running Evaluation *****\n",
      "  Num examples = 1954\n",
      "  Batch size = 8\n",
      "Saving model checkpoint to Clickbait\\checkpoint-500\n",
      "Configuration saved in Clickbait\\checkpoint-500\\config.json\n",
      "Model weights saved in Clickbait\\checkpoint-500\\pytorch_model.bin\n",
      "tokenizer config file saved in Clickbait\\checkpoint-500\\tokenizer_config.json\n",
      "Special tokens file saved in Clickbait\\checkpoint-500\\special_tokens_map.json\n",
      "***** Running Evaluation *****\n",
      "  Num examples = 1954\n",
      "  Batch size = 8\n",
      "***** Running Evaluation *****\n",
      "  Num examples = 1954\n",
      "  Batch size = 8\n",
      "***** Running Evaluation *****\n",
      "  Num examples = 1954\n",
      "  Batch size = 8\n",
      "\n",
      "\n",
      "Training completed. Do not forget to share your model on huggingface.co/models =)\n",
      "\n",
      "\n",
      "Loading best model from Clickbait\\checkpoint-500 (score: 0.0).\n"
     ]
    },
    {
     "data": {
      "text/plain": [
       "TrainOutput(global_step=650, training_loss=1.1263484778771033, metrics={'train_runtime': 93.9531, 'train_samples_per_second': 1497.257, 'train_steps_per_second': 187.157, 'total_flos': 53499154893552.0, 'train_loss': 1.1263484778771033, 'epoch': 0.3})"
      ]
     },
     "execution_count": 32,
     "metadata": {},
     "output_type": "execute_result"
    }
   ],
   "source": [
    "# faire la boucle avec le trainer pytorch\n",
    "%pdb\n",
    "trainer.train()"
   ]
  },
  {
   "cell_type": "code",
   "execution_count": null,
   "metadata": {},
   "outputs": [],
   "source": []
  }
 ],
 "metadata": {
  "interpreter": {
   "hash": "518d7075d1893c878292e2224ccc1059d061275fbe8ab229c7a260871a84e0e1"
  },
  "kernelspec": {
   "display_name": "Python 3 (ipykernel)",
   "language": "python",
   "name": "python3"
  },
  "language_info": {
   "codemirror_mode": {
    "name": "ipython",
    "version": 3
   },
   "file_extension": ".py",
   "mimetype": "text/x-python",
   "name": "python",
   "nbconvert_exporter": "python",
   "pygments_lexer": "ipython3",
   "version": "3.9.7"
  }
 },
 "nbformat": 4,
 "nbformat_minor": 4
}
