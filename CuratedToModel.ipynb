{
 "cells": [
  {
   "cell_type": "code",
   "execution_count": 1,
   "metadata": {},
   "outputs": [],
   "source": [
    "modelPath = \"Clickbait\"\n",
    "checkpoint = \"microsoft/Multilingual-MiniLM-L12-H384\"\n",
    "                                              # \"cmarkea/distilcamembert-base-sentiment\"\n",
    "                                              # \"cmarkea/distilcamembert-base\" (accuracy=0,69)\n",
    "                                              # \"camembert-base\"\n",
    "                                              # \"microsoft/Multilingual-MiniLM-L12-H384\" (accuracy=0,64)\n",
    "                                              # \"nlptown/bert-base-multilingual-uncased-sentiment\"\n",
    "                                              # \"distilbert-base-uncased-finetuned-sst-2-english\"\n",
    "                                              # \"bert-base-uncased\"\n",
    "problem_type =  \"single_label_classification\" # Valeurs possibles : \"regression\", \"single_label_classification\", \"multi_label_classification\"\n",
    "num_labels = 2                                # 5\n",
    "dataCuratedPath = \"Data/Curated\"              # Données pour tous les sites du 1er janvier 2021 au 30 avril 2021\n",
    "                                              # Données juste pour le site \"Actualités, trucs et astuces\" entre le 1er mai et le 31 juillet 2021.\n",
    "                                              # Les colonnes sont les suivantes, séparées par des \";\" :\n",
    "                                              #    Page name;Title;Publish time;People Reached;Link Clicks\n",
    "LCfraction = 'truthMean'\n",
    "inputColumn = 'postText'\n",
    "removeColumns = ['postText', 'targetTitle', 'targetDescription', 'id', 'truthMean'] # Il faut enlever les colonnes de type texte\n",
    "splitFactor = 0.2                             # Proportion de données réservées pour les tests\n",
    "push_to_hub = False\n",
    "learning_rate = 5e-5\n",
    "weight_decay=0.01"
   ]
  },
  {
   "cell_type": "code",
   "execution_count": 2,
   "metadata": {},
   "outputs": [],
   "source": [
    "import torch\n",
    "import numpy as np"
   ]
  },
  {
   "cell_type": "code",
   "execution_count": 3,
   "metadata": {},
   "outputs": [
    {
     "name": "stderr",
     "output_type": "stream",
     "text": [
      "Some weights of BertForSequenceClassification were not initialized from the model checkpoint at microsoft/Multilingual-MiniLM-L12-H384 and are newly initialized: ['classifier.weight', 'classifier.bias']\n",
      "You should probably TRAIN this model on a down-stream task to be able to use it for predictions and inference.\n"
     ]
    }
   ],
   "source": [
    "from transformers import AutoTokenizer, AutoModelForSequenceClassification\n",
    "\n",
    "tokenizer = AutoTokenizer.from_pretrained(checkpoint)\n",
    "model = AutoModelForSequenceClassification.from_pretrained(\n",
    "   checkpoint,\n",
    "   problem_type=problem_type, # on pourra enlever ce paramètre si ca marche plus\n",
    "   num_labels = num_labels)"
   ]
  },
  {
   "cell_type": "raw",
   "metadata": {
    "jupyter": {
     "outputs_hidden": true
    },
    "tags": []
   },
   "source": [
    "model"
   ]
  },
  {
   "cell_type": "raw",
   "metadata": {},
   "source": [
    "if checkpoint == \"microsoft/Multilingual-MiniLM-L12-H384\":\n",
    "    for param in model.bert.embeddings.parameters():\n",
    "        param.requires_grad = False\n",
    "    for param in model.bert.encoder.parameters():\n",
    "        param.requires_grad = False"
   ]
  },
  {
   "cell_type": "code",
   "execution_count": 4,
   "metadata": {},
   "outputs": [
    {
     "name": "stdout",
     "output_type": "stream",
     "text": [
      "{'input_ids': [0, 84602, 4, 6868, 3244, 307, 705, 2], 'attention_mask': [1, 1, 1, 1, 1, 1, 1, 1]}\n",
      "['▁Hello', ',', '▁how', '▁are', '▁you', '?']\n",
      "[0, 84602, 4, 6868, 3244, 307, 705, 2]\n",
      "[84602, 4, 6868, 3244, 307, 705]\n",
      "['<s>', '▁Bonjour', ',', '▁comment', '▁ça', '▁va', '▁?', '</s>']\n",
      "<s> Bonjour, comment ça va?</s>\n"
     ]
    }
   ],
   "source": [
    "print(tokenizer(\"Bonjour, comment ça va ?\"))\n",
    "print(tokenizer.tokenize(\"Hello, how are you?\"))\n",
    "print(tokenizer.encode(\"Bonjour, comment ça va ?\"))\n",
    "print(tokenizer.convert_tokens_to_ids(tokenizer.tokenize(\"Bonjour, comment ça va ?\")))\n",
    "print(tokenizer.convert_ids_to_tokens(tokenizer.encode(\"Bonjour, comment ça va ?\")))\n",
    "print(tokenizer.decode(tokenizer.encode(\"Bonjour, comment ça va ?\")))"
   ]
  },
  {
   "cell_type": "code",
   "execution_count": 5,
   "metadata": {},
   "outputs": [],
   "source": [
    "import datasets as ds"
   ]
  },
  {
   "cell_type": "code",
   "execution_count": 6,
   "metadata": {},
   "outputs": [],
   "source": [
    "curated = ds.load_from_disk(dataCuratedPath)"
   ]
  },
  {
   "cell_type": "code",
   "execution_count": 7,
   "metadata": {
    "tags": []
   },
   "outputs": [
    {
     "data": {
      "text/html": [
       "<div>\n",
       "<style scoped>\n",
       "    .dataframe tbody tr th:only-of-type {\n",
       "        vertical-align: middle;\n",
       "    }\n",
       "\n",
       "    .dataframe tbody tr th {\n",
       "        vertical-align: top;\n",
       "    }\n",
       "\n",
       "    .dataframe thead th {\n",
       "        text-align: right;\n",
       "    }\n",
       "</style>\n",
       "<table border=\"1\" class=\"dataframe\">\n",
       "  <thead>\n",
       "    <tr style=\"text-align: right;\">\n",
       "      <th></th>\n",
       "      <th>postText</th>\n",
       "      <th>targetTitle</th>\n",
       "      <th>targetDescription</th>\n",
       "      <th>truthMean</th>\n",
       "      <th>id</th>\n",
       "    </tr>\n",
       "  </thead>\n",
       "  <tbody>\n",
       "    <tr>\n",
       "      <th>0</th>\n",
       "      <td>Panama Papers: Europol links 3,500 names to su...</td>\n",
       "      <td>Panama Papers: Europol links 3,500 names to su...</td>\n",
       "      <td>Law enforcement agency analysis uncovers proba...</td>\n",
       "      <td>0.066667</td>\n",
       "      <td>804113781580328960</td>\n",
       "    </tr>\n",
       "    <tr>\n",
       "      <th>1</th>\n",
       "      <td>The key to truly great chicken soup</td>\n",
       "      <td>A Superior Chicken Soup</td>\n",
       "      <td>For the best rendition of this American classi...</td>\n",
       "      <td>0.733333</td>\n",
       "      <td>804119512010424320</td>\n",
       "    </tr>\n",
       "    <tr>\n",
       "      <th>2</th>\n",
       "      <td>Afghan policewomen face down their fears to serve</td>\n",
       "      <td>100 Women 2016: On the frontline with the wome...</td>\n",
       "      <td>The Afghan women risking all to join the police.</td>\n",
       "      <td>0.333333</td>\n",
       "      <td>804121272967983104</td>\n",
       "    </tr>\n",
       "    <tr>\n",
       "      <th>3</th>\n",
       "      <td>Conservatives are watching less football this ...</td>\n",
       "      <td>Older Viewers and Conservatives Are Watching L...</td>\n",
       "      <td>Many factors are dragging down NFL ratings, in...</td>\n",
       "      <td>0.066667</td>\n",
       "      <td>804123103995580416</td>\n",
       "    </tr>\n",
       "    <tr>\n",
       "      <th>4</th>\n",
       "      <td>Richard Sherman weighs in on Cam Newton’s stru...</td>\n",
       "      <td>Seattle Seahawks Richard Sherman Says 'Karma' ...</td>\n",
       "      <td>Seattle Seahawks news, rumors, scores, schedul...</td>\n",
       "      <td>0.133333</td>\n",
       "      <td>804126501117435904</td>\n",
       "    </tr>\n",
       "    <tr>\n",
       "      <th>...</th>\n",
       "      <td>...</td>\n",
       "      <td>...</td>\n",
       "      <td>...</td>\n",
       "      <td>...</td>\n",
       "      <td>...</td>\n",
       "    </tr>\n",
       "    <tr>\n",
       "      <th>19533</th>\n",
       "      <td>Trump now agrees with the majority of American...</td>\n",
       "      <td>Donald Trump said being US president was harde...</td>\n",
       "      <td>Donald Trump spent a great portion of 2016 ins...</td>\n",
       "      <td>0.000000</td>\n",
       "      <td>858455355948384257</td>\n",
       "    </tr>\n",
       "    <tr>\n",
       "      <th>19534</th>\n",
       "      <td>Trump has flip-flopped. But his supporters are...</td>\n",
       "      <td>Trump Has Flip-Flopped. But His Supporters Are...</td>\n",
       "      <td>Barely over a tenth of Trump voters think his ...</td>\n",
       "      <td>0.266667</td>\n",
       "      <td>858459539296980995</td>\n",
       "    </tr>\n",
       "    <tr>\n",
       "      <th>19535</th>\n",
       "      <td>Inside North Korea's secret prisons</td>\n",
       "      <td>Inside Kim Jong-un's camps of death: Former No...</td>\n",
       "      <td>A female guard (stock photo) at a North Korean...</td>\n",
       "      <td>0.400000</td>\n",
       "      <td>858460992073863168</td>\n",
       "    </tr>\n",
       "    <tr>\n",
       "      <th>19536</th>\n",
       "      <td>UK’s response to modern slavery leaving victim...</td>\n",
       "      <td>‘Inexcusable’ failures in UK’s response to mod...</td>\n",
       "      <td>“Inexcusable” failures in the UK’s system for ...</td>\n",
       "      <td>0.133333</td>\n",
       "      <td>858462320779026433</td>\n",
       "    </tr>\n",
       "    <tr>\n",
       "      <th>19537</th>\n",
       "      <td>Facts that will be truly upsetting to '90s girls</td>\n",
       "      <td>Facts That Will Be Truly Upsetting To '90s Girls</td>\n",
       "      <td></td>\n",
       "      <td>1.000000</td>\n",
       "      <td>858464162594172928</td>\n",
       "    </tr>\n",
       "  </tbody>\n",
       "</table>\n",
       "<p>19538 rows × 5 columns</p>\n",
       "</div>"
      ],
      "text/plain": [
       "                                                postText  \\\n",
       "0      Panama Papers: Europol links 3,500 names to su...   \n",
       "1                    The key to truly great chicken soup   \n",
       "2      Afghan policewomen face down their fears to serve   \n",
       "3      Conservatives are watching less football this ...   \n",
       "4      Richard Sherman weighs in on Cam Newton’s stru...   \n",
       "...                                                  ...   \n",
       "19533  Trump now agrees with the majority of American...   \n",
       "19534  Trump has flip-flopped. But his supporters are...   \n",
       "19535                Inside North Korea's secret prisons   \n",
       "19536  UK’s response to modern slavery leaving victim...   \n",
       "19537   Facts that will be truly upsetting to '90s girls   \n",
       "\n",
       "                                             targetTitle  \\\n",
       "0      Panama Papers: Europol links 3,500 names to su...   \n",
       "1                               A Superior Chicken Soup    \n",
       "2      100 Women 2016: On the frontline with the wome...   \n",
       "3      Older Viewers and Conservatives Are Watching L...   \n",
       "4      Seattle Seahawks Richard Sherman Says 'Karma' ...   \n",
       "...                                                  ...   \n",
       "19533  Donald Trump said being US president was harde...   \n",
       "19534  Trump Has Flip-Flopped. But His Supporters Are...   \n",
       "19535  Inside Kim Jong-un's camps of death: Former No...   \n",
       "19536  ‘Inexcusable’ failures in UK’s response to mod...   \n",
       "19537   Facts That Will Be Truly Upsetting To '90s Girls   \n",
       "\n",
       "                                       targetDescription  truthMean  \\\n",
       "0      Law enforcement agency analysis uncovers proba...   0.066667   \n",
       "1      For the best rendition of this American classi...   0.733333   \n",
       "2       The Afghan women risking all to join the police.   0.333333   \n",
       "3      Many factors are dragging down NFL ratings, in...   0.066667   \n",
       "4      Seattle Seahawks news, rumors, scores, schedul...   0.133333   \n",
       "...                                                  ...        ...   \n",
       "19533  Donald Trump spent a great portion of 2016 ins...   0.000000   \n",
       "19534  Barely over a tenth of Trump voters think his ...   0.266667   \n",
       "19535  A female guard (stock photo) at a North Korean...   0.400000   \n",
       "19536  “Inexcusable” failures in the UK’s system for ...   0.133333   \n",
       "19537                                                      1.000000   \n",
       "\n",
       "                       id  \n",
       "0      804113781580328960  \n",
       "1      804119512010424320  \n",
       "2      804121272967983104  \n",
       "3      804123103995580416  \n",
       "4      804126501117435904  \n",
       "...                   ...  \n",
       "19533  858455355948384257  \n",
       "19534  858459539296980995  \n",
       "19535  858460992073863168  \n",
       "19536  858462320779026433  \n",
       "19537  858464162594172928  \n",
       "\n",
       "[19538 rows x 5 columns]"
      ]
     },
     "execution_count": 7,
     "metadata": {},
     "output_type": "execute_result"
    }
   ],
   "source": [
    "curated.to_pandas()"
   ]
  },
  {
   "cell_type": "code",
   "execution_count": 9,
   "metadata": {},
   "outputs": [
    {
     "data": {
      "text/plain": [
       "19538"
      ]
     },
     "execution_count": 9,
     "metadata": {},
     "output_type": "execute_result"
    }
   ],
   "source": [
    "longueur= len(curated)\n",
    "longueur"
   ]
  },
  {
   "cell_type": "code",
   "execution_count": 10,
   "metadata": {},
   "outputs": [],
   "source": [
    "trie=sorted(curated[LCfraction])"
   ]
  },
  {
   "cell_type": "code",
   "execution_count": 11,
   "metadata": {},
   "outputs": [],
   "source": [
    "import matplotlib.pyplot as plt"
   ]
  },
  {
   "cell_type": "code",
   "execution_count": 12,
   "metadata": {},
   "outputs": [
    {
     "data": {
      "text/plain": [
       "[<matplotlib.lines.Line2D at 0x227c3a61040>]"
      ]
     },
     "execution_count": 12,
     "metadata": {},
     "output_type": "execute_result"
    },
    {
     "data": {
      "image/png": "[encoded data removed]",
      "text/plain": [
       "<Figure size 1872x1440 with 1 Axes>"
      ]
     },
     "metadata": {
      "needs_background": "light"
     },
     "output_type": "display_data"
    }
   ],
   "source": [
    "plt.figure(figsize=(26, 20))\n",
    "plt.title(\"Plotting 1-D array\")\n",
    "plt.xlabel(\"Ordered Title\")\n",
    "plt.ylabel(LCfraction)\n",
    "x = np.array(range(0, longueur))\n",
    "y = np.array(trie)\n",
    "plt.plot(x, y, color = \"black\", marker = \"o\", label = \"Array elements\")"
   ]
  },
  {
   "cell_type": "code",
   "execution_count": 13,
   "metadata": {},
   "outputs": [
    {
     "data": {
      "text/plain": [
       "[0.26666666664]"
      ]
     },
     "execution_count": 13,
     "metadata": {},
     "output_type": "execute_result"
    }
   ],
   "source": [
    "ncf=[None] * (num_labels-1)\n",
    "for i in range(num_labels-1):\n",
    "    ncf[i] = trie[longueur * (i+1) // num_labels]\n",
    "ncf"
   ]
  },
  {
   "cell_type": "code",
   "execution_count": 14,
   "metadata": {},
   "outputs": [],
   "source": [
    "ncf[0]=0.5"
   ]
  },
  {
   "cell_type": "code",
   "execution_count": 15,
   "metadata": {},
   "outputs": [],
   "source": [
    "def tokenize(sample):\n",
    "    tokenized_sample = tokenizer(\n",
    "            sample[inputColumn],   #  postText + \". Paru dans \" + sample[\"Page name\"], #+ \", le \" + sample[\"Publish time\"]\n",
    "            # str(int(sample[LCfraction]*100)), # on donne direct le résultat pour voir si accuracy == 1\n",
    "            #padding=True,\n",
    "            #truncation=True,\n",
    "            #max_length=30\n",
    "            )\n",
    "    fraction = sample[LCfraction]\n",
    "    \n",
    "    if num_labels == 1:\n",
    "        tokenized_sample[\"label\"] = fraction\n",
    "    else:\n",
    "        tokenized_sample[\"label\"] = next((x for x, val in enumerate(ncf) if fraction < val), num_labels-1)\n",
    "    \n",
    "    \n",
    "    # print( fraction, tokenized_sample[\"input_ids\"], tokenized_sample[\"label\"], sample[inputColumn])\n",
    "    \n",
    "    return tokenized_sample"
   ]
  },
  {
   "cell_type": "code",
   "execution_count": 16,
   "metadata": {
    "tags": []
   },
   "outputs": [
    {
     "name": "stderr",
     "output_type": "stream",
     "text": [
      "Loading cached processed dataset at Data/Curated\\cache-72f43ad15f4c6b55.arrow\n"
     ]
    }
   ],
   "source": [
    "tokenized_curated = curated.map(tokenize) #, batched=True)"
   ]
  },
  {
   "cell_type": "code",
   "execution_count": 17,
   "metadata": {},
   "outputs": [
    {
     "data": {
      "text/plain": [
       "Dataset({\n",
       "    features: ['postText', 'targetTitle', 'targetDescription', 'truthMean', 'id', 'input_ids', 'attention_mask', 'label'],\n",
       "    num_rows: 19538\n",
       "})"
      ]
     },
     "execution_count": 17,
     "metadata": {},
     "output_type": "execute_result"
    }
   ],
   "source": [
    "tokenized_curated"
   ]
  },
  {
   "cell_type": "code",
   "execution_count": 18,
   "metadata": {},
   "outputs": [
    {
     "data": {
      "text/html": [
       "<div>\n",
       "<style scoped>\n",
       "    .dataframe tbody tr th:only-of-type {\n",
       "        vertical-align: middle;\n",
       "    }\n",
       "\n",
       "    .dataframe tbody tr th {\n",
       "        vertical-align: top;\n",
       "    }\n",
       "\n",
       "    .dataframe thead th {\n",
       "        text-align: right;\n",
       "    }\n",
       "</style>\n",
       "<table border=\"1\" class=\"dataframe\">\n",
       "  <thead>\n",
       "    <tr style=\"text-align: right;\">\n",
       "      <th></th>\n",
       "      <th>truthMean</th>\n",
       "      <th>label</th>\n",
       "    </tr>\n",
       "  </thead>\n",
       "  <tbody>\n",
       "    <tr>\n",
       "      <th>count</th>\n",
       "      <td>19538.000000</td>\n",
       "      <td>19538.000000</td>\n",
       "    </tr>\n",
       "    <tr>\n",
       "      <th>mean</th>\n",
       "      <td>0.324530</td>\n",
       "      <td>0.242604</td>\n",
       "    </tr>\n",
       "    <tr>\n",
       "      <th>std</th>\n",
       "      <td>0.252824</td>\n",
       "      <td>0.428669</td>\n",
       "    </tr>\n",
       "    <tr>\n",
       "      <th>min</th>\n",
       "      <td>0.000000</td>\n",
       "      <td>0.000000</td>\n",
       "    </tr>\n",
       "    <tr>\n",
       "      <th>25%</th>\n",
       "      <td>0.133333</td>\n",
       "      <td>0.000000</td>\n",
       "    </tr>\n",
       "    <tr>\n",
       "      <th>50%</th>\n",
       "      <td>0.266667</td>\n",
       "      <td>0.000000</td>\n",
       "    </tr>\n",
       "    <tr>\n",
       "      <th>75%</th>\n",
       "      <td>0.466667</td>\n",
       "      <td>0.000000</td>\n",
       "    </tr>\n",
       "    <tr>\n",
       "      <th>max</th>\n",
       "      <td>1.000000</td>\n",
       "      <td>1.000000</td>\n",
       "    </tr>\n",
       "  </tbody>\n",
       "</table>\n",
       "</div>"
      ],
      "text/plain": [
       "          truthMean         label\n",
       "count  19538.000000  19538.000000\n",
       "mean       0.324530      0.242604\n",
       "std        0.252824      0.428669\n",
       "min        0.000000      0.000000\n",
       "25%        0.133333      0.000000\n",
       "50%        0.266667      0.000000\n",
       "75%        0.466667      0.000000\n",
       "max        1.000000      1.000000"
      ]
     },
     "execution_count": 18,
     "metadata": {},
     "output_type": "execute_result"
    }
   ],
   "source": [
    "tokenized_curated.to_pandas().describe()"
   ]
  },
  {
   "cell_type": "code",
   "execution_count": 19,
   "metadata": {},
   "outputs": [
    {
     "name": "stdout",
     "output_type": "stream",
     "text": [
      "{'postText': ['Panama Papers: Europol links 3,500 names to suspected criminals', 'The key to truly great chicken soup', 'Afghan policewomen face down their fears to serve'], 'targetTitle': ['Panama Papers: Europol links 3,500 names to suspected criminals', 'A Superior Chicken Soup ', '100 Women 2016: On the frontline with the women policing the peace in Afghanistan'], 'targetDescription': ['Law enforcement agency analysis uncovers probable matches connected to terrorism, money laundering and organised crime', 'For the best rendition of this American classic, start with a whole bird.', 'The Afghan women risking all to join the police.'], 'truthMean': [0.06666666666, 0.73333333332, 0.33333333330000003], 'id': ['804113781580328960', '804119512010424320', '804121272967983104'], 'input_ids': [[0, 149674, 62323, 7, 12, 3939, 5877, 22317, 138, 4, 4283, 123055, 47, 92610, 297, 49602, 7, 2], [0, 581, 22799, 47, 87607, 6782, 143896, 101084, 2], [0, 57351, 1121, 35206, 3613, 1055, 2577, 7565, 2363, 30783, 7, 47, 21265, 2]], 'attention_mask': [[1, 1, 1, 1, 1, 1, 1, 1, 1, 1, 1, 1, 1, 1, 1, 1, 1, 1], [1, 1, 1, 1, 1, 1, 1, 1, 1], [1, 1, 1, 1, 1, 1, 1, 1, 1, 1, 1, 1, 1, 1]], 'label': [0, 1, 0]}\n"
     ]
    }
   ],
   "source": [
    "print(tokenized_curated[0:3])"
   ]
  },
  {
   "cell_type": "code",
   "execution_count": 20,
   "metadata": {},
   "outputs": [],
   "source": [
    "tokenized_curated2 = tokenized_curated.train_test_split(splitFactor) # 0.2"
   ]
  },
  {
   "cell_type": "code",
   "execution_count": 21,
   "metadata": {},
   "outputs": [
    {
     "data": {
      "text/html": [
       "<div>\n",
       "<style scoped>\n",
       "    .dataframe tbody tr th:only-of-type {\n",
       "        vertical-align: middle;\n",
       "    }\n",
       "\n",
       "    .dataframe tbody tr th {\n",
       "        vertical-align: top;\n",
       "    }\n",
       "\n",
       "    .dataframe thead th {\n",
       "        text-align: right;\n",
       "    }\n",
       "</style>\n",
       "<table border=\"1\" class=\"dataframe\">\n",
       "  <thead>\n",
       "    <tr style=\"text-align: right;\">\n",
       "      <th></th>\n",
       "      <th>postText</th>\n",
       "      <th>targetTitle</th>\n",
       "      <th>targetDescription</th>\n",
       "      <th>truthMean</th>\n",
       "      <th>id</th>\n",
       "      <th>input_ids</th>\n",
       "      <th>attention_mask</th>\n",
       "      <th>label</th>\n",
       "    </tr>\n",
       "  </thead>\n",
       "  <tbody>\n",
       "    <tr>\n",
       "      <th>0</th>\n",
       "      <td>Based Feminist vs. Zombie Galadriel</td>\n",
       "      <td>Camille Paglia Blasts Madonna’s ‘Humiliating’ ...</td>\n",
       "      <td>One of Madonna's earliest and most vocal femin...</td>\n",
       "      <td>0.466667</td>\n",
       "      <td>809408116777488384</td>\n",
       "      <td>[0, 44978, 71, 227322, 20209, 5, 154551, 30733...</td>\n",
       "      <td>[1, 1, 1, 1, 1, 1, 1, 1, 1, 1, 1]</td>\n",
       "      <td>0</td>\n",
       "    </tr>\n",
       "    <tr>\n",
       "      <th>1</th>\n",
       "      <td>Two people shot on freeway in Southern Califor...</td>\n",
       "      <td>Two people shot on Southern California freeway...</td>\n",
       "      <td>Two people shot on Southern California freeway...</td>\n",
       "      <td>0.066667</td>\n",
       "      <td>841956392445595648</td>\n",
       "      <td>[0, 32964, 3395, 51876, 98, 4092, 7514, 23, 17...</td>\n",
       "      <td>[1, 1, 1, 1, 1, 1, 1, 1, 1, 1, 1, 1, 1, 1, 1, ...</td>\n",
       "      <td>0</td>\n",
       "    </tr>\n",
       "    <tr>\n",
       "      <th>2</th>\n",
       "      <td>Texas Democrat sticks it to Republicans by pro...</td>\n",
       "      <td>Texas Democrat Sticks It to Republicans by Pro...</td>\n",
       "      <td>A Texas state rep has proposed legislation tha...</td>\n",
       "      <td>0.533333</td>\n",
       "      <td>841397210197647360</td>\n",
       "      <td>[0, 31464, 138235, 47593, 7, 442, 47, 131161, ...</td>\n",
       "      <td>[1, 1, 1, 1, 1, 1, 1, 1, 1, 1, 1, 1, 1, 1, 1, ...</td>\n",
       "      <td>1</td>\n",
       "    </tr>\n",
       "    <tr>\n",
       "      <th>3</th>\n",
       "      <td>Prominent Southern Baptist faces backlash over...</td>\n",
       "      <td>Baptist Figure Faces Backlash Over His Critici...</td>\n",
       "      <td>Russell Moore, the public face of the Southern...</td>\n",
       "      <td>0.400000</td>\n",
       "      <td>810883599813775360</td>\n",
       "      <td>[0, 1250, 7732, 18, 174715, 171403, 2577, 7, 4...</td>\n",
       "      <td>[1, 1, 1, 1, 1, 1, 1, 1, 1, 1, 1, 1, 1, 1, 1, ...</td>\n",
       "      <td>0</td>\n",
       "    </tr>\n",
       "    <tr>\n",
       "      <th>4</th>\n",
       "      <td></td>\n",
       "      <td>U.S. Military Preparing to Deploy Laser Weapon...</td>\n",
       "      <td>Laser weapons for planes, ships, and other veh...</td>\n",
       "      <td>0.200000</td>\n",
       "      <td>850889508103106560</td>\n",
       "      <td>[0, 2]</td>\n",
       "      <td>[1, 1]</td>\n",
       "      <td>0</td>\n",
       "    </tr>\n",
       "    <tr>\n",
       "      <th>...</th>\n",
       "      <td>...</td>\n",
       "      <td>...</td>\n",
       "      <td>...</td>\n",
       "      <td>...</td>\n",
       "      <td>...</td>\n",
       "      <td>...</td>\n",
       "      <td>...</td>\n",
       "      <td>...</td>\n",
       "    </tr>\n",
       "    <tr>\n",
       "      <th>15625</th>\n",
       "      <td>Fourteen garden villages to be built in Englan...</td>\n",
       "      <td>Fourteen garden villages to be built in Englan...</td>\n",
       "      <td>Sites for new villages include green belt land...</td>\n",
       "      <td>0.066667</td>\n",
       "      <td>815711803426697216</td>\n",
       "      <td>[0, 65056, 8927, 80583, 54427, 7, 47, 186, 883...</td>\n",
       "      <td>[1, 1, 1, 1, 1, 1, 1, 1, 1, 1, 1, 1, 1, 1, 1, ...</td>\n",
       "      <td>0</td>\n",
       "    </tr>\n",
       "    <tr>\n",
       "      <th>15626</th>\n",
       "      <td>President Trump promises a busy 'day one' on M...</td>\n",
       "      <td>President Trump Signs 3 Presidential Memorandu...</td>\n",
       "      <td>President Trump promised a busy Day One for hi...</td>\n",
       "      <td>0.400000</td>\n",
       "      <td>823484115840364544</td>\n",
       "      <td>[0, 34202, 5879, 103036, 7, 10, 86352, 242, 56...</td>\n",
       "      <td>[1, 1, 1, 1, 1, 1, 1, 1, 1, 1, 1, 1, 1, 1, 1]</td>\n",
       "      <td>0</td>\n",
       "    </tr>\n",
       "    <tr>\n",
       "      <th>15627</th>\n",
       "      <td>Samsung has had a terrible run lately except f...</td>\n",
       "      <td>Samsung made a ton of cash even though its fla...</td>\n",
       "      <td>Rising like a Phoenix from the ashes of a.... ...</td>\n",
       "      <td>0.133333</td>\n",
       "      <td>857620130276278273</td>\n",
       "      <td>[0, 8744, 1556, 1902, 10, 94176, 11675, 21, 37...</td>\n",
       "      <td>[1, 1, 1, 1, 1, 1, 1, 1, 1, 1, 1, 1, 1, 1, 1, ...</td>\n",
       "      <td>0</td>\n",
       "    </tr>\n",
       "    <tr>\n",
       "      <th>15628</th>\n",
       "      <td>Russia KNEW about Syrian gas attack in advance...</td>\n",
       "      <td>Russia KNEW about Syrian gas attack in advance...</td>\n",
       "      <td>A senior U.S. official told the Associated Pre...</td>\n",
       "      <td>0.000000</td>\n",
       "      <td>851683571052027905</td>\n",
       "      <td>[0, 49002, 100799, 111351, 1672, 51712, 19, 90...</td>\n",
       "      <td>[1, 1, 1, 1, 1, 1, 1, 1, 1, 1, 1, 1, 1, 1, 1, ...</td>\n",
       "      <td>0</td>\n",
       "    </tr>\n",
       "    <tr>\n",
       "      <th>15629</th>\n",
       "      <td>Without fail.</td>\n",
       "      <td>More Than 40 Shot, 11 Killed Over Christmas We...</td>\n",
       "      <td>More Than 40 Shot, 11 Killed Over Christmas We...</td>\n",
       "      <td>0.933333</td>\n",
       "      <td>813502085140545538</td>\n",
       "      <td>[0, 177417, 35782, 5, 2]</td>\n",
       "      <td>[1, 1, 1, 1, 1]</td>\n",
       "      <td>1</td>\n",
       "    </tr>\n",
       "  </tbody>\n",
       "</table>\n",
       "<p>15630 rows × 8 columns</p>\n",
       "</div>"
      ],
      "text/plain": [
       "                                                postText  \\\n",
       "0                    Based Feminist vs. Zombie Galadriel   \n",
       "1      Two people shot on freeway in Southern Califor...   \n",
       "2      Texas Democrat sticks it to Republicans by pro...   \n",
       "3      Prominent Southern Baptist faces backlash over...   \n",
       "4                                                          \n",
       "...                                                  ...   \n",
       "15625  Fourteen garden villages to be built in Englan...   \n",
       "15626  President Trump promises a busy 'day one' on M...   \n",
       "15627  Samsung has had a terrible run lately except f...   \n",
       "15628  Russia KNEW about Syrian gas attack in advance...   \n",
       "15629                                      Without fail.   \n",
       "\n",
       "                                             targetTitle  \\\n",
       "0      Camille Paglia Blasts Madonna’s ‘Humiliating’ ...   \n",
       "1      Two people shot on Southern California freeway...   \n",
       "2      Texas Democrat Sticks It to Republicans by Pro...   \n",
       "3      Baptist Figure Faces Backlash Over His Critici...   \n",
       "4      U.S. Military Preparing to Deploy Laser Weapon...   \n",
       "...                                                  ...   \n",
       "15625  Fourteen garden villages to be built in Englan...   \n",
       "15626  President Trump Signs 3 Presidential Memorandu...   \n",
       "15627  Samsung made a ton of cash even though its fla...   \n",
       "15628  Russia KNEW about Syrian gas attack in advance...   \n",
       "15629  More Than 40 Shot, 11 Killed Over Christmas We...   \n",
       "\n",
       "                                       targetDescription  truthMean  \\\n",
       "0      One of Madonna's earliest and most vocal femin...   0.466667   \n",
       "1      Two people shot on Southern California freeway...   0.066667   \n",
       "2      A Texas state rep has proposed legislation tha...   0.533333   \n",
       "3      Russell Moore, the public face of the Southern...   0.400000   \n",
       "4      Laser weapons for planes, ships, and other veh...   0.200000   \n",
       "...                                                  ...        ...   \n",
       "15625  Sites for new villages include green belt land...   0.066667   \n",
       "15626  President Trump promised a busy Day One for hi...   0.400000   \n",
       "15627  Rising like a Phoenix from the ashes of a.... ...   0.133333   \n",
       "15628  A senior U.S. official told the Associated Pre...   0.000000   \n",
       "15629  More Than 40 Shot, 11 Killed Over Christmas We...   0.933333   \n",
       "\n",
       "                       id                                          input_ids  \\\n",
       "0      809408116777488384  [0, 44978, 71, 227322, 20209, 5, 154551, 30733...   \n",
       "1      841956392445595648  [0, 32964, 3395, 51876, 98, 4092, 7514, 23, 17...   \n",
       "2      841397210197647360  [0, 31464, 138235, 47593, 7, 442, 47, 131161, ...   \n",
       "3      810883599813775360  [0, 1250, 7732, 18, 174715, 171403, 2577, 7, 4...   \n",
       "4      850889508103106560                                             [0, 2]   \n",
       "...                   ...                                                ...   \n",
       "15625  815711803426697216  [0, 65056, 8927, 80583, 54427, 7, 47, 186, 883...   \n",
       "15626  823484115840364544  [0, 34202, 5879, 103036, 7, 10, 86352, 242, 56...   \n",
       "15627  857620130276278273  [0, 8744, 1556, 1902, 10, 94176, 11675, 21, 37...   \n",
       "15628  851683571052027905  [0, 49002, 100799, 111351, 1672, 51712, 19, 90...   \n",
       "15629  813502085140545538                           [0, 177417, 35782, 5, 2]   \n",
       "\n",
       "                                          attention_mask  label  \n",
       "0                      [1, 1, 1, 1, 1, 1, 1, 1, 1, 1, 1]      0  \n",
       "1      [1, 1, 1, 1, 1, 1, 1, 1, 1, 1, 1, 1, 1, 1, 1, ...      0  \n",
       "2      [1, 1, 1, 1, 1, 1, 1, 1, 1, 1, 1, 1, 1, 1, 1, ...      1  \n",
       "3      [1, 1, 1, 1, 1, 1, 1, 1, 1, 1, 1, 1, 1, 1, 1, ...      0  \n",
       "4                                                 [1, 1]      0  \n",
       "...                                                  ...    ...  \n",
       "15625  [1, 1, 1, 1, 1, 1, 1, 1, 1, 1, 1, 1, 1, 1, 1, ...      0  \n",
       "15626      [1, 1, 1, 1, 1, 1, 1, 1, 1, 1, 1, 1, 1, 1, 1]      0  \n",
       "15627  [1, 1, 1, 1, 1, 1, 1, 1, 1, 1, 1, 1, 1, 1, 1, ...      0  \n",
       "15628  [1, 1, 1, 1, 1, 1, 1, 1, 1, 1, 1, 1, 1, 1, 1, ...      0  \n",
       "15629                                    [1, 1, 1, 1, 1]      1  \n",
       "\n",
       "[15630 rows x 8 columns]"
      ]
     },
     "execution_count": 21,
     "metadata": {},
     "output_type": "execute_result"
    }
   ],
   "source": [
    "tokenized_curated2['train'].to_pandas()"
   ]
  },
  {
   "cell_type": "code",
   "execution_count": 22,
   "metadata": {},
   "outputs": [],
   "source": [
    "tokenized_curated3 = tokenized_curated2.remove_columns(removeColumns)"
   ]
  },
  {
   "cell_type": "code",
   "execution_count": 23,
   "metadata": {},
   "outputs": [],
   "source": [
    "tokenized_curated4 = tokenized_curated3"
   ]
  },
  {
   "cell_type": "code",
   "execution_count": 24,
   "metadata": {},
   "outputs": [
    {
     "data": {
      "text/plain": [
       "DatasetDict({\n",
       "    train: Dataset({\n",
       "        features: ['input_ids', 'attention_mask', 'label'],\n",
       "        num_rows: 15630\n",
       "    })\n",
       "    test: Dataset({\n",
       "        features: ['input_ids', 'attention_mask', 'label'],\n",
       "        num_rows: 3908\n",
       "    })\n",
       "})"
      ]
     },
     "execution_count": 24,
     "metadata": {},
     "output_type": "execute_result"
    }
   ],
   "source": [
    "tokenized_curated4"
   ]
  },
  {
   "cell_type": "code",
   "execution_count": 25,
   "metadata": {},
   "outputs": [],
   "source": [
    "#tokenized_curated4.set_format(\"torch\")"
   ]
  },
  {
   "cell_type": "code",
   "execution_count": 26,
   "metadata": {},
   "outputs": [],
   "source": [
    "from datasets import load_metric\n",
    "from sklearn.metrics import accuracy_score, f1_score, recall_score, precision_score\n",
    "def compute_metrics(eval_preds):\n",
    "    logits, labels = eval_preds\n",
    "    if num_labels == 1:\n",
    "        metric = load_metric(\"mse\")\n",
    "        return metric.compute(predictions=logits, references=labels)\n",
    "    elif num_labels == 2:\n",
    "        predictions = np.argmax(logits, axis=-1)\n",
    "        accuracy = accuracy_score(y_true=labels, y_pred=predictions)\n",
    "#    recall = recall_score(y_true=labels, y_pred=predictions)\n",
    "#    precision = precision_score(y_true=labels, y_pred=predictions)\n",
    "        f1 = f1_score(y_true=labels, y_pred=predictions)\n",
    "    # return metric.compute(predictions=predictions, references=labels) # , average = 'weighted'\n",
    "        return {\"accuracy\": accuracy, \"f1\": f1 } #\" \"matthews_correlation\":matthews_correlation precision\": precision, \"recall\": recall, \"f1\": f1, \n",
    "    else:\n",
    "        predictions = np.argmax(logits, axis=-1)\n",
    "        metric = load_metric(\"matthews_correlation\") # matthews_correlation, accuracy \"glue\", \"mrpc\") # , \"sst2\") #  stsb de la ouatte de phoque\n",
    "        matthews_correlation = metric.compute(predictions=predictions, references=labels)\n",
    "        # accuracy = accuracy_score(y_true=labels, y_pred=predictions)\n",
    "        # f1 = f1_score(y_true=labels, y_pred=predictions)\n",
    "        return matthews_correlation\n",
    "        # return {\"accuracy\": accuracy}.update(matthews_correlation)"
   ]
  },
  {
   "cell_type": "code",
   "execution_count": 27,
   "metadata": {},
   "outputs": [],
   "source": [
    "from transformers import TrainingArguments\n",
    "\n",
    "training_args = TrainingArguments(modelPath,\n",
    "                                  evaluation_strategy= \"steps\", # \"epoch\",\n",
    "                                  eval_steps = 50, # Evaluation and Save happens every 50 steps\n",
    "                                  save_total_limit = 5, # Only last 5 models are saved. Older ones are deleted.\n",
    "                                  num_train_epochs = 4,\n",
    "                                  optim= 'adamw_torch',\n",
    "                                  learning_rate=learning_rate,\n",
    "                                  per_device_train_batch_size = 16,\n",
    "                                  per_device_eval_batch_size = 16,\n",
    "                                  # learning_rate = 5e-4,\n",
    "                                  weight_decay=weight_decay,\n",
    "                                  push_to_hub=push_to_hub,\n",
    "                                  metric_for_best_model = 'accuracy' if num_labels == 2 else 'mse' if num_labels == 1 else 'matthews_correlation',\n",
    "                                  load_best_model_at_end=True\n",
    "                                 )"
   ]
  },
  {
   "cell_type": "code",
   "execution_count": 28,
   "metadata": {},
   "outputs": [],
   "source": [
    "from transformers import DataCollatorWithPadding\n",
    "data_collator = DataCollatorWithPadding(tokenizer)"
   ]
  },
  {
   "cell_type": "code",
   "execution_count": 29,
   "metadata": {},
   "outputs": [
    {
     "name": "stdout",
     "output_type": "stream",
     "text": [
      "{'input_ids': [[0, 44978, 71, 227322, 20209, 5, 154551, 30733, 14152, 583, 2], [0, 32964, 3395, 51876, 98, 4092, 7514, 23, 174715, 39897, 74, 17863, 669, 98, 5078, 184, 2], [0, 31464, 138235, 47593, 7, 442, 47, 131161, 7, 390, 48013, 214, 113093, 1363, 72124, 100, 453, 2], [0, 1250, 7732, 18, 174715, 171403, 2577, 7, 4420, 5544, 645, 2874, 9, 226584, 6, 116071, 2], [0, 2], [0, 80111, 12, 80799, 1274, 9248, 22799, 33946, 34515, 100, 17932, 1733, 23, 138, 21775, 74, 26073, 7, 22690, 51312, 7, 1221, 186, 128839, 5, 2], [0, 7082, 59226, 47, 14098, 145704, 157890, 1363, 32897, 242, 112, 22347, 1916, 25, 100, 166553, 2], [0, 192777, 8, 25500, 7, 1831, 2256, 13918, 237, 85853, 15595, 21161, 150631, 502, 372, 129745, 7, 2], [0, 11249, 11329, 7, 5809, 98834, 20650, 935, 11969, 3443, 53, 4343, 1829, 1374, 187001, 84511, 329, 2], [0, 33287, 1507, 87180, 8129, 5809, 186, 109133, 47, 15700, 31913, 23, 41640, 2], [0, 77987, 83, 16940, 68772, 116172, 4935, 240804, 7, 47, 27941, 7, 23, 6863, 4271, 525, 105925, 16839, 2], [0, 3293, 3095, 17721, 13892, 31, 136, 10, 1207, 83, 10, 15787, 177074, 111, 903, 34003, 100, 70, 341, 67127, 7, 5, 2], [0, 4612, 34210, 25, 179505, 14787, 74814, 47, 1764, 3525, 59052, 23, 3731, 31754, 2], [0, 242, 568, 32599, 297, 87, 25, 71, 68, 25, 12, 1950, 15555, 214, 15426, 111, 6897, 1379, 105014, 2], [0, 6035, 67853, 9, 30474, 1515, 24911, 7, 16692, 5879, 100, 242, 309, 111800, 71, 25, 11417, 31, 23, 140654, 1672, 9098, 5, 2], [0, 241, 22553, 48322, 34202, 16692, 5879, 1221, 3249, 32692, 2], [0, 1218, 8079, 8698, 1224, 5879, 100, 242, 15182, 58838, 1884, 10, 40466, 200, 71, 25, 47, 7639, 9844, 100, 1919, 805, 13312, 2], [0, 41945, 5062, 22556, 9, 2940, 9, 148477, 20929, 111, 2356, 5753, 6406, 2], [0, 242, 156673, 35414, 25, 122273, 7, 1632, 111, 6863, 11301, 2886, 124850, 83, 98, 70, 141559, 235079, 2], [0, 205803, 6057, 1346, 297, 52875, 98, 1119, 9, 2452, 2242, 25, 7, 242, 54936, 4755, 25, 7103, 373, 36659, 604, 5368, 47, 105556, 2856, 25842, 4, 29685, 36802, 7, 2]], 'attention_mask': [[1, 1, 1, 1, 1, 1, 1, 1, 1, 1, 1], [1, 1, 1, 1, 1, 1, 1, 1, 1, 1, 1, 1, 1, 1, 1, 1, 1], [1, 1, 1, 1, 1, 1, 1, 1, 1, 1, 1, 1, 1, 1, 1, 1, 1, 1], [1, 1, 1, 1, 1, 1, 1, 1, 1, 1, 1, 1, 1, 1, 1, 1, 1], [1, 1], [1, 1, 1, 1, 1, 1, 1, 1, 1, 1, 1, 1, 1, 1, 1, 1, 1, 1, 1, 1, 1, 1, 1, 1, 1, 1], [1, 1, 1, 1, 1, 1, 1, 1, 1, 1, 1, 1, 1, 1, 1, 1, 1], [1, 1, 1, 1, 1, 1, 1, 1, 1, 1, 1, 1, 1, 1, 1, 1, 1, 1], [1, 1, 1, 1, 1, 1, 1, 1, 1, 1, 1, 1, 1, 1, 1, 1, 1, 1], [1, 1, 1, 1, 1, 1, 1, 1, 1, 1, 1, 1, 1, 1], [1, 1, 1, 1, 1, 1, 1, 1, 1, 1, 1, 1, 1, 1, 1, 1, 1, 1, 1], [1, 1, 1, 1, 1, 1, 1, 1, 1, 1, 1, 1, 1, 1, 1, 1, 1, 1, 1, 1, 1, 1, 1], [1, 1, 1, 1, 1, 1, 1, 1, 1, 1, 1, 1, 1, 1, 1], [1, 1, 1, 1, 1, 1, 1, 1, 1, 1, 1, 1, 1, 1, 1, 1, 1, 1, 1, 1], [1, 1, 1, 1, 1, 1, 1, 1, 1, 1, 1, 1, 1, 1, 1, 1, 1, 1, 1, 1, 1, 1, 1, 1], [1, 1, 1, 1, 1, 1, 1, 1, 1, 1, 1], [1, 1, 1, 1, 1, 1, 1, 1, 1, 1, 1, 1, 1, 1, 1, 1, 1, 1, 1, 1, 1, 1, 1, 1], [1, 1, 1, 1, 1, 1, 1, 1, 1, 1, 1, 1, 1, 1], [1, 1, 1, 1, 1, 1, 1, 1, 1, 1, 1, 1, 1, 1, 1, 1, 1, 1, 1], [1, 1, 1, 1, 1, 1, 1, 1, 1, 1, 1, 1, 1, 1, 1, 1, 1, 1, 1, 1, 1, 1, 1, 1, 1, 1, 1, 1, 1, 1, 1]], 'label': [0, 0, 1, 0, 0, 0, 0, 0, 1, 0, 0, 0, 0, 0, 1, 1, 0, 0, 1, 0]}\n"
     ]
    }
   ],
   "source": [
    "print(tokenized_curated4[\"train\"][0:20])"
   ]
  },
  {
   "cell_type": "code",
   "execution_count": 30,
   "metadata": {},
   "outputs": [],
   "source": [
    "from transformers import Trainer\n",
    "from transformers import EarlyStoppingCallback\n",
    "\n",
    "trainer = Trainer(model,\n",
    "                  training_args,\n",
    "                  train_dataset=tokenized_curated4[\"train\"],\n",
    "                  eval_dataset=tokenized_curated4[\"test\"],\n",
    "                  data_collator=data_collator,\n",
    "                  tokenizer=tokenizer,\n",
    "                  compute_metrics = compute_metrics,\n",
    "                  callbacks = [EarlyStoppingCallback(early_stopping_patience=3)], #3\n",
    "                  # optimizers=(torch.optim.AdamW, torch.optim.lr_scheduler.LambdaLR) \n",
    "                 )"
   ]
  },
  {
   "cell_type": "code",
   "execution_count": 31,
   "metadata": {
    "tags": []
   },
   "outputs": [
    {
     "name": "stderr",
     "output_type": "stream",
     "text": [
      "***** Running training *****\n",
      "  Num examples = 15630\n",
      "  Num Epochs = 4\n",
      "  Instantaneous batch size per device = 16\n",
      "  Total train batch size (w. parallel, distributed & accumulation) = 16\n",
      "  Gradient Accumulation steps = 1\n",
      "  Total optimization steps = 3908\n"
     ]
    },
    {
     "data": {
      "text/html": [
       "\n",
       "    <div>\n",
       "      \n",
       "      <progress value='650' max='3908' style='width:300px; height:20px; vertical-align: middle;'></progress>\n",
       "      [ 650/3908 02:07 < 10:42, 5.07 it/s, Epoch 0/4]\n",
       "    </div>\n",
       "    <table border=\"1\" class=\"dataframe\">\n",
       "  <thead>\n",
       " <tr style=\"text-align: left;\">\n",
       "      <th>Step</th>\n",
       "      <th>Training Loss</th>\n",
       "      <th>Validation Loss</th>\n",
       "      <th>Accuracy</th>\n",
       "      <th>F1</th>\n",
       "    </tr>\n",
       "  </thead>\n",
       "  <tbody>\n",
       "    <tr>\n",
       "      <td>50</td>\n",
       "      <td>No log</td>\n",
       "      <td>0.465403</td>\n",
       "      <td>0.820368</td>\n",
       "      <td>0.472180</td>\n",
       "    </tr>\n",
       "    <tr>\n",
       "      <td>100</td>\n",
       "      <td>No log</td>\n",
       "      <td>0.526539</td>\n",
       "      <td>0.791965</td>\n",
       "      <td>0.296104</td>\n",
       "    </tr>\n",
       "    <tr>\n",
       "      <td>150</td>\n",
       "      <td>No log</td>\n",
       "      <td>0.424118</td>\n",
       "      <td>0.835466</td>\n",
       "      <td>0.551291</td>\n",
       "    </tr>\n",
       "    <tr>\n",
       "      <td>200</td>\n",
       "      <td>No log</td>\n",
       "      <td>0.431664</td>\n",
       "      <td>0.836745</td>\n",
       "      <td>0.560000</td>\n",
       "    </tr>\n",
       "    <tr>\n",
       "      <td>250</td>\n",
       "      <td>No log</td>\n",
       "      <td>0.390590</td>\n",
       "      <td>0.846725</td>\n",
       "      <td>0.708799</td>\n",
       "    </tr>\n",
       "    <tr>\n",
       "      <td>300</td>\n",
       "      <td>No log</td>\n",
       "      <td>0.416018</td>\n",
       "      <td>0.845957</td>\n",
       "      <td>0.609091</td>\n",
       "    </tr>\n",
       "    <tr>\n",
       "      <td>350</td>\n",
       "      <td>No log</td>\n",
       "      <td>0.407095</td>\n",
       "      <td>0.854657</td>\n",
       "      <td>0.669767</td>\n",
       "    </tr>\n",
       "    <tr>\n",
       "      <td>400</td>\n",
       "      <td>No log</td>\n",
       "      <td>0.373954</td>\n",
       "      <td>0.853889</td>\n",
       "      <td>0.677583</td>\n",
       "    </tr>\n",
       "    <tr>\n",
       "      <td>450</td>\n",
       "      <td>No log</td>\n",
       "      <td>0.379146</td>\n",
       "      <td>0.860287</td>\n",
       "      <td>0.681447</td>\n",
       "    </tr>\n",
       "    <tr>\n",
       "      <td>500</td>\n",
       "      <td>0.424900</td>\n",
       "      <td>0.354690</td>\n",
       "      <td>0.858751</td>\n",
       "      <td>0.699674</td>\n",
       "    </tr>\n",
       "    <tr>\n",
       "      <td>550</td>\n",
       "      <td>0.424900</td>\n",
       "      <td>0.383524</td>\n",
       "      <td>0.855169</td>\n",
       "      <td>0.654034</td>\n",
       "    </tr>\n",
       "    <tr>\n",
       "      <td>600</td>\n",
       "      <td>0.424900</td>\n",
       "      <td>0.363231</td>\n",
       "      <td>0.857472</td>\n",
       "      <td>0.669436</td>\n",
       "    </tr>\n",
       "    <tr>\n",
       "      <td>650</td>\n",
       "      <td>0.424900</td>\n",
       "      <td>0.346455</td>\n",
       "      <td>0.845701</td>\n",
       "      <td>0.707990</td>\n",
       "    </tr>\n",
       "  </tbody>\n",
       "</table><p>"
      ],
      "text/plain": [
       "<IPython.core.display.HTML object>"
      ]
     },
     "metadata": {},
     "output_type": "display_data"
    },
    {
     "name": "stderr",
     "output_type": "stream",
     "text": [
      "***** Running Evaluation *****\n",
      "  Num examples = 3908\n",
      "  Batch size = 16\n",
      "***** Running Evaluation *****\n",
      "  Num examples = 3908\n",
      "  Batch size = 16\n",
      "***** Running Evaluation *****\n",
      "  Num examples = 3908\n",
      "  Batch size = 16\n",
      "***** Running Evaluation *****\n",
      "  Num examples = 3908\n",
      "  Batch size = 16\n",
      "***** Running Evaluation *****\n",
      "  Num examples = 3908\n",
      "  Batch size = 16\n",
      "***** Running Evaluation *****\n",
      "  Num examples = 3908\n",
      "  Batch size = 16\n",
      "***** Running Evaluation *****\n",
      "  Num examples = 3908\n",
      "  Batch size = 16\n",
      "***** Running Evaluation *****\n",
      "  Num examples = 3908\n",
      "  Batch size = 16\n",
      "***** Running Evaluation *****\n",
      "  Num examples = 3908\n",
      "  Batch size = 16\n",
      "***** Running Evaluation *****\n",
      "  Num examples = 3908\n",
      "  Batch size = 16\n",
      "Saving model checkpoint to Clickbait\\checkpoint-500\n",
      "Configuration saved in Clickbait\\checkpoint-500\\config.json\n",
      "Model weights saved in Clickbait\\checkpoint-500\\pytorch_model.bin\n",
      "tokenizer config file saved in Clickbait\\checkpoint-500\\tokenizer_config.json\n",
      "Special tokens file saved in Clickbait\\checkpoint-500\\special_tokens_map.json\n",
      "***** Running Evaluation *****\n",
      "  Num examples = 3908\n",
      "  Batch size = 16\n",
      "***** Running Evaluation *****\n",
      "  Num examples = 3908\n",
      "  Batch size = 16\n",
      "***** Running Evaluation *****\n",
      "  Num examples = 3908\n",
      "  Batch size = 16\n",
      "\n",
      "\n",
      "Training completed. Do not forget to share your model on huggingface.co/models =)\n",
      "\n",
      "\n",
      "Loading best model from Clickbait\\checkpoint-500 (score: 0.8587512794268168).\n"
     ]
    },
    {
     "data": {
      "text/plain": [
       "TrainOutput(global_step=650, training_loss=0.41025582533616284, metrics={'train_runtime': 133.0028, 'train_samples_per_second': 470.065, 'train_steps_per_second': 29.383, 'total_flos': 41783896119168.0, 'train_loss': 0.41025582533616284, 'epoch': 0.67})"
      ]
     },
     "execution_count": 31,
     "metadata": {},
     "output_type": "execute_result"
    }
   ],
   "source": [
    "# faire la boucle avec le trainer pytorch\n",
    "# %pdb\n",
    "trainer.train()"
   ]
  },
  {
   "cell_type": "code",
   "execution_count": 32,
   "metadata": {},
   "outputs": [
    {
     "name": "stderr",
     "output_type": "stream",
     "text": [
      "***** Running Evaluation *****\n",
      "  Num examples = 3908\n",
      "  Batch size = 16\n"
     ]
    },
    {
     "data": {
      "text/html": [
       "\n",
       "    <div>\n",
       "      \n",
       "      <progress value='490' max='245' style='width:300px; height:20px; vertical-align: middle;'></progress>\n",
       "      [245/245 00:20]\n",
       "    </div>\n",
       "    "
      ],
      "text/plain": [
       "<IPython.core.display.HTML object>"
      ]
     },
     "metadata": {},
     "output_type": "display_data"
    },
    {
     "data": {
      "text/plain": [
       "{'eval_loss': 0.3546901047229767,\n",
       " 'eval_accuracy': 0.8587512794268168,\n",
       " 'eval_f1': 0.6996735582154515,\n",
       " 'eval_runtime': 4.8841,\n",
       " 'eval_samples_per_second': 800.155,\n",
       " 'eval_steps_per_second': 50.163,\n",
       " 'epoch': 0.67}"
      ]
     },
     "execution_count": 32,
     "metadata": {},
     "output_type": "execute_result"
    }
   ],
   "source": [
    "trainer.evaluate()"
   ]
  },
  {
   "cell_type": "code",
   "execution_count": 33,
   "metadata": {},
   "outputs": [
    {
     "name": "stderr",
     "output_type": "stream",
     "text": [
      "Configuration saved in Clickbait\\config.json\n",
      "Model weights saved in Clickbait\\pytorch_model.bin\n"
     ]
    }
   ],
   "source": [
    "# Sauver le modèle sur le disque\n",
    "model.save_pretrained(modelPath)"
   ]
  },
  {
   "cell_type": "code",
   "execution_count": 34,
   "metadata": {},
   "outputs": [
    {
     "data": {
      "text/plain": [
       "('Clickbait\\\\sentencepiece.bpe.model',)"
      ]
     },
     "execution_count": 34,
     "metadata": {},
     "output_type": "execute_result"
    }
   ],
   "source": [
    "tokenizer.save_vocabulary(modelPath)"
   ]
  },
  {
   "cell_type": "raw",
   "metadata": {},
   "source": [
    "trainer.push_to_hub()"
   ]
  },
  {
   "cell_type": "code",
   "execution_count": 35,
   "metadata": {},
   "outputs": [],
   "source": [
    "# Pour voir si on fait de l'overfitting, rien de mieux que de dessiner le graphe avec le jeu d'entrainement\n",
    "overfitting = \"test\" #  \"train\" # \"test\""
   ]
  },
  {
   "cell_type": "code",
   "execution_count": 36,
   "metadata": {},
   "outputs": [
    {
     "name": "stderr",
     "output_type": "stream",
     "text": [
      "***** Running Prediction *****\n",
      "  Num examples = 3908\n",
      "  Batch size = 16\n"
     ]
    }
   ],
   "source": [
    "model.to(torch.device(\"cuda:0\"))\n",
    "predictions = trainer.predict(tokenized_curated4[overfitting])"
   ]
  },
  {
   "cell_type": "code",
   "execution_count": 37,
   "metadata": {},
   "outputs": [
    {
     "data": {
      "text/plain": [
       "array([[ 1.2735801 , -1.340625  ],\n",
       "       [-0.3927799 ,  0.467179  ],\n",
       "       [ 1.2861173 , -1.3541358 ],\n",
       "       ...,\n",
       "       [ 1.277011  , -1.3430712 ],\n",
       "       [ 1.2831893 , -1.350172  ],\n",
       "       [-0.00211802,  0.06999502]], dtype=float32)"
      ]
     },
     "execution_count": 37,
     "metadata": {},
     "output_type": "execute_result"
    }
   ],
   "source": [
    "predictions.predictions"
   ]
  },
  {
   "cell_type": "code",
   "execution_count": 38,
   "metadata": {},
   "outputs": [
    {
     "data": {
      "text/plain": [
       "{'test_loss': 0.3546901047229767,\n",
       " 'test_accuracy': 0.8587512794268168,\n",
       " 'test_f1': 0.6996735582154515,\n",
       " 'test_runtime': 5.615,\n",
       " 'test_samples_per_second': 695.998,\n",
       " 'test_steps_per_second': 43.633}"
      ]
     },
     "execution_count": 38,
     "metadata": {},
     "output_type": "execute_result"
    }
   ],
   "source": [
    "predictions.metrics"
   ]
  },
  {
   "cell_type": "code",
   "execution_count": 39,
   "metadata": {},
   "outputs": [],
   "source": [
    "tct = tokenized_curated2[overfitting].to_pandas()"
   ]
  },
  {
   "cell_type": "code",
   "execution_count": 40,
   "metadata": {},
   "outputs": [],
   "source": [
    "if num_labels == 1:\n",
    "    tct[\"labelC\"] = predictions.predictions\n",
    "else:\n",
    "    tct[\"labelC\"] = np.argmax(predictions.predictions, axis=1)   "
   ]
  },
  {
   "cell_type": "code",
   "execution_count": 41,
   "metadata": {},
   "outputs": [],
   "source": [
    "tct = tct.sort_values(LCfraction)"
   ]
  },
  {
   "cell_type": "code",
   "execution_count": 42,
   "metadata": {},
   "outputs": [],
   "source": [
    "palette = [\"r\", \"g\", \"b\", \"c\", \"m\"]"
   ]
  },
  {
   "cell_type": "code",
   "execution_count": 43,
   "metadata": {},
   "outputs": [],
   "source": [
    "if num_labels == 1:\n",
    "    color = [val for val in tct[\"labelC\"]]\n",
    "else:\n",
    "    color = [palette[val] for val in tct[\"labelC\"]]"
   ]
  },
  {
   "cell_type": "code",
   "execution_count": 44,
   "metadata": {},
   "outputs": [
    {
     "data": {
      "text/plain": [
       "<matplotlib.collections.PathCollection at 0x2278d548760>"
      ]
     },
     "execution_count": 44,
     "metadata": {},
     "output_type": "execute_result"
    },
    {
     "data": {
      "image/png": "[encoded data removed]",
      "text/plain": [
       "<Figure size 1872x1440 with 1 Axes>"
      ]
     },
     "metadata": {
      "needs_background": "light"
     },
     "output_type": "display_data"
    }
   ],
   "source": [
    "plt.figure(figsize=(26, 20))\n",
    "plt.title(\"Plotting 1-D array\")\n",
    "plt.xlabel(\"Ordered Title\")\n",
    "plt.ylabel(LCfraction) #LCfraction\n",
    "x = np.array(range(0, tct.shape[0]))\n",
    "y = tct[LCfraction]\n",
    "plt.scatter(x, y, c = color, marker = \"o\", label = \"Array elements\")"
   ]
  },
  {
   "cell_type": "code",
   "execution_count": 45,
   "metadata": {},
   "outputs": [
    {
     "data": {
      "text/html": [
       "<div>\n",
       "<style scoped>\n",
       "    .dataframe tbody tr th:only-of-type {\n",
       "        vertical-align: middle;\n",
       "    }\n",
       "\n",
       "    .dataframe tbody tr th {\n",
       "        vertical-align: top;\n",
       "    }\n",
       "\n",
       "    .dataframe thead th {\n",
       "        text-align: right;\n",
       "    }\n",
       "</style>\n",
       "<table border=\"1\" class=\"dataframe\">\n",
       "  <thead>\n",
       "    <tr style=\"text-align: right;\">\n",
       "      <th></th>\n",
       "      <th>postText</th>\n",
       "      <th>targetTitle</th>\n",
       "      <th>targetDescription</th>\n",
       "      <th>truthMean</th>\n",
       "      <th>id</th>\n",
       "      <th>input_ids</th>\n",
       "      <th>attention_mask</th>\n",
       "      <th>label</th>\n",
       "      <th>labelC</th>\n",
       "    </tr>\n",
       "  </thead>\n",
       "  <tbody>\n",
       "    <tr>\n",
       "      <th>2922</th>\n",
       "      <td>Surprising report says the Patriots 'are not e...</td>\n",
       "      <td>Surprising report says the Patriots 'are not e...</td>\n",
       "      <td>The most desirable quarterback on the market t...</td>\n",
       "      <td>0.0</td>\n",
       "      <td>836948009879547904</td>\n",
       "      <td>[0, 8018, 22876, 214, 13416, 17378, 70, 182857...</td>\n",
       "      <td>[1, 1, 1, 1, 1, 1, 1, 1, 1, 1, 1, 1, 1, 1, 1, ...</td>\n",
       "      <td>0</td>\n",
       "      <td>0</td>\n",
       "    </tr>\n",
       "    <tr>\n",
       "      <th>2476</th>\n",
       "      <td>Derek Jeter-Jeb Bush group to purchase the Mar...</td>\n",
       "      <td>Derek Jeter, Jeb Bush Group Reportedly Wins Au...</td>\n",
       "      <td>The group of buyers led by  Derek Jeter  and J...</td>\n",
       "      <td>0.0</td>\n",
       "      <td>856957358580400128</td>\n",
       "      <td>[0, 1310, 343, 845, 720, 9, 11670, 275, 39591,...</td>\n",
       "      <td>[1, 1, 1, 1, 1, 1, 1, 1, 1, 1, 1, 1, 1, 1, 1, ...</td>\n",
       "      <td>0</td>\n",
       "      <td>0</td>\n",
       "    </tr>\n",
       "    <tr>\n",
       "      <th>2480</th>\n",
       "      <td>Chelsea Clinton joins Expedia board of directors</td>\n",
       "      <td>Chelsea Clinton joins Expedia board of directors</td>\n",
       "      <td>Chelsea Clinton joins Expedia board of directors</td>\n",
       "      <td>0.0</td>\n",
       "      <td>843369088680427520</td>\n",
       "      <td>[0, 44517, 56485, 33284, 7, 138489, 11, 45443,...</td>\n",
       "      <td>[1, 1, 1, 1, 1, 1, 1, 1, 1, 1, 1, 1]</td>\n",
       "      <td>0</td>\n",
       "      <td>0</td>\n",
       "    </tr>\n",
       "    <tr>\n",
       "      <th>994</th>\n",
       "      <td>Cambodia's Deputy PM Sok An dies aged 66, gove...</td>\n",
       "      <td>Cambodia's Deputy PM Sok An dies aged 66, gove...</td>\n",
       "      <td>Cambodia's Deputy Prime Minister Sok An, a clo...</td>\n",
       "      <td>0.0</td>\n",
       "      <td>842103593255682048</td>\n",
       "      <td>[0, 105228, 25, 7, 76677, 53, 7198, 38789, 893...</td>\n",
       "      <td>[1, 1, 1, 1, 1, 1, 1, 1, 1, 1, 1, 1, 1, 1, 1, ...</td>\n",
       "      <td>0</td>\n",
       "      <td>0</td>\n",
       "    </tr>\n",
       "    <tr>\n",
       "      <th>3761</th>\n",
       "      <td>\"We are orphans here\": Life and death in East ...</td>\n",
       "      <td>‘We Are Orphans Here’</td>\n",
       "      <td>Life and death in East Jerusalem’s Palestinian...</td>\n",
       "      <td>0.0</td>\n",
       "      <td>805138811126693888</td>\n",
       "      <td>[0, 44, 12137, 621, 707, 68743, 7, 3688, 58, 1...</td>\n",
       "      <td>[1, 1, 1, 1, 1, 1, 1, 1, 1, 1, 1, 1, 1, 1, 1, ...</td>\n",
       "      <td>0</td>\n",
       "      <td>0</td>\n",
       "    </tr>\n",
       "    <tr>\n",
       "      <th>...</th>\n",
       "      <td>...</td>\n",
       "      <td>...</td>\n",
       "      <td>...</td>\n",
       "      <td>...</td>\n",
       "      <td>...</td>\n",
       "      <td>...</td>\n",
       "      <td>...</td>\n",
       "      <td>...</td>\n",
       "      <td>...</td>\n",
       "    </tr>\n",
       "    <tr>\n",
       "      <th>2194</th>\n",
       "      <td>Oh goodie.</td>\n",
       "      <td>Erdogan: European Headscarf Ban ‘Started a Cla...</td>\n",
       "      <td>Erdogan said on Thursday that the EU's ban on ...</td>\n",
       "      <td>1.0</td>\n",
       "      <td>842774120660193280</td>\n",
       "      <td>[0, 10160, 4127, 478, 5, 2]</td>\n",
       "      <td>[1, 1, 1, 1, 1, 1]</td>\n",
       "      <td>1</td>\n",
       "      <td>1</td>\n",
       "    </tr>\n",
       "    <tr>\n",
       "      <th>3602</th>\n",
       "      <td>#ICYMI: The social media problems gripping our...</td>\n",
       "      <td>The social media problems gripping our girls</td>\n",
       "      <td>It used to be a concern only for parents of te...</td>\n",
       "      <td>1.0</td>\n",
       "      <td>851389298506997761</td>\n",
       "      <td>[0, 468, 16259, 1723, 10101, 12, 581, 2265, 24...</td>\n",
       "      <td>[1, 1, 1, 1, 1, 1, 1, 1, 1, 1, 1, 1, 1, 1, 1]</td>\n",
       "      <td>1</td>\n",
       "      <td>1</td>\n",
       "    </tr>\n",
       "    <tr>\n",
       "      <th>1565</th>\n",
       "      <td>The 3 longest flights in the world are not for...</td>\n",
       "      <td>The 3 Longest Flights In The World Are Not For...</td>\n",
       "      <td>Bring a book or five.</td>\n",
       "      <td>1.0</td>\n",
       "      <td>809808141428867072</td>\n",
       "      <td>[0, 581, 138, 4989, 525, 113014, 7, 23, 70, 89...</td>\n",
       "      <td>[1, 1, 1, 1, 1, 1, 1, 1, 1, 1, 1, 1, 1, 1, 1, ...</td>\n",
       "      <td>1</td>\n",
       "      <td>1</td>\n",
       "    </tr>\n",
       "    <tr>\n",
       "      <th>1639</th>\n",
       "      <td>Hmmmmmm.</td>\n",
       "      <td>Al Gore Visits Trump Tower Seeking ‘Areas of C...</td>\n",
       "      <td>Al Gore Visits Trump Tower Seeking ‘Areas of C...</td>\n",
       "      <td>1.0</td>\n",
       "      <td>806106007973859328</td>\n",
       "      <td>[0, 117434, 132687, 5, 2]</td>\n",
       "      <td>[1, 1, 1, 1, 1]</td>\n",
       "      <td>1</td>\n",
       "      <td>1</td>\n",
       "    </tr>\n",
       "    <tr>\n",
       "      <th>1870</th>\n",
       "      <td>24 memes that are too good for this world</td>\n",
       "      <td>24 Memes That Are Too Good For This World</td>\n",
       "      <td></td>\n",
       "      <td>1.0</td>\n",
       "      <td>810687855026651136</td>\n",
       "      <td>[0, 744, 47010, 7, 450, 621, 5792, 4127, 100, ...</td>\n",
       "      <td>[1, 1, 1, 1, 1, 1, 1, 1, 1, 1, 1, 1]</td>\n",
       "      <td>1</td>\n",
       "      <td>1</td>\n",
       "    </tr>\n",
       "  </tbody>\n",
       "</table>\n",
       "<p>3908 rows × 9 columns</p>\n",
       "</div>"
      ],
      "text/plain": [
       "                                               postText  \\\n",
       "2922  Surprising report says the Patriots 'are not e...   \n",
       "2476  Derek Jeter-Jeb Bush group to purchase the Mar...   \n",
       "2480   Chelsea Clinton joins Expedia board of directors   \n",
       "994   Cambodia's Deputy PM Sok An dies aged 66, gove...   \n",
       "3761  \"We are orphans here\": Life and death in East ...   \n",
       "...                                                 ...   \n",
       "2194                                         Oh goodie.   \n",
       "3602  #ICYMI: The social media problems gripping our...   \n",
       "1565  The 3 longest flights in the world are not for...   \n",
       "1639                                           Hmmmmmm.   \n",
       "1870          24 memes that are too good for this world   \n",
       "\n",
       "                                            targetTitle  \\\n",
       "2922  Surprising report says the Patriots 'are not e...   \n",
       "2476  Derek Jeter, Jeb Bush Group Reportedly Wins Au...   \n",
       "2480  Chelsea Clinton joins Expedia board of directors    \n",
       "994   Cambodia's Deputy PM Sok An dies aged 66, gove...   \n",
       "3761                             ‘We Are Orphans Here’    \n",
       "...                                                 ...   \n",
       "2194  Erdogan: European Headscarf Ban ‘Started a Cla...   \n",
       "3602       The social media problems gripping our girls   \n",
       "1565  The 3 Longest Flights In The World Are Not For...   \n",
       "1639  Al Gore Visits Trump Tower Seeking ‘Areas of C...   \n",
       "1870          24 Memes That Are Too Good For This World   \n",
       "\n",
       "                                      targetDescription  truthMean  \\\n",
       "2922  The most desirable quarterback on the market t...        0.0   \n",
       "2476  The group of buyers led by  Derek Jeter  and J...        0.0   \n",
       "2480   Chelsea Clinton joins Expedia board of directors        0.0   \n",
       "994   Cambodia's Deputy Prime Minister Sok An, a clo...        0.0   \n",
       "3761  Life and death in East Jerusalem’s Palestinian...        0.0   \n",
       "...                                                 ...        ...   \n",
       "2194  Erdogan said on Thursday that the EU's ban on ...        1.0   \n",
       "3602  It used to be a concern only for parents of te...        1.0   \n",
       "1565                              Bring a book or five.        1.0   \n",
       "1639  Al Gore Visits Trump Tower Seeking ‘Areas of C...        1.0   \n",
       "1870                                                           1.0   \n",
       "\n",
       "                      id                                          input_ids  \\\n",
       "2922  836948009879547904  [0, 8018, 22876, 214, 13416, 17378, 70, 182857...   \n",
       "2476  856957358580400128  [0, 1310, 343, 845, 720, 9, 11670, 275, 39591,...   \n",
       "2480  843369088680427520  [0, 44517, 56485, 33284, 7, 138489, 11, 45443,...   \n",
       "994   842103593255682048  [0, 105228, 25, 7, 76677, 53, 7198, 38789, 893...   \n",
       "3761  805138811126693888  [0, 44, 12137, 621, 707, 68743, 7, 3688, 58, 1...   \n",
       "...                  ...                                                ...   \n",
       "2194  842774120660193280                        [0, 10160, 4127, 478, 5, 2]   \n",
       "3602  851389298506997761  [0, 468, 16259, 1723, 10101, 12, 581, 2265, 24...   \n",
       "1565  809808141428867072  [0, 581, 138, 4989, 525, 113014, 7, 23, 70, 89...   \n",
       "1639  806106007973859328                          [0, 117434, 132687, 5, 2]   \n",
       "1870  810687855026651136  [0, 744, 47010, 7, 450, 621, 5792, 4127, 100, ...   \n",
       "\n",
       "                                         attention_mask  label  labelC  \n",
       "2922  [1, 1, 1, 1, 1, 1, 1, 1, 1, 1, 1, 1, 1, 1, 1, ...      0       0  \n",
       "2476  [1, 1, 1, 1, 1, 1, 1, 1, 1, 1, 1, 1, 1, 1, 1, ...      0       0  \n",
       "2480               [1, 1, 1, 1, 1, 1, 1, 1, 1, 1, 1, 1]      0       0  \n",
       "994   [1, 1, 1, 1, 1, 1, 1, 1, 1, 1, 1, 1, 1, 1, 1, ...      0       0  \n",
       "3761  [1, 1, 1, 1, 1, 1, 1, 1, 1, 1, 1, 1, 1, 1, 1, ...      0       0  \n",
       "...                                                 ...    ...     ...  \n",
       "2194                                 [1, 1, 1, 1, 1, 1]      1       1  \n",
       "3602      [1, 1, 1, 1, 1, 1, 1, 1, 1, 1, 1, 1, 1, 1, 1]      1       1  \n",
       "1565  [1, 1, 1, 1, 1, 1, 1, 1, 1, 1, 1, 1, 1, 1, 1, ...      1       1  \n",
       "1639                                    [1, 1, 1, 1, 1]      1       1  \n",
       "1870               [1, 1, 1, 1, 1, 1, 1, 1, 1, 1, 1, 1]      1       1  \n",
       "\n",
       "[3908 rows x 9 columns]"
      ]
     },
     "execution_count": 45,
     "metadata": {},
     "output_type": "execute_result"
    }
   ],
   "source": [
    "tct"
   ]
  },
  {
   "cell_type": "code",
   "execution_count": 46,
   "metadata": {},
   "outputs": [
    {
     "data": {
      "text/plain": [
       "count    3908.000000\n",
       "mean        0.223388\n",
       "std         0.416570\n",
       "min         0.000000\n",
       "25%         0.000000\n",
       "50%         0.000000\n",
       "75%         0.000000\n",
       "max         1.000000\n",
       "Name: labelC, dtype: float64"
      ]
     },
     "execution_count": 46,
     "metadata": {},
     "output_type": "execute_result"
    }
   ],
   "source": [
    "tct[\"labelC\"].describe()"
   ]
  },
  {
   "cell_type": "code",
   "execution_count": 47,
   "metadata": {},
   "outputs": [
    {
     "data": {
      "text/html": [
       "<div>\n",
       "<style scoped>\n",
       "    .dataframe tbody tr th:only-of-type {\n",
       "        vertical-align: middle;\n",
       "    }\n",
       "\n",
       "    .dataframe tbody tr th {\n",
       "        vertical-align: top;\n",
       "    }\n",
       "\n",
       "    .dataframe thead th {\n",
       "        text-align: right;\n",
       "    }\n",
       "</style>\n",
       "<table border=\"1\" class=\"dataframe\">\n",
       "  <thead>\n",
       "    <tr style=\"text-align: right;\">\n",
       "      <th></th>\n",
       "      <th>truthMean</th>\n",
       "      <th>label</th>\n",
       "      <th>labelC</th>\n",
       "    </tr>\n",
       "  </thead>\n",
       "  <tbody>\n",
       "    <tr>\n",
       "      <th>truthMean</th>\n",
       "      <td>1.000000</td>\n",
       "      <td>0.837022</td>\n",
       "      <td>0.642124</td>\n",
       "    </tr>\n",
       "    <tr>\n",
       "      <th>label</th>\n",
       "      <td>0.837022</td>\n",
       "      <td>1.000000</td>\n",
       "      <td>0.608941</td>\n",
       "    </tr>\n",
       "    <tr>\n",
       "      <th>labelC</th>\n",
       "      <td>0.642124</td>\n",
       "      <td>0.608941</td>\n",
       "      <td>1.000000</td>\n",
       "    </tr>\n",
       "  </tbody>\n",
       "</table>\n",
       "</div>"
      ],
      "text/plain": [
       "           truthMean     label    labelC\n",
       "truthMean   1.000000  0.837022  0.642124\n",
       "label       0.837022  1.000000  0.608941\n",
       "labelC      0.642124  0.608941  1.000000"
      ]
     },
     "execution_count": 47,
     "metadata": {},
     "output_type": "execute_result"
    }
   ],
   "source": [
    "tct.corr()"
   ]
  },
  {
   "cell_type": "code",
   "execution_count": 48,
   "metadata": {},
   "outputs": [],
   "source": [
    "from transformers import pipeline"
   ]
  },
  {
   "cell_type": "code",
   "execution_count": 49,
   "metadata": {},
   "outputs": [],
   "source": [
    "model.to(torch.device(\"cpu\"))\n",
    "classifier = pipeline(\"sentiment-analysis\", model=model, tokenizer=tokenizer)"
   ]
  },
  {
   "cell_type": "code",
   "execution_count": 50,
   "metadata": {},
   "outputs": [
    {
     "data": {
      "text/plain": [
       "[{'label': 'LABEL_1', 'score': 0.524410605430603}]"
      ]
     },
     "execution_count": 50,
     "metadata": {},
     "output_type": "execute_result"
    }
   ],
   "source": [
    "classifier(\"Nous sommes très heureux de vous présenter la bibliothèque 🤗 Transformers.\")"
   ]
  },
  {
   "cell_type": "code",
   "execution_count": 51,
   "metadata": {},
   "outputs": [
    {
     "name": "stderr",
     "output_type": "stream",
     "text": [
      "Disabling tokenizer parallelism, we're using DataLoader multithreading already\n"
     ]
    },
    {
     "data": {
      "text/plain": [
       "[{'label': 'LABEL_1', 'score': 0.888286292552948},\n",
       " {'label': 'LABEL_1', 'score': 0.8356009721755981}]"
      ]
     },
     "execution_count": 51,
     "metadata": {},
     "output_type": "execute_result"
    }
   ],
   "source": [
    "classifier([\"The key to truly great chicken soup\", \"La clef d'une bonne soupe au poulet\"])"
   ]
  },
  {
   "cell_type": "code",
   "execution_count": 52,
   "metadata": {},
   "outputs": [
    {
     "data": {
      "text/plain": [
       "[{'label': 'LABEL_1', 'score': 0.7792121767997742}]"
      ]
     },
     "execution_count": 52,
     "metadata": {},
     "output_type": "execute_result"
    }
   ],
   "source": [
    "classifier(\"Traité de mathématiques amusantes.\")"
   ]
  },
  {
   "cell_type": "code",
   "execution_count": 53,
   "metadata": {},
   "outputs": [
    {
     "data": {
      "text/html": [
       "<div>\n",
       "<style scoped>\n",
       "    .dataframe tbody tr th:only-of-type {\n",
       "        vertical-align: middle;\n",
       "    }\n",
       "\n",
       "    .dataframe tbody tr th {\n",
       "        vertical-align: top;\n",
       "    }\n",
       "\n",
       "    .dataframe thead th {\n",
       "        text-align: right;\n",
       "    }\n",
       "</style>\n",
       "<table border=\"1\" class=\"dataframe\">\n",
       "  <thead>\n",
       "    <tr style=\"text-align: right;\">\n",
       "      <th></th>\n",
       "      <th>postText</th>\n",
       "      <th>targetTitle</th>\n",
       "      <th>targetDescription</th>\n",
       "      <th>truthMean</th>\n",
       "      <th>id</th>\n",
       "      <th>input_ids</th>\n",
       "      <th>attention_mask</th>\n",
       "      <th>label</th>\n",
       "      <th>labelC</th>\n",
       "    </tr>\n",
       "  </thead>\n",
       "  <tbody>\n",
       "    <tr>\n",
       "      <th>1969</th>\n",
       "      <td>🙏 RIP Alan Thicke 🙏</td>\n",
       "      <td>Alan Thicke Dies at 69</td>\n",
       "      <td>&amp;#39;Growing Pains&amp;#39; star Alan Thicke has d...</td>\n",
       "      <td>0.000000</td>\n",
       "      <td>808855586414718976</td>\n",
       "      <td>[0, 6, 113612, 6, 132824, 44576, 19669, 20013,...</td>\n",
       "      <td>[1, 1, 1, 1, 1, 1, 1, 1, 1, 1, 1]</td>\n",
       "      <td>0</td>\n",
       "      <td>1</td>\n",
       "    </tr>\n",
       "    <tr>\n",
       "      <th>2097</th>\n",
       "      <td>This is what #Aleppo looked like before the wa...</td>\n",
       "      <td>This is what Aleppo looked like before the war</td>\n",
       "      <td>What the city looked like before the Syrian ci...</td>\n",
       "      <td>0.066667</td>\n",
       "      <td>810627817029386240</td>\n",
       "      <td>[0, 3293, 83, 2367, 468, 117299, 34241, 54811,...</td>\n",
       "      <td>[1, 1, 1, 1, 1, 1, 1, 1, 1, 1, 1, 1, 1, 1, 1, ...</td>\n",
       "      <td>0</td>\n",
       "      <td>1</td>\n",
       "    </tr>\n",
       "    <tr>\n",
       "      <th>1048</th>\n",
       "      <td>A look at the great Australian technology revival</td>\n",
       "      <td>Australia's Tech Underground Comes to Life</td>\n",
       "      <td>Hello World, Episode 6: Bio-hackers, Internet ...</td>\n",
       "      <td>0.066667</td>\n",
       "      <td>816072582545965056</td>\n",
       "      <td>[0, 62, 6713, 99, 70, 6782, 133836, 55556, 152...</td>\n",
       "      <td>[1, 1, 1, 1, 1, 1, 1, 1, 1, 1, 1]</td>\n",
       "      <td>0</td>\n",
       "      <td>1</td>\n",
       "    </tr>\n",
       "    <tr>\n",
       "      <th>1854</th>\n",
       "      <td>The #bible is now available for #download in B...</td>\n",
       "      <td>Bible Society of India To Launch Bhojpuri App ...</td>\n",
       "      <td>Coming Soon, A Bible App In Bhojpuri</td>\n",
       "      <td>0.066667</td>\n",
       "      <td>812988789547220992</td>\n",
       "      <td>[0, 581, 468, 964, 2661, 83, 5036, 19882, 100,...</td>\n",
       "      <td>[1, 1, 1, 1, 1, 1, 1, 1, 1, 1, 1, 1, 1, 1]</td>\n",
       "      <td>0</td>\n",
       "      <td>1</td>\n",
       "    </tr>\n",
       "    <tr>\n",
       "      <th>3423</th>\n",
       "      <td>These are the winners in this year's Sony Worl...</td>\n",
       "      <td>Sony World Photography Awards 2017: Winning ph...</td>\n",
       "      <td>The world's biggest photography competition --...</td>\n",
       "      <td>0.066667</td>\n",
       "      <td>847476647120953345</td>\n",
       "      <td>[0, 32255, 621, 70, 159690, 7, 23, 903, 6602, ...</td>\n",
       "      <td>[1, 1, 1, 1, 1, 1, 1, 1, 1, 1, 1, 1, 1, 1, 1, ...</td>\n",
       "      <td>0</td>\n",
       "      <td>1</td>\n",
       "    </tr>\n",
       "    <tr>\n",
       "      <th>...</th>\n",
       "      <td>...</td>\n",
       "      <td>...</td>\n",
       "      <td>...</td>\n",
       "      <td>...</td>\n",
       "      <td>...</td>\n",
       "      <td>...</td>\n",
       "      <td>...</td>\n",
       "      <td>...</td>\n",
       "      <td>...</td>\n",
       "    </tr>\n",
       "    <tr>\n",
       "      <th>1308</th>\n",
       "      <td>Mother gets cropped out of family photo, has f...</td>\n",
       "      <td>Mother gets cropped out of family photo, has f...</td>\n",
       "      <td>Abeera Tariq and her family all attended her c...</td>\n",
       "      <td>0.933333</td>\n",
       "      <td>813303338611642369</td>\n",
       "      <td>[0, 115217, 62163, 13081, 48398, 1810, 111, 14...</td>\n",
       "      <td>[1, 1, 1, 1, 1, 1, 1, 1, 1, 1, 1, 1, 1, 1, 1]</td>\n",
       "      <td>1</td>\n",
       "      <td>0</td>\n",
       "    </tr>\n",
       "    <tr>\n",
       "      <th>2761</th>\n",
       "      <td>Valentine's Day is a busy time for private eye...</td>\n",
       "      <td>Valentine's is a busy time for private eyes - ...</td>\n",
       "      <td>The ones who hire them AREN'T spouses who fear...</td>\n",
       "      <td>0.933333</td>\n",
       "      <td>831465480472973312</td>\n",
       "      <td>[0, 108749, 25, 7, 10013, 83, 10, 86352, 1733,...</td>\n",
       "      <td>[1, 1, 1, 1, 1, 1, 1, 1, 1, 1, 1, 1, 1, 1, 1, ...</td>\n",
       "      <td>1</td>\n",
       "      <td>0</td>\n",
       "    </tr>\n",
       "    <tr>\n",
       "      <th>3031</th>\n",
       "      <td>#CyborgTrumpProblems aims to find Donald Trump...</td>\n",
       "      <td>#CyborgTrumpProblems Aims To Find Donald Trump...</td>\n",
       "      <td>Humanity has never been his strong suit.</td>\n",
       "      <td>0.933333</td>\n",
       "      <td>818919736058740737</td>\n",
       "      <td>[0, 468, 441, 53, 10164, 226584, 223361, 7, 13...</td>\n",
       "      <td>[1, 1, 1, 1, 1, 1, 1, 1, 1, 1, 1, 1, 1, 1, 1, ...</td>\n",
       "      <td>1</td>\n",
       "      <td>0</td>\n",
       "    </tr>\n",
       "    <tr>\n",
       "      <th>3088</th>\n",
       "      <td>Humans is returning for more</td>\n",
       "      <td>Humans season 3 confirmed by Channel 4 and AMC</td>\n",
       "      <td>TV series Humans is set to continue its global...</td>\n",
       "      <td>0.933333</td>\n",
       "      <td>846806100297105408</td>\n",
       "      <td>[0, 28076, 7, 83, 30646, 214, 100, 1286, 2]</td>\n",
       "      <td>[1, 1, 1, 1, 1, 1, 1, 1, 1]</td>\n",
       "      <td>1</td>\n",
       "      <td>0</td>\n",
       "    </tr>\n",
       "    <tr>\n",
       "      <th>487</th>\n",
       "      <td>Woman branded a 'brat' for throwing son out on...</td>\n",
       "      <td>'You behaved like a spoiled brat': Mother is b...</td>\n",
       "      <td>A Mumsnet user sparked backlash  when she reve...</td>\n",
       "      <td>1.000000</td>\n",
       "      <td>813406786397044736</td>\n",
       "      <td>[0, 112857, 8796, 297, 10, 242, 108815, 25, 10...</td>\n",
       "      <td>[1, 1, 1, 1, 1, 1, 1, 1, 1, 1, 1, 1, 1, 1, 1, ...</td>\n",
       "      <td>1</td>\n",
       "      <td>0</td>\n",
       "    </tr>\n",
       "  </tbody>\n",
       "</table>\n",
       "<p>552 rows × 9 columns</p>\n",
       "</div>"
      ],
      "text/plain": [
       "                                               postText  \\\n",
       "1969                                🙏 RIP Alan Thicke 🙏   \n",
       "2097  This is what #Aleppo looked like before the wa...   \n",
       "1048  A look at the great Australian technology revival   \n",
       "1854  The #bible is now available for #download in B...   \n",
       "3423  These are the winners in this year's Sony Worl...   \n",
       "...                                                 ...   \n",
       "1308  Mother gets cropped out of family photo, has f...   \n",
       "2761  Valentine's Day is a busy time for private eye...   \n",
       "3031  #CyborgTrumpProblems aims to find Donald Trump...   \n",
       "3088                       Humans is returning for more   \n",
       "487   Woman branded a 'brat' for throwing son out on...   \n",
       "\n",
       "                                            targetTitle  \\\n",
       "1969                             Alan Thicke Dies at 69   \n",
       "2097     This is what Aleppo looked like before the war   \n",
       "1048         Australia's Tech Underground Comes to Life   \n",
       "1854  Bible Society of India To Launch Bhojpuri App ...   \n",
       "3423  Sony World Photography Awards 2017: Winning ph...   \n",
       "...                                                 ...   \n",
       "1308  Mother gets cropped out of family photo, has f...   \n",
       "2761  Valentine's is a busy time for private eyes - ...   \n",
       "3031  #CyborgTrumpProblems Aims To Find Donald Trump...   \n",
       "3088     Humans season 3 confirmed by Channel 4 and AMC   \n",
       "487   'You behaved like a spoiled brat': Mother is b...   \n",
       "\n",
       "                                      targetDescription  truthMean  \\\n",
       "1969  &#39;Growing Pains&#39; star Alan Thicke has d...   0.000000   \n",
       "2097  What the city looked like before the Syrian ci...   0.066667   \n",
       "1048  Hello World, Episode 6: Bio-hackers, Internet ...   0.066667   \n",
       "1854               Coming Soon, A Bible App In Bhojpuri   0.066667   \n",
       "3423  The world's biggest photography competition --...   0.066667   \n",
       "...                                                 ...        ...   \n",
       "1308  Abeera Tariq and her family all attended her c...   0.933333   \n",
       "2761  The ones who hire them AREN'T spouses who fear...   0.933333   \n",
       "3031           Humanity has never been his strong suit.   0.933333   \n",
       "3088  TV series Humans is set to continue its global...   0.933333   \n",
       "487   A Mumsnet user sparked backlash  when she reve...   1.000000   \n",
       "\n",
       "                      id                                          input_ids  \\\n",
       "1969  808855586414718976  [0, 6, 113612, 6, 132824, 44576, 19669, 20013,...   \n",
       "2097  810627817029386240  [0, 3293, 83, 2367, 468, 117299, 34241, 54811,...   \n",
       "1048  816072582545965056  [0, 62, 6713, 99, 70, 6782, 133836, 55556, 152...   \n",
       "1854  812988789547220992  [0, 581, 468, 964, 2661, 83, 5036, 19882, 100,...   \n",
       "3423  847476647120953345  [0, 32255, 621, 70, 159690, 7, 23, 903, 6602, ...   \n",
       "...                  ...                                                ...   \n",
       "1308  813303338611642369  [0, 115217, 62163, 13081, 48398, 1810, 111, 14...   \n",
       "2761  831465480472973312  [0, 108749, 25, 7, 10013, 83, 10, 86352, 1733,...   \n",
       "3031  818919736058740737  [0, 468, 441, 53, 10164, 226584, 223361, 7, 13...   \n",
       "3088  846806100297105408        [0, 28076, 7, 83, 30646, 214, 100, 1286, 2]   \n",
       "487   813406786397044736  [0, 112857, 8796, 297, 10, 242, 108815, 25, 10...   \n",
       "\n",
       "                                         attention_mask  label  labelC  \n",
       "1969                  [1, 1, 1, 1, 1, 1, 1, 1, 1, 1, 1]      0       1  \n",
       "2097  [1, 1, 1, 1, 1, 1, 1, 1, 1, 1, 1, 1, 1, 1, 1, ...      0       1  \n",
       "1048                  [1, 1, 1, 1, 1, 1, 1, 1, 1, 1, 1]      0       1  \n",
       "1854         [1, 1, 1, 1, 1, 1, 1, 1, 1, 1, 1, 1, 1, 1]      0       1  \n",
       "3423  [1, 1, 1, 1, 1, 1, 1, 1, 1, 1, 1, 1, 1, 1, 1, ...      0       1  \n",
       "...                                                 ...    ...     ...  \n",
       "1308      [1, 1, 1, 1, 1, 1, 1, 1, 1, 1, 1, 1, 1, 1, 1]      1       0  \n",
       "2761  [1, 1, 1, 1, 1, 1, 1, 1, 1, 1, 1, 1, 1, 1, 1, ...      1       0  \n",
       "3031  [1, 1, 1, 1, 1, 1, 1, 1, 1, 1, 1, 1, 1, 1, 1, ...      1       0  \n",
       "3088                        [1, 1, 1, 1, 1, 1, 1, 1, 1]      1       0  \n",
       "487   [1, 1, 1, 1, 1, 1, 1, 1, 1, 1, 1, 1, 1, 1, 1, ...      1       0  \n",
       "\n",
       "[552 rows x 9 columns]"
      ]
     },
     "execution_count": 53,
     "metadata": {},
     "output_type": "execute_result"
    }
   ],
   "source": [
    "tct.loc[tct.labelC != tct.label]"
   ]
  },
  {
   "cell_type": "code",
   "execution_count": 54,
   "metadata": {},
   "outputs": [
    {
     "data": {
      "text/plain": [
       "[[{'label': 'LABEL_0', 'score': 0.13696689903736115},\n",
       "  {'label': 'LABEL_1', 'score': 0.8630330562591553}]]"
      ]
     },
     "execution_count": 54,
     "metadata": {},
     "output_type": "execute_result"
    }
   ],
   "source": [
    "classifier(\"99% des gens n'arrivent pas à voir le chien sur cette image\", return_all_scores=True)"
   ]
  },
  {
   "cell_type": "code",
   "execution_count": null,
   "metadata": {},
   "outputs": [],
   "source": []
  }
 ],
 "metadata": {
  "interpreter": {
   "hash": "518d7075d1893c878292e2224ccc1059d061275fbe8ab229c7a260871a84e0e1"
  },
  "kernelspec": {
   "display_name": "Python 3 (ipykernel)",
   "language": "python",
   "name": "python3"
  },
  "language_info": {
   "codemirror_mode": {
    "name": "ipython",
    "version": 3
   },
   "file_extension": ".py",
   "mimetype": "text/x-python",
   "name": "python",
   "nbconvert_exporter": "python",
   "pygments_lexer": "ipython3",
   "version": "3.9.7"
  }
 },
 "nbformat": 4,
 "nbformat_minor": 4
}
